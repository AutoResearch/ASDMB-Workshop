{
 "cells": [
  {
   "metadata": {},
   "cell_type": "markdown",
   "source": [
    "# Dynamical System Discovery with SINDy\n",
    "> [![Open In Colab](https://colab.research.google.com/assets/colab-badge.svg)](https://colab.research.google.com/github/AutoResearch/ASDMB-Workshop/blob/main/ASDMB-book/content/practical-sessions/sindy/sindy.ipynb)\n",
    "\n",
    "Run in Colab...."
   ],
   "id": "a4a9f9dce25fa23e"
  },
  {
   "metadata": {},
   "cell_type": "markdown",
   "source": [
    "## Introduction to SINDy\n",
    "\n",
    "- Given data $\\hat{x}$ we want to find the analytical expression of the dynamical system $\\dot{x}(t) = f(x(t))$ that best explains the data.\n",
    "- For this we have mesurements of all dimensions $x_1,...,x_n$ for time points $t_1,...,t_m$\n",
    "- These can be put into a martrix\n",
    "$$\n",
    "X =\n",
    "\\begin{bmatrix}\n",
    "x_1(t_1) & x_2(t_1) & \\cdots & x_n(t_1) \\\\\n",
    "x_1(t_2) & x_2(t_2) & \\cdots & x_n(t_2) \\\\\n",
    "\\vdots   & \\vdots   &        & \\vdots   \\\\\n",
    "x_1(t_m) & x_2(t_m) & \\cdots & x_n(t_m)\n",
    "\\end{bmatrix}.\n",
    "$$\n",
    "- Using difference quotients $\\dot{x}_k(t_i) \\approx \\frac{x_k(t_{i+1}) - x_k(t_i)}{t_{i+1} - t_i}$ we can also estimate the left-hand-side of our ode and agragate all these terms into the matrix\n",
    "$$\n",
    "\\dot{X} =\n",
    "\\begin{bmatrix}\n",
    "\\dot{x}_1(t_1) & \\dot{x}_2(t_1) & \\cdots & \\dot{x}_n(t_1) \\\\\n",
    "\\dot{x}_1(t_2) & \\dot{x}_2(t_2) & \\cdots & \\dot{x}_n(t_2) \\\\\n",
    "\\vdots   & \\vdots   &        & \\vdots   \\\\\n",
    "\\dot{x}_1(t_m) & \\dot{x}_2(t_m) & \\cdots & \\dot{x}_n(t_m)\n",
    "\\end{bmatrix}.\n",
    "$$\n",
    "- We can also set up a library of possible terms, e.g. monomials of order\n",
    "\n",
    "$$\n",
    "\\Theta(X) =\n",
    "\\begin{bmatrix}\n",
    "\\mid & \\mid &        & \\mid \\\\\n",
    "\\theta_1(X) & \\theta_2(X) & \\cdots & \\theta_\\ell(X) \\\\\n",
    "\\mid & \\mid &        & \\mid\n",
    "\\end{bmatrix}.\n",
    "$$\n",
    "\n",
    "For example, if $\\theta_1(x), \\theta_2(x), \\dots, \\theta_\\ell(x)$ are monomials\n",
    "($\\theta_i(x) = x^{i-1}$), then\n",
    "\n",
    "$$\n",
    "\\theta_3(x) =\n",
    "\\begin{bmatrix}\n",
    "\\mid & \\mid & & \\mid & \\mid & & \\mid\\\\\n",
    "x_1(t)^2 & x_1(t)x_2(t) & \\cdots & x_2(t)^2 & x_2(t)x_3(t) & \\cdots & x_n(t)^2\\\\\n",
    "\\mid & \\mid & & \\mid & \\mid & & \\mid\n",
    "\\end{bmatrix},\n",
    "$$\n",
    "\n",
    "where vector products and powers are understood to be element-wise.\n",
    "\n",
    "$$\n",
    "\\Xi =\n",
    "\\begin{bmatrix}\n",
    "\\mid & \\mid & & \\mid\\\\\n",
    "\\xi_1 & \\xi_2 & \\cdots & \\xi_n\\\\\n",
    "\\mid & \\mid & & \\mid\n",
    "\\end{bmatrix}.\n",
    "$$\n",
    "\n",
    "Finally, the approximation problem underlying SINDy is\n",
    "\n",
    "$$\n",
    "\\dot{X} \\approx \\Theta(X)\\Xi.\n",
    "$$\n"
   ],
   "id": "88cd688cfb9d4de3"
  },
  {
   "metadata": {},
   "cell_type": "markdown",
   "source": [
    "### Install and Load Packages\n",
    "\n",
    "Run the cells below to install and run everything needed for the rest of the Tutorial."
   ],
   "id": "3b60fed0816ccb3c"
  },
  {
   "metadata": {},
   "cell_type": "code",
   "outputs": [],
   "execution_count": null,
   "source": [
    "# Install necessary packages if running in Colab\n",
    "!pip install pysindy matplotlib pandas numpy scipy scikit-learn\n",
    "\n",
    "import numpy as np\n",
    "import pandas as pd\n",
    "import matplotlib.pyplot as plt\n",
    "from scipy.integrate import solve_ivp\n",
    "\n",
    "from sklearn.linear_model import LinearRegression, Lasso\n",
    "import pysindy as ps"
   ],
   "id": "7fd0af78a6d8df95"
  },
  {
   "metadata": {},
   "cell_type": "markdown",
   "source": [
    "## Lotka-Volterra Model\n",
    "\n",
    "The Lotka-Volterra model, also called preditor-prey model describes the population size of a preditor population $y$ and a prey population $x$ as a mean-field model. The following set of differential equations describes the dynamics of the population sizes:\n",
    "\n",
    "\\begin{align}\n",
    "\\dot{x} &= \\alpha x - \\beta x y,\\\\\n",
    "\\dot{y} &= -\\gamma y + \\delta x y.\n",
    "\\end{align}\n",
    "\n",
    "Here the parameters have the following meaning:\n",
    "- $\\alpha$ is the per-capita growth rate of prey animals, i.e. how many new prey are born per capita and unit of time,\n",
    "- $\\beta$ is the effect of the presence of preditors on prey death rate,\n",
    "- $\\gamma$ is the per-capita death rate of the preditor population,\n",
    "- $\\delta$ is the effect of the presence of prey on the preditor growth rate.\n",
    "\n",
    "\n",
    "The cell below defines the Lotka-Volterra equations."
   ],
   "id": "6d5ad67e4d1ad1d5"
  },
  {
   "metadata": {},
   "cell_type": "code",
   "outputs": [],
   "execution_count": null,
   "source": [
    "def lotka_volterra(t, z, alpha, beta, gamma, delta):\n",
    "    \"\"\"\n",
    "    Defines the Lotka-Volterra system of differential equations.\n",
    "\n",
    "    Args:\n",
    "        t: Time (scalar).\n",
    "        z: A list or array containing the state variables [x, y].\n",
    "        alpha: Rate of prey reproduction.\n",
    "        beta: Rate of prey-predator interaction leading to prey death.\n",
    "        gamma: Rate of predator death.\n",
    "        delta: Rate of prey-predator interaction leading to predator reproduction.\n",
    "\n",
    "    Returns:\n",
    "        A NumPy array containing the derivatives [dx/dt, dy/dt].\n",
    "    \"\"\"\n",
    "    x, y = z\n",
    "    dxdt = alpha * x - beta * x * y\n",
    "    dydt = -gamma * y + delta * x * y\n",
    "    return np.array([dxdt, dydt])"
   ],
   "id": "5880d07925786d1a"
  },
  {
   "metadata": {},
   "cell_type": "markdown",
   "source": "We can use this function to generate mock data. Feel free to play around with the parameters.",
   "id": "927cc8176c03393d"
  },
  {
   "metadata": {},
   "cell_type": "code",
   "outputs": [],
   "execution_count": null,
   "source": [
    "tspan = (0, 50)\n",
    "z0 = [10, 5]\n",
    "alpha = 1.1\n",
    "beta = 0.4\n",
    "gamma = 0.2\n",
    "delta = 0.1\n",
    "t_eval = np.linspace(tspan[0], tspan[1], 500)\n",
    "\n",
    "sol = solve_ivp(\n",
    "    fun=lambda t, z: lotka_volterra(t, z, alpha, beta, gamma, delta),\n",
    "    t_span=tspan,\n",
    "    y0=z0,\n",
    "    t_eval=t_eval\n",
    ")\n",
    "\n",
    "time = sol.t\n",
    "data = sol.y.T"
   ],
   "id": "e92b89586d74b453"
  },
  {
   "metadata": {},
   "cell_type": "markdown",
   "source": "Using matplotlib we'll visualize the data.",
   "id": "a5f1cd7f71b0013f"
  },
  {
   "metadata": {},
   "cell_type": "code",
   "outputs": [],
   "execution_count": null,
   "source": [
    "plt.figure(figsize=(10, 6))\n",
    "plt.plot(time, data[:, 0], label='Prey')\n",
    "plt.plot(time, data[:, 1], label='Predator')\n",
    "plt.xlabel('Time')\n",
    "plt.ylabel('Population')\n",
    "plt.title('Lotka-Volterra Model Simulation')\n",
    "plt.legend()\n",
    "plt.show()"
   ],
   "id": "6ae69d7473fe5c7b"
  },
  {
   "metadata": {},
   "cell_type": "markdown",
   "source": [
    "### A basic SINDy\n",
    "\n",
    "Let us implement a basic SINDy ourselves. We will follow the following steps."
   ],
   "id": "471f45e602446c68"
  },
  {
   "metadata": {},
   "cell_type": "markdown",
   "source": [
    " 1. Get data (which we already did by simulating).\n",
    " 2. Compute estimated derivatives using the difference quotient $\\dot{x}(t_i) \\approx \\frac{x(t_{i+1}) - x(t_i)}{t_{i+1} - t_i}$. Make sure it has the same dimensions as our data.\n"
   ],
   "id": "92997e0e17e3a3e3"
  },
  {
   "metadata": {},
   "cell_type": "code",
   "outputs": [],
   "execution_count": null,
   "source": "Xdot_sim = ...  # TODO: calculate the difference quotient, account for array size",
   "id": "245894894c6b0860"
  },
  {
   "metadata": {},
   "cell_type": "markdown",
   "source": [
    "<details><summary>Reveal</summary>\n",
    "\n",
    "```python\n",
    "Xdot_sim = (data[1:,:] - data[:-1,:])/(time[1:] - time[:-1])[:, np.newaxis]\n",
    "Xdot_sim = np.concatenate((Xdot_sim,Xdot_sim[-2:-1,:]), axis=0)\n",
    "```\n",
    "</details>"
   ],
   "id": "ae36b436a32f72f3"
  },
  {
   "metadata": {},
   "cell_type": "code",
   "outputs": [],
   "execution_count": null,
   "source": [
    "X, Y = data[:, 0], data[:, 1]\n",
    "Theta = np.column_stack([\n",
    "      # TODO: calclulate monomes up to second order\n",
    "      # constant\n",
    "      # x\n",
    "      # y\n",
    "      # x^2\n",
    "      # xy\n",
    "      # y^2\n",
    "])\n",
    "\n",
    "feature_names = ['1', 'x', 'y', 'x^2', 'xy', 'y^2']\n"
   ],
   "id": "c077cca995e9a41"
  },
  {
   "metadata": {},
   "cell_type": "markdown",
   "source": [
    "<details><summary>Reveal</summary>\n",
    "\n",
    "```python\n",
    "Theta = np.column_stack([\n",
    "    np.ones_like(X),     # constant\n",
    "    X,                   # x\n",
    "    Y,                   # y\n",
    "    X**2,                # x^2\n",
    "    X*Y,                 # xy\n",
    "    Y**2                 # y^2\n",
    "])\n",
    "```\n",
    "</details>"
   ],
   "id": "7ded1a05db5ad17e"
  },
  {
   "metadata": {},
   "cell_type": "markdown",
   "source": "4. Least squares regression for each variable",
   "id": "2ef64d25af3f72a"
  },
  {
   "metadata": {},
   "cell_type": "code",
   "outputs": [],
   "execution_count": null,
   "source": [
    "coefs = []\n",
    "for i in range(2):  # prey and predator\n",
    "    lr = LinearRegression(fit_intercept=False)\n",
    "    lr.fit(\n",
    "        # TODO: fit basis to derivative\n",
    "    )\n",
    "\n",
    "coefs = np.array(coefs)\n",
    "\n",
    "def print_sindy(coefs, name=\"model\"):\n",
    "    print(\"-----------------------\")\n",
    "    print(name+\":\")\n",
    "    for i, var in enumerate(['Prey', 'Predator']):\n",
    "        terms = []\n",
    "        for c, name in zip(coefs[i], feature_names):\n",
    "            if c != 0:\n",
    "                terms.append(f\"{c:+.2f}*{name}\")\n",
    "        eq = \" \".join(terms)\n",
    "        print(f\"d{var}/dt = {eq}\")\n",
    "    print(\"-----------------------\")\n",
    "\n",
    "print_sindy(coefs, \"Barebones SINDy without sparsity, aka INDy\")\n",
    "\n",
    "# 5. Apply thresholding for sparsity\n",
    "threshold = ...  # Tune this threshold\n",
    "coefs[np.abs(coefs) < threshold] = 0\n",
    "\n",
    "print_sindy(coefs, \"Barebones SINDy\")\n"
   ],
   "id": "27e8e4947c29a055"
  },
  {
   "metadata": {},
   "cell_type": "markdown",
   "source": [
    "<details><summary>Reveal</summary>\n",
    "\n",
    "```python\n",
    "    lr.fit(Theta, Xdot_sim[:, i])\n",
    "    coefs.append(lr.coef_)\n",
    "\n",
    "threshold = 0.09\n",
    "```\n",
    "</details>"
   ],
   "id": "a7694572dcaa722d"
  },
  {
   "metadata": {},
   "cell_type": "markdown",
   "source": "To see if this was successful, we will simulate the inferred model and plot this model against the data.",
   "id": "100b9c768cede3c5"
  },
  {
   "metadata": {},
   "cell_type": "code",
   "outputs": [],
   "execution_count": null,
   "source": [
    "# Define the discovered system as a function\n",
    "def discovered_system(t, z, coefs, feature_names):\n",
    "    x, y = z\n",
    "    # TODO: Recreate the Theta matrix for the current state (x, y)\n",
    "\n",
    "# Simulate the discovered system\n",
    "# Use the same time points and initial conditions as the original simulation\n",
    "sol_discovered = solve_ivp(\n",
    "    # TODO: integrate discoverd system with the learned coefs\n",
    ")\n",
    "\n",
    "sim_barebones = sol_discovered.y.T"
   ],
   "id": "da0f7457ddc1fabc"
  },
  {
   "metadata": {},
   "cell_type": "markdown",
   "source": [
    "<details><summary>Reveal</summary>\n",
    "\n",
    "```python\n",
    "def discovered_system(t, z, coefs, feature_names):\n",
    "    x, y = z\n",
    "    Theta_current = np.array([1, x, y, x**2, x*y, y**2])\n",
    "    dxdt = np.dot(Theta_current, coefs[0])\n",
    "    dydt = np.dot(Theta_current, coefs[1])\n",
    "    return np.array([dxdt, dydt])\n",
    "\n",
    "\n",
    "sol_discovered = solve_ivp(\n",
    "    fun=lambda t, z: discovered_system(t, z, coefs, feature_names),\n",
    "    t_span=tspan,\n",
    "    y0=z0,\n",
    "    t_eval=t_eval\n",
    ")\n",
    "```\n",
    "</details>"
   ],
   "id": "e281f4bb01c047ab"
  },
  {
   "metadata": {},
   "cell_type": "code",
   "outputs": [],
   "execution_count": null,
   "source": [
    "plt.figure(figsize=(10, 6))\n",
    "plt.plot(time, data[:, 0], label='Prey (Original Data)')\n",
    "plt.plot(time, data[:, 1], label='Predator (Original Data)')\n",
    "plt.plot(time, sim_barebones[:, 0], \"c--\", label=\"Prey (Barebones SINDy)\", linewidth=3)\n",
    "plt.plot(time, sim_barebones[:, 1], \"m--\", label=\"Predator (Barebones SINDy)\", linewidth=3)\n",
    "plt.ylim([0, 14])\n",
    "plt.xlabel('Time')\n",
    "plt.ylabel('Population')\n",
    "plt.title('Barebones SINDy Simulation vs. Original Data')\n",
    "plt.legend()\n",
    "plt.show()"
   ],
   "id": "432a120da048d49e"
  },
  {
   "metadata": {},
   "cell_type": "markdown",
   "source": [
    "#### PySINDy\n",
    "\n",
    "We saw that our barebones SINDy implementation did infer a model very similar to the data, but not quite. So now we will try again with `PySINDy`. We will follow the same steps but using more sophisticated tools. `PySINDy` has different implementations of estimating the derivates for our data.\n",
    "We will chose `FiniteDifference` but go to the second order this time:"
   ],
   "id": "c3be7b77aba65c9a"
  },
  {
   "metadata": {},
   "cell_type": "code",
   "outputs": [],
   "execution_count": null,
   "source": "differentiation_method = ...",
   "id": "9f9d89d592151ead"
  },
  {
   "metadata": {},
   "cell_type": "markdown",
   "source": [
    "<details><summary>Reveal</summary>\n",
    "\n",
    "```python\n",
    "differentiation_method = ps.FiniteDifference(order=2)\n",
    "```\n",
    "</details>"
   ],
   "id": "cf15751be2befd2f"
  },
  {
   "metadata": {},
   "cell_type": "markdown",
   "source": "`PySINDy` also comes with predefined feature libraries. Many are possible but here we will stay with `PolynomialLibrary` to order 3.",
   "id": "383eb587da8e9117"
  },
  {
   "metadata": {},
   "cell_type": "code",
   "outputs": [],
   "execution_count": null,
   "source": "feature_library = ...",
   "id": "2c58d58daaa378ae"
  },
  {
   "metadata": {},
   "cell_type": "markdown",
   "source": [
    "<details><summary>Reveal</summary>\n",
    "\n",
    "```python\n",
    "feature_library = ps.PolynomialLibrary(degree=3)\n",
    "```\n",
    "</details>"
   ],
   "id": "23bde9687f49a1f"
  },
  {
   "metadata": {},
   "cell_type": "markdown",
   "source": "These are both higher ordered versions of what we did above. But the real advantage are the different optimizers that are implemented in `PySINDy`. For now we will use the Sequentially thresholded least squares algorithm `STLSQ` with the `threshold = 0.01`.",
   "id": "6dbf94e68483a21f"
  },
  {
   "metadata": {},
   "cell_type": "code",
   "outputs": [],
   "execution_count": null,
   "source": "optimizer = ...\n",
   "id": "fe0b790b05ca1a8f"
  },
  {
   "metadata": {},
   "cell_type": "markdown",
   "source": [
    "<details><summary>Reveal</summary>\n",
    "\n",
    "```python\n",
    "optimizer = ps.STLSQ(threshold=0.01)\n",
    "```\n",
    "</details>"
   ],
   "id": "5e837bdf27d025c4"
  },
  {
   "metadata": {},
   "cell_type": "markdown",
   "source": "Now, we put everything together into a `SINDy` model.",
   "id": "66d2d6b3c653b12a"
  },
  {
   "metadata": {},
   "cell_type": "code",
   "outputs": [],
   "execution_count": null,
   "source": [
    "model = ps.SINDy(\n",
    "    # TODO: give the model differentiation method, feature library, and and optimizer\n",
    ")"
   ],
   "id": "659756f1931b355c"
  },
  {
   "metadata": {},
   "cell_type": "markdown",
   "source": [
    "<details><summary>Reveal</summary>\n",
    "\n",
    "```python\n",
    "model = ps.SINDy(\n",
    "    differentiation_method=differentiation_method,\n",
    "    feature_library=feature_library,\n",
    "    optimizer=optimizer,\n",
    ")\n",
    "```\n",
    "</details>"
   ],
   "id": "ae89fb289c17768b"
  },
  {
   "metadata": {},
   "cell_type": "markdown",
   "source": "When fitting the model to data we can also name the variables of our ODE for nicer outputs",
   "id": "d05ae18eae34983d"
  },
  {
   "metadata": {},
   "cell_type": "code",
   "outputs": [],
   "execution_count": null,
   "source": [
    "model.fit(\n",
    "    # TODO: fit the model to the data and give the variable names\n",
    ")\n"
   ],
   "id": "80bbbdb12fec9883"
  },
  {
   "metadata": {},
   "cell_type": "markdown",
   "source": [
    "<details><summary>Reveal</summary>\n",
    "\n",
    "```python\n",
    "model.fit(\n",
    "    data,\n",
    "    t=time,\n",
    "    feature_names=[\"x\", \"y\"],\n",
    ")\n",
    "```\n",
    "</details>"
   ],
   "id": "2b5a9f90fbc6da42"
  },
  {
   "metadata": {},
   "cell_type": "markdown",
   "source": "We can now print the set of equations that `PySINDy` found for us.",
   "id": "c78083d29edd7e0b"
  },
  {
   "metadata": {},
   "cell_type": "code",
   "outputs": [],
   "execution_count": null,
   "source": "model.print()",
   "id": "267bb0f6bc2a0118"
  },
  {
   "metadata": {},
   "cell_type": "markdown",
   "source": "This closer to the ground truth than our barebones version. We can visualize by first simulating and then plotting with `matplotlib` again.",
   "id": "4b71e261266614bf"
  },
  {
   "metadata": {},
   "cell_type": "code",
   "outputs": [],
   "execution_count": null,
   "source": "sim = ...",
   "id": "1b9e13694ccadf3d"
  },
  {
   "metadata": {},
   "cell_type": "markdown",
   "source": [
    "<details><summary>Reveal</summary>\n",
    "\n",
    "```python\n",
    "sim = model.simulate(z0,t=time)\n",
    "```\n",
    "</details>"
   ],
   "id": "f68da036cfe2fda6"
  },
  {
   "metadata": {},
   "cell_type": "code",
   "outputs": [],
   "execution_count": null,
   "source": [
    "plt.figure(figsize=(10, 6))\n",
    "plt.scatter(time, data[:, 0], label='Prey')\n",
    "plt.scatter(time, data[:, 1], label='Predator')\n",
    "plt.plot(time, sim[:, 1], \"m--\", label=\"SINDy model, preditor\", linewidth=3)\n",
    "plt.plot(time, sim[:, 0], \"c--\", label=\"SINDy model, pray\", linewidth=3)\n",
    "plt.xlabel(\"x\")\n",
    "plt.ylabel(\"y\")\n",
    "plt.legend()\n",
    "plt.show()\n"
   ],
   "id": "a33e0ad01629d18c"
  },
  {
   "metadata": {},
   "cell_type": "markdown",
   "source": [
    "### FitzHugh–Nagumo\n",
    "\n",
    "The FitzHugh-Nagumo model describes the prototype of an excitable system e.g. a neuron.\n",
    "\n",
    "\\begin{align}\n",
    "\\dot{v} &= v-\\frac{v^3}{3}-w+I_\\text{ext},\\\\\n",
    "\\tau \\dot{w} &= v + a - bw.\n",
    "\\end{align}\n",
    "\n",
    "Where\n",
    "- **v** is the fast activator variable, e.g. the membrane potential\n",
    "- **w** is the slow recovery variable, e.g. the sodium channel reactivation\n",
    "- **a** controlls the excitability threshold\n",
    "- **b** controlls the coupling of the recovery back onto itself\n",
    "- $I_\\text{ext}$ is an external stimulus current\n",
    "- $\\tau$ seperates time scales of $v$ and $w$."
   ],
   "id": "c4f5004d59f79e25"
  },
  {
   "metadata": {},
   "cell_type": "code",
   "outputs": [],
   "execution_count": null,
   "source": [
    "def fitzhugh_nagumo(t, z, a, b, tau, I_ext):\n",
    "    \"\"\"\n",
    "    Defines the FitzHugh-Nagumo system of differential equations.\n",
    "\n",
    "    Args:\n",
    "        t: Time (scalar).\n",
    "        z: A list or array containing the state variables [v, w].\n",
    "        a: Parameter 'a'.\n",
    "        b: Parameter 'b'.\n",
    "        tau: Parameter 'tau'.\n",
    "        I_ext: External current term.\n",
    "\n",
    "    Returns:\n",
    "        A NumPy array containing the derivatives [dv/dt, dw/dt].\n",
    "    \"\"\"\n",
    "    v, w = z\n",
    "    dvdt = v - (v**3)/3 - w + I_ext\n",
    "    dwdt = (v + a - b*w) / tau\n",
    "    return np.array([dvdt, dwdt])\n"
   ],
   "id": "f3252d120c846c7e"
  },
  {
   "metadata": {},
   "cell_type": "markdown",
   "source": "With this set of differential equations we can generate data.",
   "id": "ea413e72bb2df0eb"
  },
  {
   "metadata": {},
   "cell_type": "code",
   "outputs": [],
   "execution_count": null,
   "source": [
    "# Standard parameter values for FitzHugh-Nagumo\n",
    "a = 0.7\n",
    "b = 0.8\n",
    "tau = 12.5\n",
    "I_ext = 0.4\n",
    "\n",
    "# Initial conditions and time span for simulation\n",
    "z0_fn = [-1.0, 1.0]\n",
    "tspan_fn = (0, 100)\n",
    "t_eval_fn = np.linspace(tspan_fn[0], tspan_fn[1], 1000)"
   ],
   "id": "6e84ae6a3d4c1edc"
  },
  {
   "metadata": {},
   "cell_type": "code",
   "outputs": [],
   "execution_count": null,
   "source": [
    "# Simulate the FitzHugh-Nagumo system\n",
    "sol_fn = solve_ivp(\n",
    "    # TODO: integrate the FitzHugh-Nagumo model and evaluate at t_eval_fn\n",
    ")\n"
   ],
   "id": "bafc6c726d743e3c"
  },
  {
   "metadata": {},
   "cell_type": "markdown",
   "source": [
    "<details><summary>Reveal</summary>\n",
    "\n",
    "```python\n",
    "sol_fn = solve_ivp(\n",
    "    fun=lambda t, z: fitzhugh_nagumo(t, z, a, b, tau, I_ext),\n",
    "    t_span=tspan_fn,\n",
    "    y0=z0_fn,\n",
    "    t_eval=t_eval_fn\n",
    ")\n",
    "\n",
    "```\n",
    "</details>"
   ],
   "id": "ab0ac45727e7ce9f"
  },
  {
   "metadata": {},
   "cell_type": "markdown",
   "source": "Real-world data has noise. So we will add a small amount of  gaussian noise to this data.",
   "id": "598df1d84e9ab988"
  },
  {
   "metadata": {},
   "cell_type": "code",
   "outputs": [],
   "execution_count": null,
   "source": [
    "\n",
    "time_fn = sol_fn.t\n",
    "data_fn = ... # TODO: Bring the data in form and add a small amount noise\n"
   ],
   "id": "f1416a0526702075"
  },
  {
   "metadata": {},
   "cell_type": "markdown",
   "source": [
    "<details><summary>Reveal</summary>\n",
    "\n",
    "```python\n",
    "data_fn = sol_fn.y.T + np.random.normal(0, 0.01, sol_fn.y.shape).T\n",
    "```\n",
    "</details>"
   ],
   "id": "754a944c7ce31d02"
  },
  {
   "metadata": {},
   "cell_type": "code",
   "outputs": [],
   "execution_count": null,
   "source": [
    "\n",
    "# You can display or plot the data here if you like\n",
    "plt.figure(figsize=(10, 6))\n",
    "plt.plot(time_fn, data_fn[:, 0], label='v (Membrane Potential)')\n",
    "plt.plot(time_fn, data_fn[:, 1], label='w (Recovery Variable)')\n",
    "plt.xlabel('Time')\n",
    "plt.ylabel('State Variable')\n",
    "plt.title('FitzHugh-Nagumo Model Simulation')\n",
    "plt.legend()\n",
    "plt.grid(True)\n",
    "plt.show()"
   ],
   "id": "51d83f12ac784eca"
  },
  {
   "metadata": {},
   "cell_type": "markdown",
   "source": [
    "#### SINDy\n",
    "\n",
    "We will set up `PySINDy` the same as before."
   ],
   "id": "c6e555b91bc1ab77"
  },
  {
   "metadata": {},
   "cell_type": "code",
   "outputs": [],
   "execution_count": null,
   "source": "feature_library_fn = ...",
   "id": "aa08746810c70518"
  },
  {
   "metadata": {},
   "cell_type": "markdown",
   "source": [
    "<details><summary>Reveal</summary>\n",
    "\n",
    "```python\n",
    "feature_library_fn = ps.PolynomialLibrary(degree=3)\n",
    "```\n",
    "</details>"
   ],
   "id": "5cbd385a8f7622e1"
  },
  {
   "metadata": {},
   "cell_type": "code",
   "outputs": [],
   "execution_count": null,
   "source": "optimizer_fn = ...",
   "id": "90a7f37eeb5b87ae"
  },
  {
   "metadata": {},
   "cell_type": "markdown",
   "source": [
    "<details><summary>Reveal</summary>\n",
    "\n",
    "```python\n",
    "optimizer_fn = ps.STLSQ(threshold=0.04)\n",
    "```\n",
    "</details>"
   ],
   "id": "99587b33c14bada3"
  },
  {
   "metadata": {},
   "cell_type": "code",
   "outputs": [],
   "execution_count": null,
   "source": "model_fn = ... # TODO: set up the model. We will reuse differentiation_method from before",
   "id": "59b175c9a6c35f01"
  },
  {
   "metadata": {},
   "cell_type": "markdown",
   "source": [
    "<details><summary>Reveal</summary>\n",
    "\n",
    "```python\n",
    "model_fn = ps.SINDy(\n",
    "    differentiation_method=differentiation_method,\n",
    "    feature_library=feature_library_fn,\n",
    "    optimizer=optimizer_fn,\n",
    ")\n",
    "```\n",
    "</details>"
   ],
   "id": "10d0efa64c266aca"
  },
  {
   "metadata": {},
   "cell_type": "code",
   "outputs": [],
   "execution_count": null,
   "source": [
    "model_fn.fit(\n",
    "    # TODO: fit the model\n",
    ")\n"
   ],
   "id": "ff3ad2ccf599acdc"
  },
  {
   "metadata": {},
   "cell_type": "markdown",
   "source": [
    "<details><summary>Reveal</summary>\n",
    "\n",
    "```python\n",
    "model_fn.fit(\n",
    "    data_fn,\n",
    "    t=time_fn,\n",
    "    feature_names=[\"v\", \"w\"],\n",
    ")\n",
    "```\n",
    "</details>"
   ],
   "id": "fc9507f0ae4bff6e"
  },
  {
   "metadata": {},
   "cell_type": "code",
   "outputs": [],
   "execution_count": null,
   "source": "model_fn.print()",
   "id": "df04e235b32a8b76"
  },
  {
   "metadata": {},
   "cell_type": "code",
   "outputs": [],
   "execution_count": null,
   "source": "sim_fn = model_fn.simulate(z0_fn,t=time_fn)",
   "id": "612a715a9efb2448"
  },
  {
   "metadata": {},
   "cell_type": "markdown",
   "source": [
    "<details><summary>Reveal</summary>\n",
    "\n",
    "```python\n",
    "Xdot_sim = (data[1:,:] - data[:-1,:])/(time[1:] - time[:-1])[:, np.newaxis]\n",
    "Xdot_sim = np.concatenate((Xdot_sim,Xdot_sim[-2:-1,:]), axis=0)\n",
    "```\n",
    "</details>"
   ],
   "id": "1638c71599f8f947"
  },
  {
   "metadata": {},
   "cell_type": "code",
   "outputs": [],
   "execution_count": null,
   "source": [
    "plt.figure(figsize=(10, 6))\n",
    "plt.plot(time_fn, data_fn[:, 0], label='v (Membrane Potential)')\n",
    "plt.plot(time_fn, data_fn[:, 1], label='w (Recovery Variable)')\n",
    "plt.plot(time_fn, sim_fn[:, 1], \"m--\", label=\"SINDy model, v\", linewidth=3)\n",
    "plt.plot(time_fn, sim_fn[:, 0], \"c--\", label=\"SINDy model, w\", linewidth=3)\n",
    "plt.xlabel('Time')\n",
    "plt.ylabel('State Variable')\n",
    "plt.title('FitzHugh-Nagumo Model Simulation')\n",
    "plt.legend()\n",
    "plt.grid(True)\n",
    "plt.show()\n"
   ],
   "id": "f9d57373fbb457ae"
  },
  {
   "metadata": {},
   "cell_type": "markdown",
   "source": [
    "#### Analyzing the results\n",
    "\n",
    "We will compare the derivatives, that we estimated from the data, with the ones SINDy found. We can save the estimated derivates by calling our `differentiation_method` on the data."
   ],
   "id": "9dfe7806585b80bf"
  },
  {
   "metadata": {},
   "cell_type": "code",
   "outputs": [],
   "execution_count": null,
   "source": "X_dot_computed = ...",
   "id": "486ba8e79d285014"
  },
  {
   "metadata": {},
   "cell_type": "markdown",
   "source": [
    "<details><summary>Reveal</summary>\n",
    "\n",
    "```python\n",
    "X_dot_computed = differentiation_method(data_fn, t = time_fn)\n",
    "```\n",
    "</details>"
   ],
   "id": "18afceca1449e947"
  },
  {
   "metadata": {},
   "cell_type": "markdown",
   "source": "Calling the `predict` method of our fitted model returns the right-hand side of the learned model.",
   "id": "724b855ff97473aa"
  },
  {
   "metadata": {},
   "cell_type": "code",
   "outputs": [],
   "execution_count": null,
   "source": "X_dot_predicted = ...",
   "id": "a402478055158ff2"
  },
  {
   "metadata": {},
   "cell_type": "markdown",
   "source": [
    "<details><summary>Reveal</summary>\n",
    "\n",
    "```python\n",
    "X_dot_predicted = model_fn.predict(data_fn)\n",
    "```\n",
    "</details>"
   ],
   "id": "fc7733091e56455"
  },
  {
   "metadata": {},
   "cell_type": "code",
   "outputs": [],
   "execution_count": null,
   "source": [
    "fig, axs = plt.subplots(data_fn.shape[1], 1, sharex=True, figsize=(7, 9))\n",
    "for i in range(data_fn.shape[1]):\n",
    "    axs[i].plot(time_fn, X_dot_computed[:, i], \"k\", label=\"numerical derivative\")\n",
    "    axs[i].plot(time_fn, X_dot_predicted[:, i], \"r--\", label=\"model prediction\")\n",
    "    axs[i].legend()\n",
    "axs[0].set(xlabel=\"t\", ylabel=r\"$\\dot v$\")\n",
    "axs[1].set(xlabel=\"t\", ylabel=r\"$\\dot w$\")\n",
    "fig.show()\n"
   ],
   "id": "7a447e7b074ed785"
  },
  {
   "metadata": {},
   "cell_type": "markdown",
   "source": [
    "#### Predictions\n",
    "\n",
    "We would also like the model to generalize to a different set of initial conditions. Let's start some place different and simulate both the ground truth and the learned model."
   ],
   "id": "3fa042c6446e5611"
  },
  {
   "metadata": {},
   "cell_type": "code",
   "outputs": [],
   "execution_count": null,
   "source": [
    "z0_pred = ...\n",
    "sol_pred = solve_ivp(\n",
    "    # TODO: integrate the FitzHugh-Nagamu model with new initial conditions\n",
    "    )\n",
    "pred_fn = ... # TODO: simulate the identified system"
   ],
   "id": "a99377e58ceeb118"
  },
  {
   "metadata": {},
   "cell_type": "markdown",
   "source": [
    "<details><summary>Reveal</summary>\n",
    "\n",
    "```python\n",
    "z0_pred = np.random.randn(2)\n",
    "sol_pred = solve_ivp(\n",
    "    fun=lambda t, z: fitzhugh_nagumo(t, z, a, b, tau, I_ext),\n",
    "    t_span=tspan_fn,\n",
    "    y0=z0_pred,\n",
    "    t_eval=time_fn)\n",
    "pred_fn = model_fn.simulate(z0_pred,t=time_fn)\n",
    "```\n",
    "</details>"
   ],
   "id": "f14b1dd640db781b"
  },
  {
   "metadata": {},
   "cell_type": "code",
   "outputs": [],
   "execution_count": null,
   "source": [
    "plt.figure(figsize=(10, 6))\n",
    "plt.plot(time_fn, sol_pred.y[0,:], label='v (Membrane Potential)')\n",
    "plt.plot(time_fn, sol_pred.y[1,:], label='w (Recovery Variable)')\n",
    "plt.plot(time_fn, pred_fn[:, 1], \"m--\", label=\"SINDy model, v\", linewidth=3)\n",
    "plt.plot(time_fn, pred_fn[:, 0], \"c--\", label=\"SINDy model, w\", linewidth=3)\n",
    "plt.xlabel('Time')\n",
    "plt.ylabel('State Variable')\n",
    "plt.title('FitzHugh-Nagumo Model Simulation')\n",
    "plt.legend()\n",
    "plt.grid(True)\n",
    "plt.show()\n"
   ],
   "id": "80787760e8d2250f"
  }
 ],
 "metadata": {
  "kernelspec": {
   "display_name": "Python 3",
   "language": "python",
   "name": "python3"
  },
  "language_info": {
   "codemirror_mode": {
    "name": "ipython",
    "version": 2
   },
   "file_extension": ".py",
   "mimetype": "text/x-python",
   "name": "python",
   "nbconvert_exporter": "python",
   "pygments_lexer": "ipython2",
   "version": "2.7.6"
  }
 },
 "nbformat": 4,
 "nbformat_minor": 5
}
