{
 "cells": [
  {
   "metadata": {},
   "cell_type": "code",
   "outputs": [],
   "execution_count": null,
   "source": [
    "# Primer\n",
    "\n",
    "The tutorial below is intended to provide quick illustrations of some of PsyNeuLink's basic and more advanced\n",
    "capabilities. They assume some experience with computational modeling and/or relevant background knowledge.\n",
    "\n",
    "*Installation and Setup:*"
   ],
   "id": "1d45245a5cb0232d"
  },
  {
   "metadata": {},
   "cell_type": "code",
   "outputs": [],
   "execution_count": null,
   "source": [
    "%%capture\n",
    "%pip install psyneulink"
   ],
   "id": "cbfe4775f49a121d"
  },
  {
   "metadata": {},
   "cell_type": "code",
   "outputs": [],
   "execution_count": null,
   "source": [
    "import psyneulink as pnl\n",
    "import numpy as np"
   ],
   "id": "113f1abfafb55cf2"
  },
  {
   "metadata": {},
   "cell_type": "markdown",
   "source": [
    "## Simple Configurations\n",
    "\n",
    "Mechanisms can be executed on their own (to gain familiarity with their operation, or for use in other Python\n",
    "applications), or linked together and run in a Composition to implement part of, or an entire model. Linking\n",
    "Mechanisms for execution can be as simple as creating them and then assigning them to a Composition in a list --\n",
    "PsyNeuLink provides the necessary Projections that connect each to the next one in the list, making reasonable\n",
    "assumptions about their connectivity. The following example creates a 3-layered 5-2-5 feedforward neural network,\n",
    "the first layer of which takes an array of length 5 as its input, and uses a `Linear` function\n",
    "(the default for a `ProcessingMechanism`), and the other two of which take 1d arrays of the specified sizes and use a\n",
    "`Logistic` function:\n",
    "\n"
   ],
   "id": "4797a4761fa919eb"
  },
  {
   "metadata": {},
   "cell_type": "code",
   "outputs": [],
   "execution_count": null,
   "source": [
    "# Construct the Mechanisms:\n",
    "input_layer = pnl.ProcessingMechanism(input_shapes=5, name=\"Input\") # We can name the Mechanisms to make them easier to identify. If we don't specify certain parameters, PsyNeuLink will use default values for them. For example, the default function for a ProcessingMechanism is Linear, so we don't need to specify it here.\n",
    "hidden_layer = pnl.ProcessingMechanism(input_shapes=2, function=pnl.Logistic, name='Hidden')\n",
    "output_layer = pnl.ProcessingMechanism(input_shapes=5, function=pnl.Logistic, name='Output')\n",
    "\n",
    "# Construct the Composition:\n",
    "my_network = pnl.Composition(pathways=[[input_layer, hidden_layer, output_layer]]) # Note that pathways expects a list of lists"
   ],
   "id": "3ebffff1aa15ef6c"
  },
  {
   "metadata": {},
   "cell_type": "markdown",
   "source": [
    "Each of the Mechanisms can be executed individually, by simply calling its `execute` method\n",
    "with an appropriately-sized input array, for example:"
   ],
   "id": "3194112aca435301"
  },
  {
   "metadata": {},
   "cell_type": "code",
   "outputs": [],
   "execution_count": null,
   "source": "output_layer.execute([0, 2.5, 10.9, 2, 7.6])",
   "id": "2ee4c6afe8f95666"
  },
  {
   "metadata": {},
   "cell_type": "markdown",
   "source": [
    "The Composition connects the Mechanisms into a pathway that form a graph, which can be shown using its show_graph method:\n",
    "\n"
   ],
   "id": "6def5f579f8dc88"
  },
  {
   "metadata": {},
   "cell_type": "code",
   "outputs": [],
   "execution_count": null,
   "source": "my_network.show_graph(output_fmt='jupyter') # The output_fmt argument specifies the format of the graph output; here we use 'jupyter' to display it inline in a Jupyter notebook.",
   "id": "657c203b15bc8c90"
  },
  {
   "metadata": {},
   "cell_type": "markdown",
   "source": [
    "Note that the Input Mechanism for the Composition is colored green (to designate it is an `INPUT` node), and its output Mechanism is colored Red (to designate it at a `OUTPUT` node).\n",
    "\n",
    "As the name of the ``show_graph()`` method suggests, Compositions are represented in PsyNeuLink as graphs, using a\n",
    "standard dependency dictionary format, so that they can also be submitted to other graph theoretic packages for\n",
    "display and/or analysis (such as [NetworkX](https://networkx.github.io) and [igraph](http://igraph.org/redirect.html).  They can also be exported as a JSON file, in a format that is currently being developed for the exchange\n",
    "of computational models in neuroscience and psychology (see `mdf` (ModECI) module in this documentation for more details)."
   ],
   "id": "4e4100d2157c719d"
  },
  {
   "metadata": {},
   "cell_type": "code",
   "outputs": [],
   "execution_count": null,
   "source": "my_network.run([1, 4.7, 3.2, 6, 2])",
   "id": "72b8381f20d26abd"
  },
  {
   "metadata": {},
   "cell_type": "markdown",
   "source": [
    "The order in which Mechanisms appear in the list of the **pathways** argument of the Composition's constructor\n",
    "determines their order in the pathway.\n",
    "\n",
    "More complicated arrangements can be created by adding nodes individually using a Composition's `add_nodes` method, and/or by creating intersecting pathways, as shown in some of the examples further below.\n",
    "\n",
    "PsyNeuLink picks sensible defaults when necessary Components are not specified. In the example above no `Projections` were specified, so PsyNeuLink automatically created the appropriate types (in this case, `MappingProjections`), and sized them appropriately to connect each pair of Mechanisms. Each Projection has a `matrix` parameter that weights the connections between the elements of the\n",
    "output of its `sender` and those of the input to its `receiver`.  Here, the default is to use a fully connected matrix (the keyword for this in PsyNeuLink is `FULL_CONNECTIVITY_MATRIX`, keywords will be explained later), that connects every element of the sender's array to every element of the receiver's array with a weight of 1. However, it is easy to specify a Projection explicitly, including its matrix, simply by inserting them in between the Mechanisms in the pathway. Here, we also show how to add a pathway with the method `add_linear_processing_pathway` instead of `pathways` argument of the Composition's constructor:\n",
    "\n",
    "**ATTENTION**:\n",
    "Here, we also recreate the mechanisms. Not doing is a common source of confusion for new users and can result in unexpected behavior. As a rule of thumb, it is best to create all the components of a Composition before adding them and not reusing Mechanisms that were already added to a Composition."
   ],
   "id": "868739296eb9ed0c"
  },
  {
   "metadata": {},
   "cell_type": "code",
   "outputs": [],
   "execution_count": null,
   "source": [
    "# Construct the Mechanisms:\n",
    "input_layer = pnl.ProcessingMechanism(input_shapes=5, name=\"Input\")\n",
    "hidden_layer = pnl.ProcessingMechanism(input_shapes=2, function=pnl.Logistic, name='Hidden')\n",
    "output_layer = pnl.ProcessingMechanism(input_shapes=5, function=pnl.Logistic, name='Output')\n",
    "\n",
    "# Construct the Projection:\n",
    "my_projection = pnl.MappingProjection(matrix=(.2 * np.random.rand(5, 2)) - .1)\n",
    "\n",
    "# Creating the Composition and adding the pathway:\n",
    "my_network = pnl.Composition()\n",
    "my_network.add_linear_processing_pathway(pathway=[input_layer, my_projection, hidden_layer, output_layer])\n",
    "\n",
    "my_network.run([1, 4.7, 3.2, 6, 2])"
   ],
   "id": "72b94caf13db8175"
  },
  {
   "metadata": {},
   "cell_type": "markdown",
   "source": [
    "The first line above creates a Projection with a 2x5 matrix of random weights constrained to be between -.1 and +.1,\n",
    "which is then inserted in the pathway between the ``input_layer`` and ``hidden_layer``. PsyNeuLink also alows to add the matrix itself instead of first creating a Projection, as shown below:"
   ],
   "id": "bbf0094ea25dc972"
  },
  {
   "metadata": {},
   "cell_type": "code",
   "outputs": [],
   "execution_count": null,
   "source": [
    "# Construct the Mechanisms:\n",
    "input_layer = pnl.ProcessingMechanism(input_shapes=5, name=\"Input\")\n",
    "hidden_layer = pnl.ProcessingMechanism(input_shapes=2, function=pnl.Logistic, name='Hidden')\n",
    "output_layer = pnl.ProcessingMechanism(input_shapes=5, function=pnl.Logistic, name='Output')\n",
    "\n",
    "# Creating the Composition and adding the pathway:\n",
    "my_network = pnl.Composition()\n",
    "my_network.add_linear_processing_pathway(pathway=[input_layer, (.2 * np.random.rand(5, 2)) - .1, hidden_layer, output_layer])\n",
    "\n",
    "my_network.run([1, 4.7, 3.2, 6, 2])"
   ],
   "id": "aa9f9436d1529b"
  },
  {
   "metadata": {},
   "cell_type": "markdown",
   "source": "PsyNeuLink is also flexible. For example, a recurrent Projection from the ``output_layer`` back to the ``hidden_layer`` can be added simply by adding another entry to the pathway:",
   "id": "1a8c2f732533982f"
  },
  {
   "metadata": {},
   "cell_type": "code",
   "outputs": [],
   "execution_count": null,
   "source": "my_network.add_linear_processing_pathway([output_layer, hidden_layer])",
   "id": "b285fcbe6ca175d1"
  },
  {
   "metadata": {},
   "cell_type": "markdown",
   "source": [
    "*Note*, PsyNeuLink does not duplicate or replace pathways. The line of code is equivalent to the following:\n",
    "```python\n",
    "my_network.add_linear_processing_pathway(pathway=[input_layer, hidden_layer, output_layer, output_layer, hidden_layer])\n",
    "```\n",
    "\n",
    "We can also explicitly add projections without defining a pathway:"
   ],
   "id": "a99720b25c4143cc"
  },
  {
   "metadata": {},
   "cell_type": "code",
   "outputs": [],
   "execution_count": null,
   "source": [
    "input_layer = pnl.ProcessingMechanism(input_shapes=5, name=\"Input\")\n",
    "hidden_layer = pnl.ProcessingMechanism(input_shapes=2, function=pnl.Logistic, name='Hidden')\n",
    "output_layer = pnl.ProcessingMechanism(input_shapes=5, function=pnl.Logistic, name='Output')\n",
    "\n",
    "my_network = pnl.Composition()\n",
    "my_network.add_linear_processing_pathway([input_layer, hidden_layer, output_layer])\n",
    "recurrent_projection = pnl.MappingProjection(sender=output_layer,\n",
    "                      receiver=hidden_layer)\n",
    "my_network.add_projection(projection=recurrent_projection)"
   ],
   "id": "b214b30357bdd309"
  },
  {
   "metadata": {},
   "cell_type": "markdown",
   "source": "Let's inspect the Composition's graph again to see the new Projection:",
   "id": "f07cec7ef7b23c60"
  },
  {
   "metadata": {},
   "cell_type": "code",
   "outputs": [],
   "execution_count": null,
   "source": "my_network.show_graph(output_fmt='jupyter')",
   "id": "c4f26422b8915a67"
  },
  {
   "metadata": {},
   "cell_type": "markdown",
   "source": "The compositions now has two output nodes which are colored red. Let's run the Composition to see how the recurrence affects the output. To make it easier to see what is going on, we change the hidden and output layer function to `Linear` and set the layer size to 2 for each layer. This means that activation is just passed through layers without any transformation:",
   "id": "a2586729ccd40388"
  },
  {
   "metadata": {},
   "cell_type": "code",
   "outputs": [],
   "execution_count": null,
   "source": [
    "input_layer = pnl.ProcessingMechanism(input_shapes=2, name=\"Input\")\n",
    "hidden_layer = pnl.ProcessingMechanism(input_shapes=2, name='Hidden')\n",
    "output_layer = pnl.ProcessingMechanism(input_shapes=2, name='Output')\n",
    "\n",
    "my_network = pnl.Composition()\n",
    "my_network.add_linear_processing_pathway([input_layer, hidden_layer, output_layer])\n",
    "recurrent_projection = pnl.MappingProjection(sender=output_layer,\n",
    "                      receiver=hidden_layer)\n",
    "my_network.add_projection(projection=recurrent_projection)"
   ],
   "id": "2898aefc07fb1730"
  },
  {
   "metadata": {},
   "cell_type": "markdown",
   "source": "Run the composition with an input of `[1, 2]` (what do you expect the output to be?):",
   "id": "d8f5a493af4be87d"
  },
  {
   "metadata": {},
   "cell_type": "code",
   "outputs": [],
   "execution_count": null,
   "source": "my_network.run([1, 2])",
   "id": "c338aff6cdb59b56"
  },
  {
   "metadata": {},
   "cell_type": "markdown",
   "source": "The output is `[1, 2]` which is the output of the output_layer:",
   "id": "8b0c582a92fe954"
  },
  {
   "metadata": {},
   "cell_type": "code",
   "outputs": [],
   "execution_count": null,
   "source": "hidden_layer.value",
   "id": "75e5c77eec9a93fe"
  },
  {
   "metadata": {},
   "cell_type": "code",
   "outputs": [],
   "execution_count": null,
   "source": "input_layer.value",
   "id": "52e786d859dcdca8"
  },
  {
   "metadata": {},
   "cell_type": "code",
   "outputs": [],
   "execution_count": null,
   "source": "output_layer.variable",
   "id": "83ed2b8015884392"
  },
  {
   "metadata": {},
   "cell_type": "code",
   "outputs": [],
   "execution_count": null,
   "source": "",
   "id": "2dc65b691d6a3f17"
  }
 ],
 "metadata": {},
 "nbformat": 5,
 "nbformat_minor": 9
}
