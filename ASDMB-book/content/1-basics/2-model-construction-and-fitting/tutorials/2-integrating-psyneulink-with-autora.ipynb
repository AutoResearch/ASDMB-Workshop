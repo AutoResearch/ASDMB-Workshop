{
 "cells": [
  {
   "metadata": {},
   "cell_type": "markdown",
   "source": "# Integrating a PsyNeuLink Model with AutoRA",
   "id": "74fd08520cb781d9"
  }
 ],
 "metadata": {
  "kernelspec": {
   "display_name": "Python 3",
   "language": "python",
   "name": "python3"
  },
  "language_info": {
   "codemirror_mode": {
    "name": "ipython",
    "version": 2
   },
   "file_extension": ".py",
   "mimetype": "text/x-python",
   "name": "python",
   "nbconvert_exporter": "python",
   "pygments_lexer": "ipython2",
   "version": "2.7.6"
  }
 },
 "nbformat": 4,
 "nbformat_minor": 5
}
