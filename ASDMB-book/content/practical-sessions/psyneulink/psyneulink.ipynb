{
 "cells": [
  {
   "metadata": {},
   "cell_type": "markdown",
   "source": [
    "# PsyNeuLink: Stroop Model\n",
    "> Colab tip: Open the left sidebar (☰)  -> **Table of Contents** to navigate this notebook.\n",
    "\n",
    "## Content\n",
    "\n",
    "- [0. Setup and Installation](#0-Setup-and-Installation)\n",
    "- [1. Basics](#1-Basics)"
   ],
   "id": "58572c75e0824082"
  },
  {
   "metadata": {},
   "cell_type": "markdown",
   "source": [
    "## 0. Setup and Installation\n",
    "\n",
    "Run this once (or whenever you restart the runtime). This will install PsyNeuLink and import it."
   ],
   "id": "1efebc4391a7e39"
  },
  {
   "metadata": {},
   "cell_type": "code",
   "outputs": [],
   "execution_count": null,
   "source": [
    "try:\n",
    "    import psyneulink as pnl\n",
    "    print(\"psyneulink already installed\")\n",
    "except ImportError:\n",
    "    %pip install psyneulink\n",
    "    import psyneulink as pnl"
   ],
   "id": "12427b096338cfeb"
  },
  {
   "metadata": {},
   "cell_type": "markdown",
   "source": [
    "## 1. Basics\n",
    "\n"
   ],
   "id": "a3859525d5242a9"
  }
 ],
 "metadata": {
  "kernelspec": {
   "display_name": "Python 3",
   "language": "python",
   "name": "python3"
  },
  "language_info": {
   "codemirror_mode": {
    "name": "ipython",
    "version": 2
   },
   "file_extension": ".py",
   "mimetype": "text/x-python",
   "name": "python",
   "nbconvert_exporter": "python",
   "pygments_lexer": "ipython2",
   "version": "2.7.6"
  }
 },
 "nbformat": 4,
 "nbformat_minor": 5
}
