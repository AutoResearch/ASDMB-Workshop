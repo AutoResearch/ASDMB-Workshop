{
 "cells": [
  {
   "metadata": {},
   "cell_type": "markdown",
   "source": [
    "# PsyNeuLink: Stroop Model\n",
    "> Colab tip: Open the left sidebar (☰)  -> **Table of Contents** to navigate this notebook.\n",
    "[![Open In Colab](https://colab.research.google.com/assets/colab-badge.svg)](https://colab.research.google.com/github/AutoResearch/ASDMB-Workshop/blob/main/ASDMB-book/content/practical-sessions/psyneulink/psyneulink.ipynb)\n",
    "\n",
    "\n",
    "## Content\n",
    "\n",
    "- [0. Setup and Installation](#setup-and-installation)\n",
    "- [1. Basics](#basics)\n",
    "- [2. Linear Stroop](#linear-stroop)\n",
    "- [3. Stroop with Task Demand](#stroop-with-task-demand)\n",
    "- [4. Stroop With Conflict Monitoring](#stroop-with-conflict-monitoring)\n"
   ],
   "id": "58572c75e0824082"
  },
  {
   "metadata": {},
   "cell_type": "markdown",
   "source": [
    "## 0. Setup and Installation\n",
    "\n",
    "Run this once (or whenever you restart the runtime). This will install PsyNeuLink and import it."
   ],
   "id": "1efebc4391a7e39"
  },
  {
   "metadata": {
    "ExecuteTime": {
     "end_time": "2025-09-24T16:38:03.199301Z",
     "start_time": "2025-09-24T16:37:59.392983Z"
    }
   },
   "cell_type": "code",
   "source": [
    "%%capture\n",
    "try:\n",
    "    import psyneulink as pnl\n",
    "    import numpy as np\n",
    "    import matplotlib.pyplot as plt\n",
    "    print(\"psyneulink already installed\")\n",
    "except ImportError:\n",
    "    %pip install psyneulink\n",
    "    import psyneulink as pnl"
   ],
   "id": "12427b096338cfeb",
   "outputs": [
    {
     "name": "stdout",
     "output_type": "stream",
     "text": [
      "psyneulink already installed\n"
     ]
    }
   ],
   "execution_count": 1
  },
  {
   "metadata": {},
   "cell_type": "markdown",
   "source": [
    "## 1. Basics\n",
    "\n",
    "**Content**\n",
    "\n",
    "- [Mechanisms](#Mechanisms)\n",
    "- [Compositions](#Compositions)\n",
    "- [Show Graph](#Show-Graph)\n",
    "\n",
    "### Mechanisms\n",
    "\n",
    "Let's create our first composition in PsyNeuLink that consists of only two mechanisms: `Input` and `Output`. We will give both of them `2` input- and output-ports. For the `Input` we leave `Linear` (the default value) as function, for the `Output`, we will assign a Logistic function. Following machine learning conventions, we will use the term `layer` to refer to these mechanisms.\n",
    "\n"
   ],
   "id": "a3859525d5242a9"
  },
  {
   "metadata": {
    "ExecuteTime": {
     "end_time": "2025-09-23T21:49:41.775646Z",
     "start_time": "2025-09-23T21:49:41.676786Z"
    }
   },
   "cell_type": "code",
   "source": [
    "input_layer = pnl.ProcessingMechanism(name=\"Input\", input_shapes=2)\n",
    "output_layer = pnl.ProcessingMechanism(name=\"Output\", input_shapes=2, function=pnl.Logistic)"
   ],
   "id": "ca46bc349e09d88f",
   "outputs": [],
   "execution_count": 70
  },
  {
   "metadata": {},
   "cell_type": "markdown",
   "source": [
    "### Compositions\n",
    "\n",
    "We can now combine these two layers into a `Compositions` object. First, we will define a `pathway` via a list. When we give this pathway to PsyNeuLink it will automatically create a `MappingProjection` between the two layers with reasonable default parameters. In this case, it will create a identity matrix (2x2) wiring the output-port of the `input_layer` to the input-port of the `output_layer`."
   ],
   "id": "ef7ef474dbe236e5"
  },
  {
   "metadata": {
    "ExecuteTime": {
     "end_time": "2025-09-23T21:49:42.982433Z",
     "start_time": "2025-09-23T21:49:42.795059Z"
    }
   },
   "cell_type": "code",
   "source": [
    "in_out_pathway = [input_layer, output_layer]\n",
    "simple_comp = pnl.Composition(name=\"simple_comp\", pathways=[in_out_pathway]) # Note: pathways expects a list of lists (or pathways"
   ],
   "id": "36c002a638336d04",
   "outputs": [],
   "execution_count": 71
  },
  {
   "metadata": {},
   "cell_type": "markdown",
   "source": "We can execute mechanisms individually by passing an array of the appropriate size:",
   "id": "345d1229d7c157e8"
  },
  {
   "metadata": {
    "ExecuteTime": {
     "end_time": "2025-09-23T21:49:43.923280Z",
     "start_time": "2025-09-23T21:49:43.919210Z"
    }
   },
   "cell_type": "code",
   "source": "input_layer.execute([0, 1])",
   "id": "8da1092ef0048cb2",
   "outputs": [
    {
     "data": {
      "text/plain": [
       "array([[0., 1.]])"
      ]
     },
     "execution_count": 72,
     "metadata": {},
     "output_type": "execute_result"
    }
   ],
   "execution_count": 72
  },
  {
   "metadata": {},
   "cell_type": "markdown",
   "source": "We can also execute the entire composition by passing an array to the `run` method:",
   "id": "3ae4bd042aa31a5d"
  },
  {
   "metadata": {
    "ExecuteTime": {
     "end_time": "2025-09-23T21:49:45.054489Z",
     "start_time": "2025-09-23T21:49:45.036693Z"
    }
   },
   "cell_type": "code",
   "source": "simple_comp.run([0, 1])",
   "id": "2e229e142ff90045",
   "outputs": [
    {
     "data": {
      "text/plain": [
       "array([[0.5       , 0.73105858]])"
      ]
     },
     "execution_count": 73,
     "metadata": {},
     "output_type": "execute_result"
    }
   ],
   "execution_count": 73
  },
  {
   "metadata": {},
   "cell_type": "markdown",
   "source": "or with a list of inputs. The results are stored in the `results` attribute of the compositions.",
   "id": "d11a787b6812a8f8"
  },
  {
   "metadata": {
    "ExecuteTime": {
     "end_time": "2025-09-23T21:49:46.063173Z",
     "start_time": "2025-09-23T21:49:46.037632Z"
    }
   },
   "cell_type": "code",
   "source": [
    "simple_comp.run([[0, 1], [1, 0], [0.5, 0.5]])\n",
    "simple_comp.results # Note this also shows the results of the previous run (when running this multiple times the results will be appended)"
   ],
   "id": "7d0873c207be0c7",
   "outputs": [
    {
     "data": {
      "text/plain": [
       "array([[[0.5       , 0.73105858]],\n",
       "\n",
       "       [[0.5       , 0.73105858]],\n",
       "\n",
       "       [[0.73105858, 0.5       ]],\n",
       "\n",
       "       [[0.62245933, 0.62245933]]])"
      ]
     },
     "execution_count": 74,
     "metadata": {},
     "output_type": "execute_result"
    }
   ],
   "execution_count": 74
  },
  {
   "metadata": {},
   "cell_type": "markdown",
   "source": [
    "### Show Graph\n",
    "\n",
    "A very handy feature of PsyNeuLink is the ability to visualize the composition as a graph:"
   ],
   "id": "7853cca69c9d5c66"
  },
  {
   "metadata": {
    "ExecuteTime": {
     "end_time": "2025-09-23T21:49:47.209828Z",
     "start_time": "2025-09-23T21:49:47.077950Z"
    }
   },
   "cell_type": "code",
   "source": "simple_comp.show_graph(output_fmt='jupyter')",
   "id": "fef42fe62a58737a",
   "outputs": [
    {
     "data": {
      "image/svg+xml": "<?xml version=\"1.0\" encoding=\"UTF-8\" standalone=\"no\"?>\n<!DOCTYPE svg PUBLIC \"-//W3C//DTD SVG 1.1//EN\"\n \"http://www.w3.org/Graphics/SVG/1.1/DTD/svg11.dtd\">\n<!-- Generated by graphviz version 12.2.1 (20241206.2353)\n -->\n<!-- Title: simple_comp&#45;1 Pages: 1 -->\n<svg width=\"110pt\" height=\"141pt\"\n viewBox=\"0.00 0.00 109.50 140.50\" xmlns=\"http://www.w3.org/2000/svg\" xmlns:xlink=\"http://www.w3.org/1999/xlink\">\n<g id=\"graph0\" class=\"graph\" transform=\"scale(1 1) rotate(0) translate(4 136.5)\">\n<title>simple_comp&#45;1</title>\n<polygon fill=\"white\" stroke=\"none\" points=\"-4,4 -4,-136.5 105.5,-136.5 105.5,4 -4,4\"/>\n<text text-anchor=\"middle\" x=\"50.75\" y=\"-7.2\" font-family=\"Times,serif\" font-size=\"14.00\">simple_comp&#45;1</text>\n<!-- Input&#45;1 -->\n<g id=\"node1\" class=\"node\">\n<title>Input&#45;1</title>\n<ellipse fill=\"none\" stroke=\"green\" stroke-width=\"3\" cx=\"50.75\" cy=\"-42.5\" rx=\"33.55\" ry=\"18\"/>\n<text text-anchor=\"middle\" x=\"50.75\" y=\"-38.23\" font-family=\"arial\" font-size=\"12.00\">Input&#45;1</text>\n</g>\n<!-- Output&#45;38 -->\n<g id=\"node2\" class=\"node\">\n<title>Output&#45;38</title>\n<ellipse fill=\"none\" stroke=\"red\" stroke-width=\"3\" cx=\"50.75\" cy=\"-114.5\" rx=\"43.57\" ry=\"18\"/>\n<text text-anchor=\"middle\" x=\"50.75\" y=\"-110.22\" font-family=\"arial\" font-size=\"12.00\">Output&#45;38</text>\n</g>\n<!-- Input&#45;1&#45;&gt;Output&#45;38 -->\n<g id=\"edge1\" class=\"edge\">\n<title>Input&#45;1&#45;&gt;Output&#45;38</title>\n<path fill=\"none\" stroke=\"black\" d=\"M50.75,-61.89C50.75,-68.7 50.75,-76.59 50.75,-84.13\"/>\n<polygon fill=\"black\" stroke=\"black\" points=\"47.25,-83.96 50.75,-93.96 54.25,-83.96 47.25,-83.96\"/>\n</g>\n</g>\n</svg>\n",
      "text/plain": [
       "<graphviz.graphs.Digraph at 0x34835c5d0>"
      ]
     },
     "execution_count": 75,
     "metadata": {},
     "output_type": "execute_result"
    }
   ],
   "execution_count": 75
  },
  {
   "metadata": {},
   "cell_type": "markdown",
   "source": "The show graph function has many options to customize the output. For example, we can show a more detailed view of the nodes by setting `show_node_structure=True`:",
   "id": "1e9d8cc2cf8ed924"
  },
  {
   "metadata": {
    "ExecuteTime": {
     "end_time": "2025-09-23T21:49:48.408583Z",
     "start_time": "2025-09-23T21:49:48.278209Z"
    }
   },
   "cell_type": "code",
   "source": "simple_comp.show_graph(output_fmt='jupyter', show_node_structure=True)",
   "id": "6ed0df1c24d50e71",
   "outputs": [
    {
     "data": {
      "image/svg+xml": "<?xml version=\"1.0\" encoding=\"UTF-8\" standalone=\"no\"?>\n<!DOCTYPE svg PUBLIC \"-//W3C//DTD SVG 1.1//EN\"\n \"http://www.w3.org/Graphics/SVG/1.1/DTD/svg11.dtd\">\n<!-- Generated by graphviz version 12.2.1 (20241206.2353)\n -->\n<!-- Title: simple_comp&#45;1 Pages: 1 -->\n<svg width=\"272pt\" height=\"547pt\"\n viewBox=\"0.00 0.00 271.50 546.75\" xmlns=\"http://www.w3.org/2000/svg\" xmlns:xlink=\"http://www.w3.org/1999/xlink\">\n<g id=\"graph0\" class=\"graph\" transform=\"scale(1 1) rotate(0) translate(4 542.75)\">\n<title>simple_comp&#45;1</title>\n<polygon fill=\"white\" stroke=\"none\" points=\"-4,4 -4,-542.75 267.5,-542.75 267.5,4 -4,4\"/>\n<text text-anchor=\"middle\" x=\"131.75\" y=\"-7.2\" font-family=\"Times,serif\" font-size=\"14.00\">simple_comp&#45;1</text>\n<!-- Input&#45;1 -->\n<g id=\"node1\" class=\"node\">\n<title>Input&#45;1</title>\n<polygon fill=\"#fffff0\" stroke=\"none\" points=\"8,-28.5 8,-248.5 255.5,-248.5 255.5,-28.5 8,-28.5\"/>\n<polygon fill=\"#fafad0\" stroke=\"none\" points=\"14,-192 14,-242.5 249.5,-242.5 249.5,-192 14,-192\"/>\n<polygon fill=\"PALEGOLDENROD\" stroke=\"none\" points=\"18,-216.25 18,-238.5 245.5,-238.5 245.5,-216.25 18,-216.25\"/>\n<polygon fill=\"none\" stroke=\"LIGHTGOLDENRODYELLOW\" stroke-width=\"2\" points=\"19,-217.25 19,-237.5 244.5,-237.5 244.5,-217.25 19,-217.25\"/>\n<text text-anchor=\"start\" x=\"95\" y=\"-224.1\" font-family=\"arial\" font-weight=\"bold\" font-size=\"12.00\">OutputPort&#45;0</text>\n<text text-anchor=\"start\" x=\"96.88\" y=\"-199.85\" font-family=\"arial\" font-weight=\"bold\" font-style=\"italic\" font-size=\"12.00\">OutputPorts</text>\n<text text-anchor=\"start\" x=\"14\" y=\"-142.1\" font-family=\"arial\" font-weight=\"bold\" font-style=\"italic\" font-size=\"12.00\">Mechanism</text>\n<text text-anchor=\"start\" x=\"79.25\" y=\"-142.1\" font-family=\"arial\" font-weight=\"bold\" font-size=\"12.00\">:</text>\n<text text-anchor=\"start\" x=\"21.88\" y=\"-126.3\" font-family=\"arial\" font-weight=\"bold\" font-size=\"16.00\">Input&#45;1</text>\n<polygon fill=\"#fafad0\" stroke=\"none\" points=\"88,-90 88,-187 249.5,-187 249.5,-90 88,-90\"/>\n<text text-anchor=\"start\" x=\"92\" y=\"-135.22\" font-family=\"arial\" font-weight=\"bold\" font-style=\"italic\" font-size=\"12.00\">ParameterPorts</text>\n<polygon fill=\"PALEGOLDENROD\" stroke=\"none\" points=\"187.25,-94 187.25,-183 245.5,-183 245.5,-94 187.25,-94\"/>\n<polygon fill=\"none\" stroke=\"LIGHTGOLDENRODYELLOW\" stroke-width=\"2\" points=\"188.25,-161.75 188.25,-182 244.5,-182 244.5,-161.75 188.25,-161.75\"/>\n<text text-anchor=\"start\" x=\"191.25\" y=\"-168.6\" font-family=\"arial\" font-weight=\"bold\" font-size=\"12.00\">intercept</text>\n<polygon fill=\"none\" stroke=\"LIGHTGOLDENRODYELLOW\" stroke-width=\"2\" points=\"188.25,-139.5 188.25,-159.75 244.5,-159.75 244.5,-139.5 188.25,-139.5\"/>\n<text text-anchor=\"start\" x=\"200.25\" y=\"-146.35\" font-family=\"arial\" font-weight=\"bold\" font-size=\"12.00\">offset</text>\n<polygon fill=\"none\" stroke=\"LIGHTGOLDENRODYELLOW\" stroke-width=\"2\" points=\"188.25,-117.25 188.25,-137.5 244.5,-137.5 244.5,-117.25 188.25,-117.25\"/>\n<text text-anchor=\"start\" x=\"201.38\" y=\"-124.1\" font-family=\"arial\" font-weight=\"bold\" font-size=\"12.00\">scale</text>\n<polygon fill=\"none\" stroke=\"LIGHTGOLDENRODYELLOW\" stroke-width=\"2\" points=\"188.25,-95 188.25,-115.25 244.5,-115.25 244.5,-95 188.25,-95\"/>\n<text text-anchor=\"start\" x=\"200.62\" y=\"-101.85\" font-family=\"arial\" font-weight=\"bold\" font-size=\"12.00\">slope</text>\n<polygon fill=\"#fafad0\" stroke=\"none\" points=\"14,-34.5 14,-85 249.5,-85 249.5,-34.5 14,-34.5\"/>\n<text text-anchor=\"start\" x=\"101.75\" y=\"-70.6\" font-family=\"arial\" font-weight=\"bold\" font-style=\"italic\" font-size=\"12.00\">InputPorts</text>\n<polygon fill=\"PALEGOLDENROD\" stroke=\"none\" points=\"18,-38.5 18,-60.75 245.5,-60.75 245.5,-38.5 18,-38.5\"/>\n<polygon fill=\"none\" stroke=\"LIGHTGOLDENRODYELLOW\" stroke-width=\"2\" points=\"19,-39.5 19,-59.75 244.5,-59.75 244.5,-39.5 19,-39.5\"/>\n<text text-anchor=\"start\" x=\"99.88\" y=\"-46.35\" font-family=\"arial\" font-weight=\"bold\" font-size=\"12.00\">InputPort&#45;0</text>\n<polygon fill=\"none\" stroke=\"green\" stroke-width=\"3\" points=\"9.5,-30 9.5,-247 254,-247 254,-30 9.5,-30\"/>\n</g>\n<!-- Output&#45;38 -->\n<g id=\"node2\" class=\"node\">\n<title>Output&#45;38</title>\n<polygon fill=\"#fffff0\" stroke=\"none\" points=\"13.62,-292.5 13.62,-534.75 249.88,-534.75 249.88,-292.5 13.62,-292.5\"/>\n<polygon fill=\"#fafad0\" stroke=\"none\" points=\"19.62,-478.25 19.62,-528.75 243.88,-528.75 243.88,-478.25 19.62,-478.25\"/>\n<polygon fill=\"PALEGOLDENROD\" stroke=\"none\" points=\"23.62,-502.5 23.62,-524.75 239.88,-524.75 239.88,-502.5 23.62,-502.5\"/>\n<polygon fill=\"none\" stroke=\"LIGHTGOLDENRODYELLOW\" stroke-width=\"2\" points=\"24.62,-503.5 24.62,-523.75 238.88,-523.75 238.88,-503.5 24.62,-503.5\"/>\n<text text-anchor=\"start\" x=\"95\" y=\"-510.35\" font-family=\"arial\" font-weight=\"bold\" font-size=\"12.00\">OutputPort&#45;0</text>\n<text text-anchor=\"start\" x=\"96.88\" y=\"-486.1\" font-family=\"arial\" font-weight=\"bold\" font-style=\"italic\" font-size=\"12.00\">OutputPorts</text>\n<text text-anchor=\"start\" x=\"23\" y=\"-417.23\" font-family=\"arial\" font-weight=\"bold\" font-style=\"italic\" font-size=\"12.00\">Mechanism</text>\n<text text-anchor=\"start\" x=\"88.25\" y=\"-417.23\" font-family=\"arial\" font-weight=\"bold\" font-size=\"12.00\">:</text>\n<text text-anchor=\"start\" x=\"19.62\" y=\"-401.43\" font-family=\"arial\" font-weight=\"bold\" font-size=\"16.00\">Output&#45;38</text>\n<polygon fill=\"#fafad0\" stroke=\"none\" points=\"100.38,-354 100.38,-473.25 243.88,-473.25 243.88,-354 100.38,-354\"/>\n<text text-anchor=\"start\" x=\"104.38\" y=\"-410.35\" font-family=\"arial\" font-weight=\"bold\" font-style=\"italic\" font-size=\"12.00\">ParameterPorts</text>\n<polygon fill=\"PALEGOLDENROD\" stroke=\"none\" points=\"199.62,-358 199.62,-469.25 239.88,-469.25 239.88,-358 199.62,-358\"/>\n<polygon fill=\"none\" stroke=\"LIGHTGOLDENRODYELLOW\" stroke-width=\"2\" points=\"200.62,-448 200.62,-468.25 238.88,-468.25 238.88,-448 200.62,-448\"/>\n<text text-anchor=\"start\" x=\"207.75\" y=\"-454.85\" font-family=\"arial\" font-weight=\"bold\" font-size=\"12.00\">bias</text>\n<polygon fill=\"none\" stroke=\"LIGHTGOLDENRODYELLOW\" stroke-width=\"2\" points=\"200.62,-425.75 200.62,-446 238.88,-446 238.88,-425.75 200.62,-425.75\"/>\n<text text-anchor=\"start\" x=\"207.38\" y=\"-432.6\" font-family=\"arial\" font-weight=\"bold\" font-size=\"12.00\">gain</text>\n<polygon fill=\"none\" stroke=\"LIGHTGOLDENRODYELLOW\" stroke-width=\"2\" points=\"200.62,-403.5 200.62,-423.75 238.88,-423.75 238.88,-403.5 200.62,-403.5\"/>\n<text text-anchor=\"start\" x=\"203.62\" y=\"-410.35\" font-family=\"arial\" font-weight=\"bold\" font-size=\"12.00\">offset</text>\n<polygon fill=\"none\" stroke=\"LIGHTGOLDENRODYELLOW\" stroke-width=\"2\" points=\"200.62,-381.25 200.62,-401.5 238.88,-401.5 238.88,-381.25 200.62,-381.25\"/>\n<text text-anchor=\"start\" x=\"204.75\" y=\"-388.1\" font-family=\"arial\" font-weight=\"bold\" font-size=\"12.00\">scale</text>\n<polygon fill=\"none\" stroke=\"LIGHTGOLDENRODYELLOW\" stroke-width=\"2\" points=\"200.62,-359 200.62,-379.25 238.88,-379.25 238.88,-359 200.62,-359\"/>\n<text text-anchor=\"start\" x=\"209.62\" y=\"-365.85\" font-family=\"arial\" font-weight=\"bold\" font-size=\"12.00\">x_0</text>\n<polygon fill=\"#fafad0\" stroke=\"none\" points=\"19.62,-298.5 19.62,-349 243.88,-349 243.88,-298.5 19.62,-298.5\"/>\n<text text-anchor=\"start\" x=\"101.75\" y=\"-334.6\" font-family=\"arial\" font-weight=\"bold\" font-style=\"italic\" font-size=\"12.00\">InputPorts</text>\n<polygon fill=\"PALEGOLDENROD\" stroke=\"none\" points=\"23.62,-302.5 23.62,-324.75 239.88,-324.75 239.88,-302.5 23.62,-302.5\"/>\n<polygon fill=\"none\" stroke=\"LIGHTGOLDENRODYELLOW\" stroke-width=\"2\" points=\"24.62,-303.5 24.62,-323.75 238.88,-323.75 238.88,-303.5 24.62,-303.5\"/>\n<text text-anchor=\"start\" x=\"99.88\" y=\"-310.35\" font-family=\"arial\" font-weight=\"bold\" font-size=\"12.00\">InputPort&#45;0</text>\n<polygon fill=\"none\" stroke=\"red\" stroke-width=\"3\" points=\"15.12,-294 15.12,-533.25 248.38,-533.25 248.38,-294 15.12,-294\"/>\n</g>\n<!-- Input&#45;1&#45;&gt;Output&#45;38 -->\n<g id=\"edge1\" class=\"edge\">\n<title>Input&#45;1:OutputPort&#45;OutputPort&#45;0&#45;&gt;Output&#45;38:InputPort&#45;InputPort&#45;0</title>\n<path fill=\"none\" stroke=\"black\" d=\"M131.75,-239.5C131.75,-262.86 131.75,-271.37 131.75,-290.2\"/>\n<polygon fill=\"black\" stroke=\"black\" points=\"128.25,-289.99 131.75,-299.99 135.25,-289.99 128.25,-289.99\"/>\n</g>\n</g>\n</svg>\n",
      "text/plain": [
       "<graphviz.graphs.Digraph at 0x350132ad0>"
      ]
     },
     "execution_count": 76,
     "metadata": {},
     "output_type": "execute_result"
    }
   ],
   "execution_count": 76
  },
  {
   "metadata": {},
   "cell_type": "markdown",
   "source": [
    "### Projections\n",
    "\n",
    "So far we have only implicitly created a `MappingProjection` by passing a list of mechanisms as a `pathway`. However, if we want more control over the projection, we can create it explicitly. To do so, we define a weight matrix and pass it to the `MappingProjection` constructor. The weight matrix needs to have a shape that is compatible with the output-port of the sender mechanism and the input-port of the receiver mechanism. In this case, both layers have 2 input- and output-ports, so we can use a 2x2 matrix (To make it easier to see, we will use input and output layers with linear identity functions):\n"
   ],
   "id": "7af736be1f130ccd"
  },
  {
   "metadata": {
    "ExecuteTime": {
     "end_time": "2025-09-23T21:49:49.649735Z",
     "start_time": "2025-09-23T21:49:49.372788Z"
    }
   },
   "cell_type": "code",
   "source": [
    "input_layer = pnl.ProcessingMechanism(name=\"Input\", input_shapes=2)\n",
    "output_layer = pnl.ProcessingMechanism(name=\"Output\", input_shapes=2)\n",
    "\n",
    "# matrix is defined as a list of matrix columns\n",
    "matrix = [[1, 2],  # weights from input_layer[0] to output_layer[0, 1]\n",
    "          [3, 4]]  # weights from input_layer[1] to output_layer[0, 1]\n",
    "\n",
    "projection = pnl.MappingProjection(matrix=matrix)\n",
    "\n",
    "# Here we show another way of adding a pathway after the composition has been created\n",
    "simple_comp = pnl.Composition(name=\"simple_comp\")\n",
    "simple_comp.add_linear_processing_pathway([input_layer, projection, output_layer])"
   ],
   "id": "1fcc8da365e3d8bb",
   "outputs": [
    {
     "data": {
      "text/plain": [
       "<psyneulink.core.compositions.pathway.Pathway at 0x350682790>"
      ]
     },
     "execution_count": 77,
     "metadata": {},
     "output_type": "execute_result"
    }
   ],
   "execution_count": 77
  },
  {
   "metadata": {},
   "cell_type": "markdown",
   "source": "Again, we can run the composition",
   "id": "44201e3cd989b50"
  },
  {
   "metadata": {
    "ExecuteTime": {
     "end_time": "2025-09-23T21:49:50.401792Z",
     "start_time": "2025-09-23T21:49:50.380685Z"
    }
   },
   "cell_type": "code",
   "source": "simple_comp.run([0, 1])",
   "id": "9a66563ed86d79e",
   "outputs": [
    {
     "data": {
      "text/plain": [
       "array([[3., 4.]])"
      ]
     },
     "execution_count": 78,
     "metadata": {},
     "output_type": "execute_result"
    }
   ],
   "execution_count": 78
  },
  {
   "metadata": {},
   "cell_type": "markdown",
   "source": [
    "In this case, the output can be understood as matrix multiplication between\n",
    "\n",
    "$$\n",
    "\\begin{bmatrix}\n",
    "1 & 3 \\\\\n",
    "2 & 4\n",
    "\\end{bmatrix}\n",
    "\\cdot\n",
    "\\begin{bmatrix}\n",
    "0 \\\\\n",
    "1\n",
    "\\end{bmatrix}\n",
    "=\n",
    "\\begin{bmatrix}\n",
    "3 \\\\\n",
    "4\n",
    "\\end{bmatrix}\n",
    "$$\n",
    "\n",
    "\n",
    "\n",
    "<details>\n",
    "<summary>\n",
    "What is the output of the composition if we run it with input `[1, 1]`?\n",
    "</summary>\n",
    "$$\n",
    "\\begin{bmatrix}\n",
    "1 & 3 \\\\\n",
    "2 & 4\n",
    "\\end{bmatrix}\n",
    "\\cdot\n",
    "\\begin{bmatrix}\n",
    "1 \\\\\n",
    "1\n",
    "\\end{bmatrix}\n",
    "=\n",
    "\\begin{bmatrix}\n",
    "4 \\\\\n",
    "6\n",
    "\\end{bmatrix}\n",
    "$$\n",
    "</details>"
   ],
   "id": "8b345f72b87c15c8"
  },
  {
   "metadata": {
    "ExecuteTime": {
     "end_time": "2025-09-23T21:49:51.489925Z",
     "start_time": "2025-09-23T21:49:51.472158Z"
    }
   },
   "cell_type": "code",
   "source": "simple_comp.run([1, 1])",
   "id": "6b6cd033c18f81c",
   "outputs": [
    {
     "data": {
      "text/plain": [
       "array([[4., 6.]])"
      ]
     },
     "execution_count": 79,
     "metadata": {},
     "output_type": "execute_result"
    }
   ],
   "execution_count": 79
  },
  {
   "metadata": {},
   "cell_type": "markdown",
   "source": [
    "## 2. Linear Stroop\n",
    "\n",
    "With the above basics, we can already implement simple models. Here, we will implement a simple version that aims to explain conflict:\n",
    "\n",
    "![multitasking](https://raw.githubusercontent.com/AutoResearch/ASDMB-Workshop/main/ASDMB-book/_static/img/practical-sessions/spongebob-spongebob-squarepants.gif)\n",
    "\n",
    "Pat your head and rub your belly at the same time. Unless you have practiced this odd exercise you will get conflict between the motor commands and quickly end up rubbing your head while also rubbing your belly, OR patting your belly while also patting your head. As a more difficult exercise, while sitting, lift your right foot and repeatedly rotate it clockwise while simultaneously tracing a counterclockwise circle in the air with your right hand.\n",
    "\n",
    "These are examples of **cognitive conflict**. When you are trying to do two things ar once conflict can arise. Other things however, you can do simultaneously without experiencing conflict. For example, you can walk and have a conversation at the same time, or you can eat and watch TV at the same time.\n",
    "\n",
    "The Stroop Model explains this conflict with shared pathways (or representations). In the classical Stroop Task, the participants are asked to name the color of the ink a word is printed in. The word itself also has the meaning of a color. For example, the word \"RED\" printed in blue ink. Our model proposes that both recognizing a color and reading a color word share common representations (in our case in the output layer). When the color and meaning match, these representation \"work together\" and the task is easy. However, when they mismatch, they \"work against each other\" and cause conflict.\n",
    "\n",
    "Don't worry if this is not clear yet, it will be once we have implemented the model:\n"
   ],
   "id": "f6734def5a032a4c"
  },
  {
   "metadata": {},
   "cell_type": "markdown",
   "source": [
    "### Task & Model\n",
    "\n",
    "We will implement a simple version of the Stroop model. The task consists of 2x2 conditions:\n",
    "\n",
    "\n",
    "- word: RED, GREEN -> one-hot encoded as [1, 0] and [0, 1]\n",
    "- color: red, green -> one-hot encoded as [1, 0] and [0, 1]\n",
    "\n",
    "---\n",
    "\n",
    "- <span style=\"color:red\">RED</span> -> word: [1, 0], color: [1, 0]\n",
    "- <span style=\"color:green\">RED</span> -> word: [1, 0], color: [0, 1]\n",
    "- <span style=\"color:green\">GREEN</span> -> word: [0, 1], color: [0, 1]\n",
    "- <span style=\"color:red\">GREEN</span> -> word: [0, 1], color: [1, 0]\n",
    "\n",
    "To model the more \"automatic\" response to word reading, we will give the word input a stronger connection to the output layer then the color input:\n",
    "\n"
   ],
   "id": "8e20ddcfd5ce1958"
  },
  {
   "metadata": {
    "ExecuteTime": {
     "end_time": "2025-09-23T21:49:53.185094Z",
     "start_time": "2025-09-23T21:49:53.183231Z"
    }
   },
   "cell_type": "code",
   "source": [
    "# Some CONSTANTS: Strength of processing pathways:\n",
    "WORD_STRENGTH = 3\n",
    "COLOR_STRENGTH = 2\n",
    "TASK_STRENGTH = 4"
   ],
   "id": "b0351d67c53ae409",
   "outputs": [],
   "execution_count": 80
  },
  {
   "metadata": {
    "ExecuteTime": {
     "end_time": "2025-09-23T21:49:53.737706Z",
     "start_time": "2025-09-23T21:49:53.734087Z"
    }
   },
   "cell_type": "code",
   "source": [
    "def get_linear_stroop():\n",
    "    # input layers (shape == 2 for one-hot encoded inputs)\n",
    "    word_input = pnl.ProcessingMechanism(name=\"Word\", input_shapes=2)\n",
    "    color_input = pnl.ProcessingMechanism(name=\"Color\", input_shapes=2)\n",
    "\n",
    "    # output layer (shape == 2 for one-hot encoded output red or green)\n",
    "    response = pnl.ProcessingMechanism(name=\"Response\", input_shapes=2)\n",
    "\n",
    "    # create the compositions\n",
    "    comp = pnl.Composition(name=\"Linear Stroop\")\n",
    "\n",
    "    # Create the projections\n",
    "    # here we define a simple lateral inhibition matrix (i.e., input to red inhibits green and vice versa)\n",
    "    inhibition_matrix = np.array(\n",
    "        [[1, -1.],\n",
    "         [-1., 1]])\n",
    "\n",
    "    # scale the inhibition matrix by the processing strength\n",
    "    word_processing_matrix = WORD_STRENGTH * inhibition_matrix\n",
    "    color_processing_matrix = COLOR_STRENGTH * inhibition_matrix\n",
    "\n",
    "    # create projections\n",
    "    word_response_projection = pnl.MappingProjection(matrix=word_processing_matrix)\n",
    "    color_response_projection = pnl.MappingProjection(matrix=color_processing_matrix)\n",
    "\n",
    "    # Add pathways to the composition\n",
    "    comp.add_linear_processing_pathway([\n",
    "        word_input, word_response_projection, response\n",
    "    ])\n",
    "\n",
    "    comp.add_linear_processing_pathway([color_input, color_response_projection, response])\n",
    "    return comp, word_input, color_input"
   ],
   "id": "9a11dc3ef48b3153",
   "outputs": [],
   "execution_count": 81
  },
  {
   "metadata": {},
   "cell_type": "markdown",
   "source": "Let's look at the graph of the model:",
   "id": "ee1125217981f5ab"
  },
  {
   "metadata": {
    "ExecuteTime": {
     "end_time": "2025-09-23T21:49:55.849848Z",
     "start_time": "2025-09-23T21:49:55.399782Z"
    }
   },
   "cell_type": "code",
   "source": [
    "linear_stroop, _, _= get_linear_stroop()\n",
    "\n",
    "linear_stroop.show_graph(output_fmt='jupyter')"
   ],
   "id": "ae31be435d5b384f",
   "outputs": [
    {
     "data": {
      "image/svg+xml": "<?xml version=\"1.0\" encoding=\"UTF-8\" standalone=\"no\"?>\n<!DOCTYPE svg PUBLIC \"-//W3C//DTD SVG 1.1//EN\"\n \"http://www.w3.org/Graphics/SVG/1.1/DTD/svg11.dtd\">\n<!-- Generated by graphviz version 12.2.1 (20241206.2353)\n -->\n<!-- Title: Linear Stroop Pages: 1 -->\n<svg width=\"140pt\" height=\"141pt\"\n viewBox=\"0.00 0.00 140.08 140.50\" xmlns=\"http://www.w3.org/2000/svg\" xmlns:xlink=\"http://www.w3.org/1999/xlink\">\n<g id=\"graph0\" class=\"graph\" transform=\"scale(1 1) rotate(0) translate(4 136.5)\">\n<title>Linear Stroop</title>\n<polygon fill=\"white\" stroke=\"none\" points=\"-4,4 -4,-136.5 136.08,-136.5 136.08,4 -4,4\"/>\n<text text-anchor=\"middle\" x=\"66.04\" y=\"-7.2\" font-family=\"Times,serif\" font-size=\"14.00\">Linear Stroop</text>\n<!-- Color -->\n<g id=\"node1\" class=\"node\">\n<title>Color</title>\n<ellipse fill=\"none\" stroke=\"green\" stroke-width=\"3\" cx=\"28.78\" cy=\"-42.5\" rx=\"28.78\" ry=\"18\"/>\n<text text-anchor=\"middle\" x=\"28.78\" y=\"-38.23\" font-family=\"arial\" font-size=\"12.00\">Color</text>\n</g>\n<!-- Response -->\n<g id=\"node3\" class=\"node\">\n<title>Response</title>\n<ellipse fill=\"none\" stroke=\"red\" stroke-width=\"3\" cx=\"65.78\" cy=\"-114.5\" rx=\"45\" ry=\"18\"/>\n<text text-anchor=\"middle\" x=\"65.78\" y=\"-110.22\" font-family=\"arial\" font-size=\"12.00\">Response</text>\n</g>\n<!-- Color&#45;&gt;Response -->\n<g id=\"edge1\" class=\"edge\">\n<title>Color&#45;&gt;Response</title>\n<path fill=\"none\" stroke=\"black\" d=\"M37.93,-60.8C41.84,-68.2 46.51,-77.04 50.9,-85.34\"/>\n<polygon fill=\"black\" stroke=\"black\" points=\"47.75,-86.88 55.52,-94.08 53.94,-83.6 47.75,-86.88\"/>\n</g>\n<!-- Word -->\n<g id=\"node2\" class=\"node\">\n<title>Word</title>\n<ellipse fill=\"none\" stroke=\"green\" stroke-width=\"3\" cx=\"103.78\" cy=\"-42.5\" rx=\"28.3\" ry=\"18\"/>\n<text text-anchor=\"middle\" x=\"103.78\" y=\"-38.23\" font-family=\"arial\" font-size=\"12.00\">Word</text>\n</g>\n<!-- Word&#45;&gt;Response -->\n<g id=\"edge2\" class=\"edge\">\n<title>Word&#45;&gt;Response</title>\n<path fill=\"none\" stroke=\"black\" d=\"M94.39,-60.8C90.26,-68.4 85.32,-77.51 80.71,-86\"/>\n<polygon fill=\"black\" stroke=\"black\" points=\"77.75,-84.12 76.05,-94.58 83.9,-87.46 77.75,-84.12\"/>\n</g>\n</g>\n</svg>\n",
      "text/plain": [
       "<graphviz.graphs.Digraph at 0x350d73150>"
      ]
     },
     "execution_count": 82,
     "metadata": {},
     "output_type": "execute_result"
    }
   ],
   "execution_count": 82
  },
  {
   "metadata": {},
   "cell_type": "markdown",
   "source": "We see, that both color and word input project to the same output layer. Let's see what happens for different inputs. Here, we define the inputs as dictionary with the keys being the input layers:\n",
   "id": "29c55fdc9fb5ad34"
  },
  {
   "metadata": {
    "ExecuteTime": {
     "end_time": "2025-09-23T21:49:57.129537Z",
     "start_time": "2025-09-23T21:49:56.713773Z"
    }
   },
   "cell_type": "code",
   "source": [
    "linear_stroop, word_input, color_input = get_linear_stroop()\n",
    "\n",
    "# Congruent Stimuli\n",
    "print(f'{\"*\"*10}Congruent Stimuli{\"*\"*10}')\n",
    "# RED written in red:\n",
    "rr = {word_input: [1, 0], color_input: [1, 0]}\n",
    "response_r, response_g = linear_stroop.run(rr)[0]\n",
    "print('RED written in red:\\n',\n",
    "      f'Red response activation: {response_r}\\n'\n",
    "      f'Green response activation: {response_g}\\n')\n",
    "\n",
    "# GREEN written in green:\n",
    "gg = {word_input: [0, 1], color_input: [0, 1]}\n",
    "response_r, response_g = linear_stroop.run(gg)[0]\n",
    "print('GREEN written in green:\\n',\n",
    "      f'Red response activation: {response_r}\\n'\n",
    "      f'Green response activation: {response_g}\\n')\n",
    "\n",
    "# Incongruent Stimuli\n",
    "print(f'{\"*\"*10}Incongruent Stimuli{\"*\"*10}')\n",
    "# RED written in green:\n",
    "rg = {word_input: [1, 0], color_input: [0, 1]}\n",
    "response_r, response_g = linear_stroop.run(rg)[0]\n",
    "print('RED written in green:\\n',\n",
    "      f'Red response activation: {response_r}\\n'\n",
    "      f'Green response activation: {response_g}\\n')\n",
    "\n",
    "# green written in red:\n",
    "gr = {word_input: [0, 1], color_input: [1, 0]}\n",
    "response_r, response_g = linear_stroop.run(gr)[0]\n",
    "print('GREEN written in red:\\n',\n",
    "      f'Red response activation: {response_r}\\n'\n",
    "      f'Green response activation: {response_g}\\n')\n"
   ],
   "id": "49c59f2df2ce3a42",
   "outputs": [
    {
     "name": "stdout",
     "output_type": "stream",
     "text": [
      "**********Congruent Stimuli**********\n",
      "RED written in red:\n",
      " Red response activation: 5.0\n",
      "Green response activation: -5.0\n",
      "\n",
      "GREEN written in green:\n",
      " Red response activation: -5.0\n",
      "Green response activation: 5.0\n",
      "\n",
      "**********Incongruent Stimuli**********\n",
      "RED written in green:\n",
      " Red response activation: 1.0\n",
      "Green response activation: -1.0\n",
      "\n",
      "GREEN written in red:\n",
      " Red response activation: -1.0\n",
      "Green response activation: 1.0\n",
      "\n"
     ]
    }
   ],
   "execution_count": 83
  },
  {
   "metadata": {},
   "cell_type": "markdown",
   "source": [
    "The above model can explain \"congruency\" effects. When the color and word match (congruent stimuli) the difference between the two output units is larger than when they mismatch (incongruent stimuli).\n",
    "\n",
    "### Adding A Drift Diffusion Module\n",
    "\n",
    "The numbers are hard to interpret, and we would like to add some stochasticity: \"It is more likely to be wrong on incongruent trials, and it is slower\". To model this, we can add a Drift Diffusion Module to the response:\n",
    "\n",
    "![ddm](https://raw.githubusercontent.com/AutoResearch/ASDMB-Workshop/main/ASDMB-book/_static/img/practical-sessions/ddm.png)"
   ],
   "id": "5bf24bc211ef186c"
  },
  {
   "metadata": {
    "ExecuteTime": {
     "end_time": "2025-09-23T21:49:57.841238Z",
     "start_time": "2025-09-23T21:49:57.838160Z"
    }
   },
   "cell_type": "code",
   "source": [
    "def get_ddm_stroop():\n",
    "\n",
    "    # input layers (shape == 2 for one-hot encoded inputs)\n",
    "    word_input = pnl.ProcessingMechanism(name=\"Word\", input_shapes=2)\n",
    "    color_input = pnl.ProcessingMechanism(name=\"Color\", input_shapes=2)\n",
    "\n",
    "    # output layer (shape == 2 for one-hot encoded output red or green)\n",
    "    output_layer = pnl.ProcessingMechanism(name=\"Output\", input_shapes=2)\n",
    "\n",
    "    # DDM for decision making\n",
    "    decision_layer = pnl.DDM(\n",
    "        name='Decision',\n",
    "        input_format=pnl.ARRAY,\n",
    "        function=pnl.DriftDiffusionIntegrator(\n",
    "            noise=.5,\n",
    "            rate=.05,\n",
    "            threshold=1.\n",
    "        ),\n",
    "        reset_stateful_function_when=pnl.AtTrialStart())\n",
    "\n",
    "    # create the compositions\n",
    "    comp = pnl.Composition(name=\"DDM Stroop\")\n",
    "\n",
    "    # Create the projections\n",
    "\n",
    "    identity_matrix = np.array(\n",
    "        [[1, -1],\n",
    "         [-1, 1]])\n",
    "\n",
    "    # scale the inhibition matrix by the processing strength\n",
    "    word_processing_matrix = WORD_STRENGTH * identity_matrix\n",
    "    color_processing_matrix = COLOR_STRENGTH * identity_matrix\n",
    "\n",
    "    # create projections\n",
    "    word_response_projection = pnl.MappingProjection(matrix=word_processing_matrix)\n",
    "    color_response_projection = pnl.MappingProjection(matrix=color_processing_matrix)\n",
    "\n",
    "    # Add pathways to the composition\n",
    "    comp.add_linear_processing_pathway([\n",
    "        word_input, word_response_projection, output_layer\n",
    "    ])\n",
    "\n",
    "    comp.add_linear_processing_pathway([color_input, color_response_projection, output_layer])\n",
    "\n",
    "    comp.add_linear_processing_pathway([output_layer, decision_layer])\n",
    "\n",
    "    return comp, word_input, color_input"
   ],
   "id": "cda375d265735fa5",
   "outputs": [],
   "execution_count": 84
  },
  {
   "metadata": {},
   "cell_type": "markdown",
   "source": "Let's look at the graph of the model:",
   "id": "81bcc02913c3afcb"
  },
  {
   "metadata": {
    "ExecuteTime": {
     "end_time": "2025-09-23T21:49:59.799049Z",
     "start_time": "2025-09-23T21:49:59.165247Z"
    }
   },
   "cell_type": "code",
   "source": [
    "ddm_stroop , _, _ = get_ddm_stroop()\n",
    "\n",
    "ddm_stroop.show_graph(output_fmt='jupyter')"
   ],
   "id": "1c2fd948a60a455",
   "outputs": [
    {
     "data": {
      "image/svg+xml": "<?xml version=\"1.0\" encoding=\"UTF-8\" standalone=\"no\"?>\n<!DOCTYPE svg PUBLIC \"-//W3C//DTD SVG 1.1//EN\"\n \"http://www.w3.org/Graphics/SVG/1.1/DTD/svg11.dtd\">\n<!-- Generated by graphviz version 12.2.1 (20241206.2353)\n -->\n<!-- Title: DDM Stroop Pages: 1 -->\n<svg width=\"166pt\" height=\"213pt\"\n viewBox=\"0.00 0.00 166.44 212.50\" xmlns=\"http://www.w3.org/2000/svg\" xmlns:xlink=\"http://www.w3.org/1999/xlink\">\n<g id=\"graph0\" class=\"graph\" transform=\"scale(1 1) rotate(0) translate(4 208.5)\">\n<title>DDM Stroop</title>\n<polygon fill=\"white\" stroke=\"none\" points=\"-4,4 -4,-208.5 162.44,-208.5 162.44,4 -4,4\"/>\n<text text-anchor=\"middle\" x=\"79.22\" y=\"-7.2\" font-family=\"Times,serif\" font-size=\"14.00\">DDM Stroop</text>\n<!-- Color&#45;2 -->\n<g id=\"node1\" class=\"node\">\n<title>Color&#45;2</title>\n<ellipse fill=\"none\" stroke=\"green\" stroke-width=\"3\" cx=\"35.46\" cy=\"-42.5\" rx=\"35.46\" ry=\"18\"/>\n<text text-anchor=\"middle\" x=\"35.46\" y=\"-38.23\" font-family=\"arial\" font-size=\"12.00\">Color&#45;2</text>\n</g>\n<!-- Output&#45;40 -->\n<g id=\"node3\" class=\"node\">\n<title>Output&#45;40</title>\n<ellipse fill=\"none\" stroke=\"black\" cx=\"79.46\" cy=\"-114.5\" rx=\"43.57\" ry=\"18\"/>\n<text text-anchor=\"middle\" x=\"79.46\" y=\"-110.22\" font-family=\"arial\" font-size=\"12.00\">Output&#45;40</text>\n</g>\n<!-- Color&#45;2&#45;&gt;Output&#45;40 -->\n<g id=\"edge1\" class=\"edge\">\n<title>Color&#45;2&#45;&gt;Output&#45;40</title>\n<path fill=\"none\" stroke=\"black\" d=\"M46.33,-60.8C51.36,-68.8 57.45,-78.48 63.02,-87.35\"/>\n<polygon fill=\"black\" stroke=\"black\" points=\"59.92,-88.99 68.2,-95.6 65.85,-85.27 59.92,-88.99\"/>\n</g>\n<!-- Word&#45;2 -->\n<g id=\"node2\" class=\"node\">\n<title>Word&#45;2</title>\n<ellipse fill=\"none\" stroke=\"green\" stroke-width=\"3\" cx=\"123.46\" cy=\"-42.5\" rx=\"34.98\" ry=\"18\"/>\n<text text-anchor=\"middle\" x=\"123.46\" y=\"-38.23\" font-family=\"arial\" font-size=\"12.00\">Word&#45;2</text>\n</g>\n<!-- Word&#45;2&#45;&gt;Output&#45;40 -->\n<g id=\"edge2\" class=\"edge\">\n<title>Word&#45;2&#45;&gt;Output&#45;40</title>\n<path fill=\"none\" stroke=\"black\" d=\"M112.58,-60.8C107.55,-68.8 101.47,-78.48 95.9,-87.35\"/>\n<polygon fill=\"black\" stroke=\"black\" points=\"93.07,-85.27 90.71,-95.6 99,-88.99 93.07,-85.27\"/>\n</g>\n<!-- Decision&#45;37 -->\n<g id=\"node4\" class=\"node\">\n<title>Decision&#45;37</title>\n<ellipse fill=\"none\" stroke=\"red\" stroke-width=\"3\" cx=\"79.46\" cy=\"-186.5\" rx=\"51.2\" ry=\"18\"/>\n<text text-anchor=\"middle\" x=\"79.46\" y=\"-182.22\" font-family=\"arial\" font-size=\"12.00\">Decision&#45;37</text>\n</g>\n<!-- Output&#45;40&#45;&gt;Decision&#45;37 -->\n<g id=\"edge3\" class=\"edge\">\n<title>Output&#45;40&#45;&gt;Decision&#45;37</title>\n<path fill=\"none\" stroke=\"black\" d=\"M79.46,-132.8C79.46,-139.79 79.46,-148.06 79.46,-155.95\"/>\n<polygon fill=\"black\" stroke=\"black\" points=\"75.96,-155.91 79.46,-165.91 82.96,-155.91 75.96,-155.91\"/>\n</g>\n</g>\n</svg>\n",
      "text/plain": [
       "<graphviz.graphs.Digraph at 0x351d016d0>"
      ]
     },
     "execution_count": 85,
     "metadata": {},
     "output_type": "execute_result"
    }
   ],
   "execution_count": 85
  },
  {
   "metadata": {},
   "cell_type": "markdown",
   "source": "Now, we can simulate 100 congruent and 100 incongruent trials and look at the rt distributions:",
   "id": "b88e34e83d92f3ed"
  },
  {
   "metadata": {
    "ExecuteTime": {
     "end_time": "2025-09-23T21:50:51.328923Z",
     "start_time": "2025-09-23T21:50:00.323302Z"
    }
   },
   "cell_type": "code",
   "source": [
    "ddm_stroop, word_input, color_input = get_ddm_stroop()\n",
    "\n",
    "# example congruent stimulus\n",
    "rr = {word_input: [1, 0], color_input: [1, 0]}\n",
    "\n",
    "ddm_stroop.run(rr, num_trials= 5000)\n",
    "\n",
    "results = ddm_stroop.results\n",
    "\n",
    "decision_times_correct = [r[1][0] for r in results if r[0][0] > 0]  # decision == 1 -> red\n",
    "decision_time_error = [r[1][0] for r in results if r[0][0] < 0] # decision == -1 -> green\n",
    "\n",
    "plt.hist(decision_times_correct, bins=100, alpha=0.6, color='green', label='Correct')\n",
    "plt.hist(decision_time_error, bins=100, alpha=0.6, color='red', label='Error')\n",
    "\n",
    "plt.title('Response Time Distribution in Congruent Trials (RED in red)')\n",
    "plt.ylabel('Frequency')\n",
    "plt.xlabel('Response Time')\n",
    "plt.legend()\n",
    "plt.show()\n",
    "print(f'Average correct RT: {np.mean(decision_times_correct)}')\n",
    "print(f'Accuracy: {len(decision_times_correct) / (len(decision_times_correct) + len(decision_time_error))}')"
   ],
   "id": "7f501a832ebeea7b",
   "outputs": [
    {
     "data": {
      "text/plain": [
       "<Figure size 640x480 with 1 Axes>"
      ],
      "image/png": "[encoded data removed]"
     },
     "metadata": {},
     "output_type": "display_data"
    },
    {
     "name": "stdout",
     "output_type": "stream",
     "text": [
      "Average correct RT: 2.855040322580645\n",
      "Accuracy: 0.992\n"
     ]
    }
   ],
   "execution_count": 86
  },
  {
   "metadata": {
    "ExecuteTime": {
     "end_time": "2025-09-23T21:51:35.579746Z",
     "start_time": "2025-09-23T21:50:51.337366Z"
    }
   },
   "cell_type": "code",
   "source": [
    "ddm_stroop, word_input, color_input = get_ddm_stroop()\n",
    "\n",
    "# example congruent stimulus\n",
    "gg = {word_input: [0, 1], color_input: [0, 1]}\n",
    "\n",
    "ddm_stroop.run(gg, num_trials= 5000)\n",
    "\n",
    "results = ddm_stroop.results\n",
    "\n",
    "decision_times_correct = [r[1][0] for r in results if r[0][0] < 0]  # decision == 1 -> green\n",
    "decision_time_error = [r[1][0] for r in results if r[0][0] > 0] # decision == -1 -> red\n",
    "\n",
    "plt.hist(decision_times_correct, bins=100, alpha=0.6, color='green', label='Correct')\n",
    "plt.hist(decision_time_error, bins=100, alpha=0.6, color='red', label='Error')\n",
    "\n",
    "plt.title('Response Time Distribution in Congruent Trials (GREEN in green)')\n",
    "plt.ylabel('Frequency')\n",
    "plt.xlabel('Response Time')\n",
    "plt.legend()\n",
    "plt.show()\n",
    "print(f'Average correct RT: {np.mean(decision_times_correct)}')\n",
    "print(f'Accuracy: {len(decision_times_correct) / (len(decision_times_correct) + len(decision_time_error))}')"
   ],
   "id": "3ecc5b39fbc63cf5",
   "outputs": [
    {
     "data": {
      "text/plain": [
       "<Figure size 640x480 with 1 Axes>"
      ],
      "image/png": "[encoded data removed]"
     },
     "metadata": {},
     "output_type": "display_data"
    },
    {
     "name": "stdout",
     "output_type": "stream",
     "text": [
      "Average correct RT: 2.7992347966169957\n",
      "Accuracy: 0.9932\n"
     ]
    }
   ],
   "execution_count": 87
  },
  {
   "metadata": {
    "ExecuteTime": {
     "end_time": "2025-09-23T21:52:37.651599Z",
     "start_time": "2025-09-23T21:51:35.592370Z"
    }
   },
   "cell_type": "code",
   "source": [
    "ddm_stroop, word_input, color_input = get_ddm_stroop()\n",
    "\n",
    "# example congruent stimulus\n",
    "rg = {word_input: [1, 0], color_input: [0, 1]}\n",
    "\n",
    "ddm_stroop.run(rg, num_trials= 5000)\n",
    "\n",
    "results = ddm_stroop.results\n",
    "\n",
    "decision_times_correct = [r[1][0] for r in results if r[0][0] > 0]  # decision == 1 -> red\n",
    "decision_time_error = [r[1][0] for r in results if r[0][0] < 0] # decision == -1 -> green\n",
    "\n",
    "plt.hist(decision_times_correct, bins=100, alpha=0.6, color='green', label='Correct')\n",
    "plt.hist(decision_time_error, bins=100, alpha=0.6, color='red', label='Error')\n",
    "\n",
    "plt.title('Response Time Distribution in Incongruent Trials (RED in green)')\n",
    "plt.ylabel('Frequency')\n",
    "plt.xlabel('Response Time')\n",
    "plt.legend()\n",
    "plt.show()\n",
    "print(f'Average correct RT: {np.mean(decision_times_correct)}')\n",
    "print(f'Accuracy: {len(decision_times_correct) / (len(decision_times_correct) + len(decision_time_error))}')"
   ],
   "id": "21d5279e4f7a9fdb",
   "outputs": [
    {
     "data": {
      "text/plain": [
       "<Figure size 640x480 with 1 Axes>"
      ],
      "image/png": "[encoded data removed]"
     },
     "metadata": {},
     "output_type": "display_data"
    },
    {
     "name": "stdout",
     "output_type": "stream",
     "text": [
      "Average correct RT: 6.513469827586207\n",
      "Accuracy: 0.7424\n"
     ]
    }
   ],
   "execution_count": 88
  },
  {
   "metadata": {
    "ExecuteTime": {
     "end_time": "2025-09-23T21:53:39.547119Z",
     "start_time": "2025-09-23T21:52:37.668491Z"
    }
   },
   "cell_type": "code",
   "source": [
    "ddm_stroop, word_input, color_input = get_ddm_stroop()\n",
    "\n",
    "# example congruent stimulus\n",
    "gr = {word_input: [0, 1], color_input: [1, 0]}\n",
    "\n",
    "ddm_stroop.run(gr, num_trials= 5000)\n",
    "\n",
    "results = ddm_stroop.results\n",
    "\n",
    "decision_times_correct = [r[1][0] for r in results if r[0][0] < 0]  # decision == 1 -> red\n",
    "decision_time_error = [r[1][0] for r in results if r[0][0] > 0] # decision == -1 -> green\n",
    "\n",
    "plt.hist(decision_times_correct, bins=100, alpha=0.6, color='green', label='Correct')\n",
    "plt.hist(decision_time_error, bins=100, alpha=0.6, color='red', label='Error')\n",
    "\n",
    "plt.title('Response Time Distribution in Incongruent Trials (GREEN in red)')\n",
    "plt.ylabel('Frequency')\n",
    "plt.xlabel('Response Time')\n",
    "plt.legend()\n",
    "plt.show()\n",
    "print(f'Average correct RT: {np.mean(decision_times_correct)}')\n",
    "print(f'Accuracy: {len(decision_times_correct) / (len(decision_times_correct) + len(decision_time_error))}')"
   ],
   "id": "2378d7fce0cee81d",
   "outputs": [
    {
     "data": {
      "text/plain": [
       "<Figure size 640x480 with 1 Axes>"
      ],
      "image/png": "[encoded data removed]"
     },
     "metadata": {},
     "output_type": "display_data"
    },
    {
     "name": "stdout",
     "output_type": "stream",
     "text": [
      "Average correct RT: 6.337127371273713\n",
      "Accuracy: 0.738\n"
     ]
    }
   ],
   "execution_count": 89
  },
  {
   "metadata": {},
   "cell_type": "markdown",
   "source": [
    "## 3. Stroop with Task Demand\n",
    "\n",
    "Can you name the color?\n",
    "\n",
    "![stroop-animated](https://raw.githubusercontent.com/AutoResearch/ASDMB-Workshop/main/ASDMB-book/_static/img/practical-sessions/stroop-animated.gif)\n",
    "\n",
    "The above model suggests that the word-naming process will always overwrite the color-naming. But we can tell from experience that humans can clearly *surpress* the urge to name the word and instead name the color (allthough slower and more error-prone).\n",
    "\n",
    "To model this, we add a `task_demand` layer that adds activation to either (*both*) word units (RED and GREEN) or (*both*) color units (red and green). To do so, we also add a hidden word and color layers that are calculated from the respective input layer plus the new `task_demand` layer:"
   ],
   "id": "10e0610b95c1d9cc"
  },
  {
   "metadata": {
    "ExecuteTime": {
     "end_time": "2025-09-23T21:53:39.564871Z",
     "start_time": "2025-09-23T21:53:39.560307Z"
    }
   },
   "cell_type": "code",
   "source": [
    "def get_task_demand_stroop():\n",
    "    word_input = pnl.ProcessingMechanism(name=\"Word In\", input_shapes=2)\n",
    "    color_input = pnl.ProcessingMechanism(name=\"Color In\", input_shapes=2)\n",
    "\n",
    "    # A new task demand unit ([1,0] -> word naming, [0, 1] ->\n",
    "    task_demand_input = pnl.ProcessingMechanism(name=\"Task Demand\", input_shapes=2)\n",
    "\n",
    "    word_hidden = pnl.ProcessingMechanism(name=\"Word Hidden\", input_shapes=2, function=pnl.Logistic(bias=-4))\n",
    "    color_hidden = pnl.ProcessingMechanism(name=\"Color Hidden\", input_shapes=2, function=pnl.Logistic(bias=-4))\n",
    "\n",
    "    # output layer (shape == 2 for one-hot encoded output red or green)\n",
    "    output_layer = pnl.ProcessingMechanism(name=\"Output\", input_shapes=2)\n",
    "\n",
    "    # DDM for decision making\n",
    "    decision_layer = pnl.DDM(\n",
    "        name='Decision',\n",
    "        input_format=pnl.ARRAY,\n",
    "        function=pnl.DriftDiffusionIntegrator(\n",
    "            noise=.5,\n",
    "            rate=.05,\n",
    "            threshold=1.\n",
    "        ),\n",
    "        reset_stateful_function_when=pnl.AtTrialStart())\n",
    "\n",
    "    # create the compositions\n",
    "    composition = pnl.Composition(name=\"Linear Stroop\")\n",
    "\n",
    "    # Create the projections\n",
    "\n",
    "    identity_matrix = np.array(\n",
    "        [[1, -1],\n",
    "         [-1, 1]])\n",
    "    word_processing_matrix = WORD_STRENGTH * identity_matrix\n",
    "    color_processing_matrix = COLOR_STRENGTH * identity_matrix\n",
    "\n",
    "    # create projections\n",
    "    word_hidden_projection = pnl.MappingProjection(matrix=word_processing_matrix)\n",
    "    color_hidden_projection = pnl.MappingProjection(matrix=color_processing_matrix)\n",
    "\n",
    "\n",
    "    # Add pathways to the composition\n",
    "    composition.add_linear_processing_pathway([word_input,word_hidden_projection, word_hidden])\n",
    "\n",
    "    composition.add_linear_processing_pathway([color_input,color_hidden_projection, color_hidden])\n",
    "\n",
    "\n",
    "    # task -> hidden\n",
    "    task_word_hidden_matrix = TASK_STRENGTH * np.array(\n",
    "        [[1, 1],\n",
    "         [0, 0]])\n",
    "    task_color_hidden_matrix = TASK_STRENGTH * np.array(\n",
    "        [[0, 0],\n",
    "         [1, 1]]\n",
    "    )\n",
    "\n",
    "    task_word_hidden_projection = pnl.MappingProjection(matrix=task_word_hidden_matrix)\n",
    "    task_color_hidden_projection = pnl.MappingProjection(matrix=task_color_hidden_matrix)\n",
    "\n",
    "    composition.add_linear_processing_pathway([\n",
    "        task_demand_input,\n",
    "        task_word_hidden_projection,\n",
    "        word_hidden\n",
    "    ])\n",
    "\n",
    "    composition.add_linear_processing_pathway([\n",
    "        task_demand_input,\n",
    "        task_color_hidden_projection,\n",
    "        color_hidden\n",
    "    ])\n",
    "\n",
    "    # scale the inhibition matrix by the processing strength\n",
    "    word_matrix = WORD_STRENGTH * identity_matrix\n",
    "    color_matrix = COLOR_STRENGTH * identity_matrix\n",
    "\n",
    "    # create projections\n",
    "    word_projection = pnl.MappingProjection(matrix=word_matrix)\n",
    "    color_projection = pnl.MappingProjection(matrix=color_matrix)\n",
    "\n",
    "    # hidden -> output\n",
    "    composition.add_linear_processing_pathway([\n",
    "        word_hidden, word_projection, output_layer\n",
    "    ])\n",
    "\n",
    "    composition.add_linear_processing_pathway([\n",
    "        color_hidden,color_projection, output_layer\n",
    "    ])\n",
    "\n",
    "    # output -> decision\n",
    "\n",
    "    composition.add_linear_processing_pathway([output_layer, decision_layer])\n",
    "\n",
    "    return composition, word_input, color_input, task_demand_input"
   ],
   "id": "158e44bde28e5df1",
   "outputs": [],
   "execution_count": 90
  },
  {
   "metadata": {},
   "cell_type": "markdown",
   "source": "Let's look at the new compostions:",
   "id": "f1b59cfe17d96e77"
  },
  {
   "metadata": {
    "ExecuteTime": {
     "end_time": "2025-09-23T21:53:40.538377Z",
     "start_time": "2025-09-23T21:53:39.587306Z"
    }
   },
   "cell_type": "code",
   "source": [
    "comp, _, _, _ = get_task_demand_stroop()\n",
    "comp.show_graph(output_fmt='jupyter')"
   ],
   "id": "fd1ca10fd13bf009",
   "outputs": [
    {
     "data": {
      "image/svg+xml": "<?xml version=\"1.0\" encoding=\"UTF-8\" standalone=\"no\"?>\n<!DOCTYPE svg PUBLIC \"-//W3C//DTD SVG 1.1//EN\"\n \"http://www.w3.org/Graphics/SVG/1.1/DTD/svg11.dtd\">\n<!-- Generated by graphviz version 12.2.1 (20241206.2353)\n -->\n<!-- Title: Linear Stroop&#45;2 Pages: 1 -->\n<svg width=\"370pt\" height=\"285pt\"\n viewBox=\"0.00 0.00 370.24 284.50\" xmlns=\"http://www.w3.org/2000/svg\" xmlns:xlink=\"http://www.w3.org/1999/xlink\">\n<g id=\"graph0\" class=\"graph\" transform=\"scale(1 1) rotate(0) translate(4 280.5)\">\n<title>Linear Stroop&#45;2</title>\n<polygon fill=\"white\" stroke=\"none\" points=\"-4,4 -4,-280.5 366.24,-280.5 366.24,4 -4,4\"/>\n<text text-anchor=\"middle\" x=\"181.12\" y=\"-7.2\" font-family=\"Times,serif\" font-size=\"14.00\">Linear Stroop&#45;2</text>\n<!-- Task Demand&#45;37 -->\n<g id=\"node1\" class=\"node\">\n<title>Task Demand&#45;37</title>\n<ellipse fill=\"none\" stroke=\"green\" stroke-width=\"3\" cx=\"180.38\" cy=\"-42.5\" rx=\"67.9\" ry=\"18\"/>\n<text text-anchor=\"middle\" x=\"180.38\" y=\"-38.23\" font-family=\"arial\" font-size=\"12.00\">Task Demand&#45;37</text>\n</g>\n<!-- Word Hidden&#45;37 -->\n<g id=\"node4\" class=\"node\">\n<title>Word Hidden&#45;37</title>\n<ellipse fill=\"none\" stroke=\"black\" cx=\"105.38\" cy=\"-114.5\" rx=\"65.99\" ry=\"18\"/>\n<text text-anchor=\"middle\" x=\"105.38\" y=\"-110.22\" font-family=\"arial\" font-size=\"12.00\">Word Hidden&#45;37</text>\n</g>\n<!-- Task Demand&#45;37&#45;&gt;Word Hidden&#45;37 -->\n<g id=\"edge1\" class=\"edge\">\n<title>Task Demand&#45;37&#45;&gt;Word Hidden&#45;37</title>\n<path fill=\"none\" stroke=\"black\" d=\"M161.46,-61.16C152.4,-69.62 141.4,-79.89 131.55,-89.08\"/>\n<polygon fill=\"black\" stroke=\"black\" points=\"129.3,-86.39 124.38,-95.77 134.08,-91.51 129.3,-86.39\"/>\n</g>\n<!-- Color Hidden&#45;37 -->\n<g id=\"node5\" class=\"node\">\n<title>Color Hidden&#45;37</title>\n<ellipse fill=\"none\" stroke=\"black\" cx=\"255.38\" cy=\"-114.5\" rx=\"66.46\" ry=\"18\"/>\n<text text-anchor=\"middle\" x=\"255.38\" y=\"-110.22\" font-family=\"arial\" font-size=\"12.00\">Color Hidden&#45;37</text>\n</g>\n<!-- Task Demand&#45;37&#45;&gt;Color Hidden&#45;37 -->\n<g id=\"edge4\" class=\"edge\">\n<title>Task Demand&#45;37&#45;&gt;Color Hidden&#45;37</title>\n<path fill=\"none\" stroke=\"black\" d=\"M199.31,-61.16C208.37,-69.62 219.37,-79.89 229.22,-89.08\"/>\n<polygon fill=\"black\" stroke=\"black\" points=\"226.69,-91.51 236.39,-95.77 231.47,-86.39 226.69,-91.51\"/>\n</g>\n<!-- Color In&#45;37 -->\n<g id=\"node2\" class=\"node\">\n<title>Color In&#45;37</title>\n<ellipse fill=\"none\" stroke=\"green\" stroke-width=\"3\" cx=\"314.38\" cy=\"-42.5\" rx=\"47.86\" ry=\"18\"/>\n<text text-anchor=\"middle\" x=\"314.38\" y=\"-38.23\" font-family=\"arial\" font-size=\"12.00\">Color In&#45;37</text>\n</g>\n<!-- Color In&#45;37&#45;&gt;Color Hidden&#45;37 -->\n<g id=\"edge3\" class=\"edge\">\n<title>Color In&#45;37&#45;&gt;Color Hidden&#45;37</title>\n<path fill=\"none\" stroke=\"black\" d=\"M299.8,-60.8C292.84,-69.06 284.37,-79.11 276.71,-88.2\"/>\n<polygon fill=\"black\" stroke=\"black\" points=\"274.14,-85.82 270.37,-95.72 279.49,-90.33 274.14,-85.82\"/>\n</g>\n<!-- Word In&#45;37 -->\n<g id=\"node3\" class=\"node\">\n<title>Word In&#45;37</title>\n<ellipse fill=\"none\" stroke=\"green\" stroke-width=\"3\" cx=\"47.38\" cy=\"-42.5\" rx=\"47.38\" ry=\"18\"/>\n<text text-anchor=\"middle\" x=\"47.38\" y=\"-38.23\" font-family=\"arial\" font-size=\"12.00\">Word In&#45;37</text>\n</g>\n<!-- Word In&#45;37&#45;&gt;Word Hidden&#45;37 -->\n<g id=\"edge2\" class=\"edge\">\n<title>Word In&#45;37&#45;&gt;Word Hidden&#45;37</title>\n<path fill=\"none\" stroke=\"black\" d=\"M61.72,-60.8C68.56,-69.06 76.89,-79.11 84.42,-88.2\"/>\n<polygon fill=\"black\" stroke=\"black\" points=\"81.57,-90.25 90.65,-95.71 86.96,-85.78 81.57,-90.25\"/>\n</g>\n<!-- Output&#45;45 -->\n<g id=\"node6\" class=\"node\">\n<title>Output&#45;45</title>\n<ellipse fill=\"none\" stroke=\"black\" cx=\"180.38\" cy=\"-186.5\" rx=\"43.57\" ry=\"18\"/>\n<text text-anchor=\"middle\" x=\"180.38\" y=\"-182.22\" font-family=\"arial\" font-size=\"12.00\">Output&#45;45</text>\n</g>\n<!-- Word Hidden&#45;37&#45;&gt;Output&#45;45 -->\n<g id=\"edge6\" class=\"edge\">\n<title>Word Hidden&#45;37&#45;&gt;Output&#45;45</title>\n<path fill=\"none\" stroke=\"black\" d=\"M123.16,-132.09C132.63,-140.93 144.46,-151.97 154.9,-161.71\"/>\n<polygon fill=\"black\" stroke=\"black\" points=\"152.45,-164.21 162.15,-168.48 157.22,-159.1 152.45,-164.21\"/>\n</g>\n<!-- Color Hidden&#45;37&#45;&gt;Output&#45;45 -->\n<g id=\"edge5\" class=\"edge\">\n<title>Color Hidden&#45;37&#45;&gt;Output&#45;45</title>\n<path fill=\"none\" stroke=\"black\" d=\"M237.61,-132.09C228.13,-140.93 216.31,-151.97 205.87,-161.71\"/>\n<polygon fill=\"black\" stroke=\"black\" points=\"203.54,-159.1 198.62,-168.48 208.32,-164.21 203.54,-159.1\"/>\n</g>\n<!-- Decision&#45;42 -->\n<g id=\"node7\" class=\"node\">\n<title>Decision&#45;42</title>\n<ellipse fill=\"none\" stroke=\"red\" stroke-width=\"3\" cx=\"180.38\" cy=\"-258.5\" rx=\"51.2\" ry=\"18\"/>\n<text text-anchor=\"middle\" x=\"180.38\" y=\"-254.22\" font-family=\"arial\" font-size=\"12.00\">Decision&#45;42</text>\n</g>\n<!-- Output&#45;45&#45;&gt;Decision&#45;42 -->\n<g id=\"edge7\" class=\"edge\">\n<title>Output&#45;45&#45;&gt;Decision&#45;42</title>\n<path fill=\"none\" stroke=\"black\" d=\"M180.38,-204.8C180.38,-211.79 180.38,-220.06 180.38,-227.95\"/>\n<polygon fill=\"black\" stroke=\"black\" points=\"176.88,-227.91 180.38,-237.91 183.88,-227.91 176.88,-227.91\"/>\n</g>\n</g>\n</svg>\n",
      "text/plain": [
       "<graphviz.graphs.Digraph at 0x3548a7910>"
      ]
     },
     "execution_count": 91,
     "metadata": {},
     "output_type": "execute_result"
    }
   ],
   "execution_count": 91
  },
  {
   "metadata": {
    "ExecuteTime": {
     "end_time": "2025-09-23T21:53:55.028151Z",
     "start_time": "2025-09-23T21:53:40.541733Z"
    }
   },
   "cell_type": "code",
   "source": [
    "comp, word_input, color_input, task_input = get_task_demand_stroop()\n",
    "\n",
    "# example congruent stimulus (word meaning)\n",
    "rr_w = {word_input: [1, 0], color_input: [1, 0], task_input: [1, 0]}\n",
    "\n",
    "comp.run(rr_w, num_trials= 1000)\n",
    "\n",
    "results = comp.results# RED written in red\n",
    "\n",
    "decision_times_correct = [r[1][0] for r in results if r[0][0] > 0]\n",
    "decision_time_error = [r[1][0] for r in results if r[0][0] < 0]\n",
    "\n",
    "plt.hist(decision_times_correct, bins=100, alpha=0.6, color='green', label='Correct')\n",
    "plt.hist(decision_time_error, bins=100, alpha=0.6, color='red', label='Error')\n",
    "\n",
    "plt.title('Response Time Distribution in Congruent Trials (word reading)')\n",
    "plt.ylabel('Frequency')\n",
    "plt.xlabel('Response Time')\n",
    "plt.legend()\n",
    "plt.show()\n",
    "average_rt_congruent_word_reading = np.mean(decision_times_correct)\n",
    "print(f'Average correct RT: {np.mean(decision_times_correct)}')\n",
    "print(f'Accuracy: {len(decision_times_correct) / (len(decision_times_correct) + len(decision_time_error))}')"
   ],
   "id": "bb4ea4a7838ea09b",
   "outputs": [
    {
     "data": {
      "text/plain": [
       "<Figure size 640x480 with 1 Axes>"
      ],
      "image/png": "[encoded data removed]"
     },
     "metadata": {},
     "output_type": "display_data"
    },
    {
     "name": "stdout",
     "output_type": "stream",
     "text": [
      "Average correct RT: 4.090521831735889\n",
      "Accuracy: 0.939\n"
     ]
    }
   ],
   "execution_count": 92
  },
  {
   "metadata": {
    "ExecuteTime": {
     "end_time": "2025-09-23T21:54:09.531586Z",
     "start_time": "2025-09-23T21:53:55.035147Z"
    }
   },
   "cell_type": "code",
   "source": [
    "comp, word_input, color_input, task_input = get_task_demand_stroop()\n",
    "\n",
    "# example incongruent stimulus (word reading)\n",
    "rg_w = {word_input: [1, 0], color_input: [0, 1], task_input: [1, 0]}\n",
    "\n",
    "comp.run(rg_w, num_trials= 1000)\n",
    "\n",
    "results = comp.results# RED written in red\n",
    "\n",
    "decision_times_correct = [r[1][0] for r in results if r[0][0] > 0]\n",
    "decision_time_error = [r[1][0] for r in results if r[0][0] < 0]\n",
    "\n",
    "plt.hist(decision_times_correct, bins=100, alpha=0.6, color='green', label='Correct')\n",
    "plt.hist(decision_time_error, bins=100, alpha=0.6, color='red', label='Error')\n",
    "\n",
    "plt.title('Response Time Distribution in Incongruent Trials (color naming)')\n",
    "plt.ylabel('Frequency')\n",
    "plt.xlabel('Response Time')\n",
    "plt.legend()\n",
    "plt.show()\n",
    "average_rt_incongruent_word_reading = np.mean(decision_times_correct)\n",
    "print(f'Average correct RT: {np.mean(decision_times_correct)}')\n",
    "print(f'Accuracy: {len(decision_times_correct) / (len(decision_times_correct) + len(decision_time_error))}')"
   ],
   "id": "b6d56c1fd87ba801",
   "outputs": [
    {
     "data": {
      "text/plain": [
       "<Figure size 640x480 with 1 Axes>"
      ],
      "image/png": "[encoded data removed]"
     },
     "metadata": {},
     "output_type": "display_data"
    },
    {
     "name": "stdout",
     "output_type": "stream",
     "text": [
      "Average correct RT: 4.716157205240175\n",
      "Accuracy: 0.916\n"
     ]
    }
   ],
   "execution_count": 93
  },
  {
   "metadata": {
    "ExecuteTime": {
     "end_time": "2025-09-23T21:54:26.058190Z",
     "start_time": "2025-09-23T21:54:09.538506Z"
    }
   },
   "cell_type": "code",
   "source": [
    "comp, word_input, color_input, task_input = get_task_demand_stroop()\n",
    "\n",
    "# example congruent stimulus (color naming)\n",
    "rr_c = {word_input: [1, 0], color_input: [1, 0], task_input: [0, 1]}\n",
    "\n",
    "comp.run(rr_c, num_trials= 1000)\n",
    "\n",
    "results = comp.results# RED written in red\n",
    "\n",
    "decision_times_correct = [r[1][0] for r in results if r[0][0] > 0]\n",
    "decision_time_error = [r[1][0] for r in results if r[0][0] < 0]\n",
    "\n",
    "plt.hist(decision_times_correct, bins=100, alpha=0.6, color='green', label='Correct')\n",
    "plt.hist(decision_time_error, bins=100, alpha=0.6, color='red', label='Error')\n",
    "\n",
    "plt.title('Response Time Distribution in congruent Trials (word meaning)')\n",
    "plt.ylabel('Frequency')\n",
    "plt.xlabel('Response Time')\n",
    "plt.legend()\n",
    "plt.show()\n",
    "average_rt_congruent_color_naming = np.mean(decision_times_correct)\n",
    "print(f'Average correct RT: {np.mean(decision_times_correct)}')\n",
    "print(f'Accuracy: {len(decision_times_correct) / (len(decision_times_correct) + len(decision_time_error))}')"
   ],
   "id": "69a4c1121e917f5",
   "outputs": [
    {
     "data": {
      "text/plain": [
       "<Figure size 640x480 with 1 Axes>"
      ],
      "image/png": "[encoded data removed]"
     },
     "metadata": {},
     "output_type": "display_data"
    },
    {
     "name": "stdout",
     "output_type": "stream",
     "text": [
      "Average correct RT: 4.934426229508197\n",
      "Accuracy: 0.915\n"
     ]
    }
   ],
   "execution_count": 94
  },
  {
   "metadata": {
    "ExecuteTime": {
     "end_time": "2025-09-23T21:54:42.348339Z",
     "start_time": "2025-09-23T21:54:26.065002Z"
    }
   },
   "cell_type": "code",
   "source": [
    "comp, word_input, color_input, task_input = get_task_demand_stroop()\n",
    "\n",
    "# example incongruent stimulus (color naming)\n",
    "gr_c = {word_input: [0, 1], color_input: [1, 0], task_input: [0, 1]}\n",
    "\n",
    "comp.run(gr_c, num_trials= 1000)\n",
    "\n",
    "results = comp.results# RED written in red\n",
    "\n",
    "decision_times_correct = [r[1][0] for r in results if r[0][0] > 0]\n",
    "decision_time_error = [r[1][0] for r in results if r[0][0] < 0]\n",
    "\n",
    "plt.hist(decision_times_correct, bins=100, alpha=0.6, color='green', label='Correct')\n",
    "plt.hist(decision_time_error, bins=100, alpha=0.6, color='red', label='Error')\n",
    "\n",
    "plt.title('Response Time Distribution in congruent Trials (word meaning)')\n",
    "plt.ylabel('Frequency')\n",
    "plt.xlabel('Response Time')\n",
    "plt.legend()\n",
    "plt.show()\n",
    "average_rt_incongruent_color_naming = np.mean(decision_times_correct)\n",
    "print(f'Average correct RT: {np.mean(decision_times_correct)}')\n",
    "print(f'Accuracy: {len(decision_times_correct) / (len(decision_times_correct) + len(decision_time_error))}')"
   ],
   "id": "f929e16a3f2a5a82",
   "outputs": [
    {
     "data": {
      "text/plain": [
       "<Figure size 640x480 with 1 Axes>"
      ],
      "image/png": "[encoded data removed]"
     },
     "metadata": {},
     "output_type": "display_data"
    },
    {
     "name": "stdout",
     "output_type": "stream",
     "text": [
      "Average correct RT: 6.677966101694915\n",
      "Accuracy: 0.649\n"
     ]
    }
   ],
   "execution_count": 95
  },
  {
   "metadata": {
    "ExecuteTime": {
     "end_time": "2025-09-23T21:54:42.357296Z",
     "start_time": "2025-09-23T21:54:42.355141Z"
    }
   },
   "cell_type": "code",
   "source": [
    "# Congruency effects:\n",
    "\n",
    "print('Congruency Effects')\n",
    "print('Word Reading:', average_rt_incongruent_word_reading - average_rt_congruent_word_reading)\n",
    "print('Congruency Effects')\n",
    "print('Color Naming:', average_rt_incongruent_color_naming - average_rt_congruent_color_naming)"
   ],
   "id": "129a6c09b5b16451",
   "outputs": [
    {
     "name": "stdout",
     "output_type": "stream",
     "text": [
      "Congruency Effects\n",
      "Word Reading: 0.6256353735042861\n",
      "Congruency Effects\n",
      "Color Naming: 1.7435398721867186\n"
     ]
    }
   ],
   "execution_count": 96
  },
  {
   "metadata": {},
   "cell_type": "markdown",
   "source": [
    "## 4. Stroop With Conflict Monitoring\n",
    "\n",
    "Remember: For our closed loop (later tonight) we want to investigate weather humans can adapt cognitive control. We want to see if more incongruent trials lead to less interference. However, the above model can not capture any sequential or adaptive effects.\n",
    "\n",
    "To model this, we can add a control mechanism that monitors *conflict* and adapts how much task demand is applied to the word and color pathways. The idea: If we experience little conflict, for example because all the trials are word reading trials, or all of them are incongruent, we don't *need* the task_demand unit to answer correctly. Therefore, we can reduce its influence. However, if we experience a lot of conflict, for example because all the trials are reconfiguring, color naming trials, we need to increase the influence of the task_demand unit to answer correctly.\n",
    "\n",
    "In our model, we add a control that monitors the `output layer` for conflict (i.e., both output units are highly activated). We also add a `task_hidden` unit with a logistic function. Its gain is modulated by the control mechanism. This way, the control mechanism can increase or decrease the influence of the task demand unit on the hidden word and color layers.\n"
   ],
   "id": "2c22a27041a820ec"
  },
  {
   "metadata": {
    "ExecuteTime": {
     "end_time": "2025-09-23T21:54:42.384298Z",
     "start_time": "2025-09-23T21:54:42.377251Z"
    }
   },
   "cell_type": "code",
   "source": [
    "def get_conflict_monitoring_stroop():\n",
    "    word_input = pnl.ProcessingMechanism(name=\"Word In\", input_shapes=2)\n",
    "    color_input = pnl.ProcessingMechanism(name=\"Color In\", input_shapes=2)\n",
    "    task_demand_input = pnl.ProcessingMechanism(name=\"Task Demand\", input_shapes=2)\n",
    "\n",
    "    word_hidden = pnl.ProcessingMechanism(name=\"Word Hidden\", input_shapes=2, function=pnl.Logistic(bias=-4))\n",
    "    color_hidden = pnl.ProcessingMechanism(name=\"Color Hidden\", input_shapes=2, function=pnl.Logistic(bias=-4))\n",
    "    # new task hidden that is modulated\n",
    "    task_hidden = pnl.ProcessingMechanism(name=\"Task Hidden\", input_shapes=2, function=pnl.Logistic(bias=-.5))\n",
    "\n",
    "    # output layer (shape == 2 for one-hot encoded output red or green)\n",
    "    output_layer = pnl.ProcessingMechanism(name=\"Output\", input_shapes=2)\n",
    "\n",
    "    control = pnl.ControlMechanism(name='Control',\n",
    "                                   objective_mechanism=pnl.ObjectiveMechanism(\n",
    "                                       name='Conflict Monitor',\n",
    "                                       monitor=output_layer,\n",
    "                                       function=pnl.Energy(input_shapes=2,\n",
    "                                                           matrix=[[0, -0.5], [-0.5, 0]])),\n",
    "                                   default_allocation=[1.],\n",
    "                                   control_signals=[(pnl.GAIN, task_hidden)])\n",
    "\n",
    "    # DDM for decision making\n",
    "    decision_layer = pnl.DDM(\n",
    "        name='Decision',\n",
    "        input_format=pnl.ARRAY,\n",
    "        function=pnl.DriftDiffusionIntegrator(\n",
    "            noise=.5,\n",
    "            rate=.05,\n",
    "            threshold=1.\n",
    "        ),\n",
    "        reset_stateful_function_when=pnl.AtTrialStart())\n",
    "\n",
    "    # create the compositions\n",
    "    composition = pnl.Composition(name=\"Conflict Stroop\")\n",
    "\n",
    "    # Create the projections\n",
    "\n",
    "    identity_matrix = np.array(\n",
    "        [[1, -1],\n",
    "         [-1, 1]])\n",
    "\n",
    "    # scale the inhibition matrix by the processing strength\n",
    "    word_hidden_matrix = WORD_STRENGTH * identity_matrix\n",
    "    color_hidden_matrix = COLOR_STRENGTH * identity_matrix\n",
    "\n",
    "    # create projections\n",
    "    word_hidden_projection = pnl.MappingProjection(matrix=word_hidden_matrix)\n",
    "    color_hidden_projection = pnl.MappingProjection(matrix=color_hidden_matrix)\n",
    "\n",
    "    # Add pathways to the composition\n",
    "    composition.add_linear_processing_pathway([\n",
    "        word_input, word_hidden_projection, word_hidden\n",
    "    ])\n",
    "\n",
    "    composition.add_linear_processing_pathway([\n",
    "        color_input, color_hidden_projection, color_hidden])\n",
    "\n",
    "    # task -> task_hidden\n",
    "    composition.add_linear_processing_pathway([task_demand_input, task_hidden])\n",
    "\n",
    "    # task_hidden -> hidden (word and color)\n",
    "    task_hidden_word_hidden_matrix = TASK_STRENGTH * np.array(\n",
    "        [[1, 1],\n",
    "         [0, 0]])\n",
    "    task_hidden_color_hidden_matrix = TASK_STRENGTH * np.array(\n",
    "        [[0, 0],\n",
    "         [1, 1]]\n",
    "    )\n",
    "\n",
    "    task_word_hidden_projection = pnl.MappingProjection(matrix=task_hidden_word_hidden_matrix)\n",
    "    task_color_hidden_projection = pnl.MappingProjection(matrix=task_hidden_color_hidden_matrix)\n",
    "\n",
    "    composition.add_linear_processing_pathway([\n",
    "        task_hidden,\n",
    "        task_word_hidden_projection,\n",
    "        word_hidden\n",
    "    ])\n",
    "\n",
    "    composition.add_linear_processing_pathway([\n",
    "        task_hidden,\n",
    "        task_color_hidden_projection,\n",
    "        color_hidden\n",
    "    ])\n",
    "\n",
    "    word_matrix = WORD_STRENGTH * identity_matrix\n",
    "    color_matrix = COLOR_STRENGTH * identity_matrix\n",
    "\n",
    "    # create projections\n",
    "    word_projection = pnl.MappingProjection(matrix=word_matrix)\n",
    "    color_projection = pnl.MappingProjection(matrix=color_matrix)\n",
    "\n",
    "    # hidden -> output\n",
    "    composition.add_linear_processing_pathway([\n",
    "        word_hidden, output_layer\n",
    "    ])\n",
    "\n",
    "    composition.add_linear_processing_pathway([\n",
    "        color_hidden, output_layer\n",
    "    ])\n",
    "\n",
    "    # output -> decision\n",
    "\n",
    "    composition.add_linear_processing_pathway([output_layer, decision_layer])\n",
    "\n",
    "    composition.add_controller(control)\n",
    "\n",
    "    def print_after():\n",
    "        print('*' * 40)\n",
    "        print(f'\\t\\t\\t Trial')\n",
    "        print(f'\\tinput:\\t\\tword  color  task')\n",
    "        print(f'\\t\\t\\t {word_input.value[0]}    {color_input.value[0]}    {task_demand_input.value[0]}')\n",
    "        print(f'\\t\\t\\t {word_hidden.value[0]}    {color_hidden.value[0]}    {task_hidden.value[0]}')\n",
    "        print(f'\\t\\t\\t\\tcolor  word')\n",
    "        print(f'\\ttask:\\t\\t{task_hidden.value[0]}')\n",
    "        print(f'\\ttask gain:\\t   {task_hidden.parameter_ports[pnl.GAIN].value}')\n",
    "        print(f'\\t\\t\\t\\tred   green')\n",
    "        print(f'\\toutput:\\t\\t{output_layer.value[0]}')\n",
    "        print(f'\\tdecision:\\t{decision_layer.value[0]}{decision_layer.value[1]}')\n",
    "        print(f'\\tconflict:\\t  {control.objective_mechanism.value[0]}')\n",
    "\n",
    "    return composition, word_input, color_input, task_demand_input, print_after"
   ],
   "id": "b6d5146c0b45e8c2",
   "outputs": [],
   "execution_count": 97
  },
  {
   "metadata": {
    "ExecuteTime": {
     "end_time": "2025-09-23T21:54:43.671305Z",
     "start_time": "2025-09-23T21:54:42.391733Z"
    }
   },
   "cell_type": "code",
   "source": [
    "comp, _, _, _, _ = get_conflict_monitoring_stroop()\n",
    "comp.show_graph(output_fmt='jupyter')"
   ],
   "id": "dcfc4e469f8a47db",
   "outputs": [
    {
     "data": {
      "image/svg+xml": "<?xml version=\"1.0\" encoding=\"UTF-8\" standalone=\"no\"?>\n<!DOCTYPE svg PUBLIC \"-//W3C//DTD SVG 1.1//EN\"\n \"http://www.w3.org/Graphics/SVG/1.1/DTD/svg11.dtd\">\n<!-- Generated by graphviz version 12.2.1 (20241206.2353)\n -->\n<!-- Title: Conflict Stroop&#45;37 Pages: 1 -->\n<svg width=\"385pt\" height=\"437pt\"\n viewBox=\"0.00 0.00 384.88 436.50\" xmlns=\"http://www.w3.org/2000/svg\" xmlns:xlink=\"http://www.w3.org/1999/xlink\">\n<g id=\"graph0\" class=\"graph\" transform=\"scale(1 1) rotate(0) translate(4 432.5)\">\n<title>Conflict Stroop&#45;37</title>\n<polygon fill=\"white\" stroke=\"none\" points=\"-4,4 -4,-432.5 380.88,-432.5 380.88,4 -4,4\"/>\n<text text-anchor=\"middle\" x=\"188.44\" y=\"-7.2\" font-family=\"Times,serif\" font-size=\"14.00\">Conflict Stroop&#45;37</text>\n<!-- Task Demand&#45;42 -->\n<g id=\"node1\" class=\"node\">\n<title>Task Demand&#45;42</title>\n<ellipse fill=\"none\" stroke=\"green\" stroke-width=\"3\" cx=\"308.99\" cy=\"-42.5\" rx=\"67.9\" ry=\"18\"/>\n<text text-anchor=\"middle\" x=\"308.99\" y=\"-38.23\" font-family=\"arial\" font-size=\"12.00\">Task Demand&#45;42</text>\n</g>\n<!-- Task Hidden&#45;37 -->\n<g id=\"node5\" class=\"node\">\n<title>Task Hidden&#45;37</title>\n<ellipse fill=\"none\" stroke=\"black\" cx=\"308.99\" cy=\"-114.5\" rx=\"63.6\" ry=\"18\"/>\n<text text-anchor=\"middle\" x=\"308.99\" y=\"-110.22\" font-family=\"arial\" font-size=\"12.00\">Task Hidden&#45;37</text>\n</g>\n<!-- Task Demand&#45;42&#45;&gt;Task Hidden&#45;37 -->\n<g id=\"edge5\" class=\"edge\">\n<title>Task Demand&#45;42&#45;&gt;Task Hidden&#45;37</title>\n<path fill=\"none\" stroke=\"black\" d=\"M308.99,-61.89C308.99,-68.99 308.99,-77.28 308.99,-85.11\"/>\n<polygon fill=\"black\" stroke=\"black\" points=\"305.49,-84.92 308.99,-94.92 312.49,-84.92 305.49,-84.92\"/>\n</g>\n<!-- Color In&#45;42 -->\n<g id=\"node2\" class=\"node\">\n<title>Color In&#45;42</title>\n<ellipse fill=\"none\" stroke=\"green\" stroke-width=\"3\" cx=\"179.99\" cy=\"-114.5\" rx=\"47.86\" ry=\"18\"/>\n<text text-anchor=\"middle\" x=\"179.99\" y=\"-110.22\" font-family=\"arial\" font-size=\"12.00\">Color In&#45;42</text>\n</g>\n<!-- Color Hidden&#45;42 -->\n<g id=\"node6\" class=\"node\">\n<title>Color Hidden&#45;42</title>\n<ellipse fill=\"none\" stroke=\"black\" cx=\"215.99\" cy=\"-186.5\" rx=\"66.46\" ry=\"18\"/>\n<text text-anchor=\"middle\" x=\"215.99\" y=\"-182.22\" font-family=\"arial\" font-size=\"12.00\">Color Hidden&#45;42</text>\n</g>\n<!-- Color In&#45;42&#45;&gt;Color Hidden&#45;42 -->\n<g id=\"edge3\" class=\"edge\">\n<title>Color In&#45;42&#45;&gt;Color Hidden&#45;42</title>\n<path fill=\"none\" stroke=\"black\" d=\"M189.26,-133.53C193.13,-141.05 197.7,-149.94 201.96,-158.23\"/>\n<polygon fill=\"black\" stroke=\"black\" points=\"198.74,-159.62 206.43,-166.91 204.97,-156.42 198.74,-159.62\"/>\n</g>\n<!-- Word In&#45;42 -->\n<g id=\"node3\" class=\"node\">\n<title>Word In&#45;42</title>\n<ellipse fill=\"none\" stroke=\"green\" stroke-width=\"3\" cx=\"65.99\" cy=\"-114.5\" rx=\"47.38\" ry=\"18\"/>\n<text text-anchor=\"middle\" x=\"65.99\" y=\"-110.22\" font-family=\"arial\" font-size=\"12.00\">Word In&#45;42</text>\n</g>\n<!-- Word Hidden&#45;42 -->\n<g id=\"node4\" class=\"node\">\n<title>Word Hidden&#45;42</title>\n<ellipse fill=\"none\" stroke=\"black\" cx=\"65.99\" cy=\"-186.5\" rx=\"65.99\" ry=\"18\"/>\n<text text-anchor=\"middle\" x=\"65.99\" y=\"-182.22\" font-family=\"arial\" font-size=\"12.00\">Word Hidden&#45;42</text>\n</g>\n<!-- Word In&#45;42&#45;&gt;Word Hidden&#45;42 -->\n<g id=\"edge2\" class=\"edge\">\n<title>Word In&#45;42&#45;&gt;Word Hidden&#45;42</title>\n<path fill=\"none\" stroke=\"black\" d=\"M65.99,-133.89C65.99,-140.99 65.99,-149.28 65.99,-157.11\"/>\n<polygon fill=\"black\" stroke=\"black\" points=\"62.49,-156.92 65.99,-166.92 69.49,-156.92 62.49,-156.92\"/>\n</g>\n<!-- Output&#45;50 -->\n<g id=\"node7\" class=\"node\">\n<title>Output&#45;50</title>\n<ellipse fill=\"none\" stroke=\"black\" cx=\"151.99\" cy=\"-258.5\" rx=\"43.57\" ry=\"18\"/>\n<text text-anchor=\"middle\" x=\"151.99\" y=\"-254.22\" font-family=\"arial\" font-size=\"12.00\">Output&#45;50</text>\n</g>\n<!-- Word Hidden&#45;42&#45;&gt;Output&#45;50 -->\n<g id=\"edge7\" class=\"edge\">\n<title>Word Hidden&#45;42&#45;&gt;Output&#45;50</title>\n<path fill=\"none\" stroke=\"black\" d=\"M86.37,-204.09C97.72,-213.33 112.01,-224.96 124.36,-235.01\"/>\n<polygon fill=\"black\" stroke=\"black\" points=\"121.79,-237.44 131.76,-241.03 126.21,-232.01 121.79,-237.44\"/>\n</g>\n<!-- Task Hidden&#45;37&#45;&gt;Word Hidden&#45;42 -->\n<g id=\"edge1\" class=\"edge\">\n<title>Task Hidden&#45;37&#45;&gt;Word Hidden&#45;42</title>\n<path fill=\"none\" stroke=\"black\" d=\"M265.54,-128.01C225.23,-139.63 165.04,-156.97 121.31,-169.56\"/>\n<polygon fill=\"black\" stroke=\"black\" points=\"120.38,-166.19 111.74,-172.32 122.32,-172.92 120.38,-166.19\"/>\n</g>\n<!-- Task Hidden&#45;37&#45;&gt;Color Hidden&#45;42 -->\n<g id=\"edge4\" class=\"edge\">\n<title>Task Hidden&#45;37&#45;&gt;Color Hidden&#45;42</title>\n<path fill=\"none\" stroke=\"black\" d=\"M287.42,-131.74C275.3,-140.86 259.97,-152.4 246.62,-162.44\"/>\n<polygon fill=\"black\" stroke=\"black\" points=\"244.86,-159.39 238.97,-168.2 249.07,-164.98 244.86,-159.39\"/>\n</g>\n<!-- Color Hidden&#45;42&#45;&gt;Output&#45;50 -->\n<g id=\"edge6\" class=\"edge\">\n<title>Color Hidden&#45;42&#45;&gt;Output&#45;50</title>\n<path fill=\"none\" stroke=\"black\" d=\"M200.49,-204.45C192.68,-213 183.05,-223.53 174.44,-232.94\"/>\n<polygon fill=\"black\" stroke=\"black\" points=\"172.08,-230.33 167.92,-240.08 177.25,-235.06 172.08,-230.33\"/>\n</g>\n<!-- Decision&#45;47 -->\n<g id=\"node8\" class=\"node\">\n<title>Decision&#45;47</title>\n<ellipse fill=\"none\" stroke=\"red\" stroke-width=\"3\" cx=\"230.99\" cy=\"-330.5\" rx=\"51.2\" ry=\"18\"/>\n<text text-anchor=\"middle\" x=\"230.99\" y=\"-326.23\" font-family=\"arial\" font-size=\"12.00\">Decision&#45;47</text>\n</g>\n<!-- Output&#45;50&#45;&gt;Decision&#45;47 -->\n<g id=\"edge8\" class=\"edge\">\n<title>Output&#45;50&#45;&gt;Decision&#45;47</title>\n<path fill=\"none\" stroke=\"black\" d=\"M169.91,-275.38C179.76,-284.11 192.18,-295.11 203.24,-304.92\"/>\n<polygon fill=\"black\" stroke=\"black\" points=\"200.81,-307.44 210.62,-311.45 205.46,-302.2 200.81,-307.44\"/>\n</g>\n<!-- Conflict Monitor&#45;37 -->\n<g id=\"node10\" class=\"node\">\n<title>Conflict Monitor&#45;37</title>\n<ellipse fill=\"none\" stroke=\"purple\" cx=\"87.99\" cy=\"-330.5\" rx=\"74.1\" ry=\"18\"/>\n<text text-anchor=\"middle\" x=\"87.99\" y=\"-326.23\" font-family=\"arial\" font-size=\"12.00\">Conflict Monitor&#45;37</text>\n</g>\n<!-- Output&#45;50&#45;&gt;Conflict Monitor&#45;37 -->\n<g id=\"edge11\" class=\"edge\">\n<title>Output&#45;50&#45;&gt;Conflict Monitor&#45;37</title>\n<path fill=\"none\" stroke=\"purple\" d=\"M137.14,-275.74C129.34,-284.27 119.61,-294.92 110.86,-304.48\"/>\n<polygon fill=\"purple\" stroke=\"purple\" points=\"108.38,-302.01 104.22,-311.75 113.55,-306.73 108.38,-302.01\"/>\n</g>\n<!-- Control&#45;37 -->\n<g id=\"node9\" class=\"node\">\n<title>Control&#45;37</title>\n<polygon fill=\"none\" stroke=\"purple\" points=\"248.73,-399.04 248.73,-413.96 219.59,-424.5 178.38,-424.5 149.25,-413.96 149.25,-399.04 178.38,-388.5 219.59,-388.5 248.73,-399.04\"/>\n<polygon fill=\"none\" stroke=\"purple\" points=\"252.73,-396.24 252.73,-416.76 220.29,-428.5 177.68,-428.5 145.25,-416.76 145.25,-396.24 177.68,-384.5 220.29,-384.5 252.73,-396.24\"/>\n<text text-anchor=\"middle\" x=\"198.99\" y=\"-402.23\" font-family=\"arial\" font-size=\"12.00\">Control&#45;37</text>\n</g>\n<!-- Control&#45;37&#45;&gt;Task Hidden&#45;37 -->\n<g id=\"edge9\" class=\"edge\">\n<title>Control&#45;37&#45;&gt;Task Hidden&#45;37</title>\n<path fill=\"none\" stroke=\"purple\" d=\"M238.9,-390.87C257.97,-381.72 279.17,-367.92 290.99,-348.5 330.43,-283.68 321.85,-189.23 314.36,-143.02\"/>\n<polygon fill=\"purple\" stroke=\"purple\" points=\"308.75,-134.06 316.64,-132.69 318,-140.58 310.12,-141.94 308.75,-134.06\"/>\n<polyline fill=\"none\" stroke=\"purple\" points=\"314.06,-141.26 314.4,-143.23\"/>\n</g>\n<!-- Conflict Monitor&#45;37&#45;&gt;Control&#45;37 -->\n<g id=\"edge10\" class=\"edge\">\n<title>Conflict Monitor&#45;37&#45;&gt;Control&#45;37</title>\n<path fill=\"none\" stroke=\"purple\" d=\"M112.62,-347.92C127.04,-357.53 145.53,-369.86 161.7,-380.64\"/>\n<polygon fill=\"purple\" stroke=\"purple\" points=\"159.38,-383.3 169.64,-385.94 163.26,-377.48 159.38,-383.3\"/>\n</g>\n</g>\n</svg>\n",
      "text/plain": [
       "<graphviz.graphs.Digraph at 0x3616d8950>"
      ]
     },
     "execution_count": 98,
     "metadata": {},
     "output_type": "execute_result"
    }
   ],
   "execution_count": 98
  },
  {
   "metadata": {
    "ExecuteTime": {
     "end_time": "2025-09-23T21:54:45.074465Z",
     "start_time": "2025-09-23T21:54:43.680900Z"
    }
   },
   "cell_type": "code",
   "source": [
    "comp, word_input, color_input, task_input, print_after = get_conflict_monitoring_stroop()\n",
    "\n",
    "# example incongruent stimulus (word meaning)\n",
    "\n",
    "\n",
    "rg_w = {word_input: [1, 0], color_input: [0, 1], task_input: [0, 1]}\n",
    "gg_c = {word_input: [1, 0], color_input: [1, 0], task_input: [1, 0]}\n",
    "\n",
    "trials = {word_input: [], color_input: [], task_input: []}\n",
    "\n",
    "def add_trial(trial_dict, num=100):\n",
    "    for _ in range(num):\n",
    "        trials[word_input].append(trial_dict[word_input])\n",
    "        trials[color_input].append(trial_dict[color_input])\n",
    "        trials[task_input].append(trial_dict[task_input])\n",
    "\n",
    "import random\n",
    "for _ in range(10):\n",
    "    if random.random() > 0.1:\n",
    "        add_trial(rg_w, num=1)\n",
    "    else:\n",
    "        add_trial(gg_c, num=1)\n",
    "\n",
    "\n",
    "\n",
    "comp.run(trials, call_after_trial=print_after)\n",
    "\n",
    "results = comp.results# RED written in red\n",
    "\n",
    "decision_times_correct = [r[1][0] for r in results if r[0][0] < 0]\n",
    "decision_time_error = [r[1][0] for r in results if r[0][0] > 0]\n",
    "#\n",
    "# plt.hist(decision_times_correct, bins=100, alpha=0.6, color='green', label='Correct')\n",
    "# plt.hist(decision_time_error, bins=100, alpha=0.6, color='red', label='Error')\n",
    "#\n",
    "# plt.title('Response Time Distribution in Incongruent Trials (word reading)')\n",
    "# plt.ylabel('Frequency')\n",
    "# plt.xlabel('Response Time')\n",
    "# plt.legend()\n",
    "# plt.show()\n",
    "# average_rt_incongruent_word_reading = np.mean(decision_times_correct)\n",
    "# print(f'Average correct RT: {np.mean(decision_times_correct)}')\n",
    "# print(f'Accuracy: {len(decision_times_correct) / (len(decision_times_correct) + len(decision_time_error))}')"
   ],
   "id": "1bb20d7c78dfd4b7",
   "outputs": [
    {
     "name": "stdout",
     "output_type": "stream",
     "text": [
      "****************************************\n",
      "\t\t\t Trial\n",
      "\tinput:\t\tword  color  task\n",
      "\t\t\t [1. 0.]    [0. 1.]    [0. 1.]\n",
      "\t\t\t [0.62484461 0.00411154]    [0.02902445 0.62006811]    [0.37754067 0.62245933]\n",
      "\t\t\t\tcolor  word\n",
      "\ttask:\t\t[0.37754067 0.62245933]\n",
      "\ttask gain:\t   [1.]\n",
      "\t\t\t\tred   green\n",
      "\toutput:\t\t[0.65386906 0.62417965]\n",
      "\tdecision:\t[-1.][17.]\n",
      "\tconflict:\t  [0.20406588]\n",
      "****************************************\n",
      "\t\t\t Trial\n",
      "\tinput:\t\tword  color  task\n",
      "\t\t\t [1. 0.]    [0. 1.]    [0. 1.]\n",
      "\t\t\t [0.71054974 0.0060481 ]    [0.01987816 0.52546408]    [0.47451387 0.52548613]\n",
      "\t\t\t\tcolor  word\n",
      "\ttask:\t\t[0.47451387 0.52548613]\n",
      "\ttask gain:\t   [0.20406588]\n",
      "\t\t\t\tred   green\n",
      "\toutput:\t\t[0.7304279  0.53151218]\n",
      "\tdecision:\t[-1.][3.]\n",
      "\tconflict:\t  [0.19411566]\n",
      "****************************************\n",
      "\t\t\t Trial\n",
      "\tinput:\t\tword  color  task\n",
      "\t\t\t [1. 0.]    [0. 1.]    [0. 1.]\n",
      "\t\t\t [0.71156937 0.00607801]    [0.0197817  0.52422644]    [0.47575457 0.52424543]\n",
      "\t\t\t\tcolor  word\n",
      "\ttask:\t\t[0.47575457 0.52424543]\n",
      "\ttask gain:\t   [0.19411566]\n",
      "\t\t\t\tred   green\n",
      "\toutput:\t\t[0.73135106 0.53030445]\n",
      "\tdecision:\t[1.][15.]\n",
      "\tconflict:\t  [0.19391936]\n",
      "****************************************\n",
      "\t\t\t Trial\n",
      "\tinput:\t\tword  color  task\n",
      "\t\t\t [1. 0.]    [0. 1.]    [0. 1.]\n",
      "\t\t\t [0.71158946 0.0060786 ]    [0.0197798  0.52420202]    [0.47577905 0.52422095]\n",
      "\t\t\t\tcolor  word\n",
      "\ttask:\t\t[0.47577905 0.52422095]\n",
      "\ttask gain:\t   [0.19391936]\n",
      "\t\t\t\tred   green\n",
      "\toutput:\t\t[0.73136926 0.53028062]\n",
      "\tdecision:\t[-1.][2.]\n",
      "\tconflict:\t  [0.19391547]\n",
      "****************************************\n",
      "\t\t\t Trial\n",
      "\tinput:\t\tword  color  task\n",
      "\t\t\t [1. 0.]    [0. 1.]    [0. 1.]\n",
      "\t\t\t [0.71158986 0.00607861]    [0.01977976 0.52420154]    [0.47577954 0.52422046]\n",
      "\t\t\t\tcolor  word\n",
      "\ttask:\t\t[0.47577954 0.52422046]\n",
      "\ttask gain:\t   [0.19391547]\n",
      "\t\t\t\tred   green\n",
      "\toutput:\t\t[0.73136962 0.53028015]\n",
      "\tdecision:\t[1.][6.]\n",
      "\tconflict:\t  [0.19391539]\n",
      "****************************************\n",
      "\t\t\t Trial\n",
      "\tinput:\t\tword  color  task\n",
      "\t\t\t [1. 0.]    [0. 1.]    [0. 1.]\n",
      "\t\t\t [0.71158987 0.00607861]    [0.01977976 0.52420153]    [0.47577955 0.52422045]\n",
      "\t\t\t\tcolor  word\n",
      "\ttask:\t\t[0.47577955 0.52422045]\n",
      "\ttask gain:\t   [0.19391539]\n",
      "\t\t\t\tred   green\n",
      "\toutput:\t\t[0.73136963 0.53028014]\n",
      "\tdecision:\t[-1.][11.]\n",
      "\tconflict:\t  [0.19391539]\n",
      "****************************************\n",
      "\t\t\t Trial\n",
      "\tinput:\t\tword  color  task\n",
      "\t\t\t [1. 0.]    [0. 1.]    [0. 1.]\n",
      "\t\t\t [0.71158987 0.00607861]    [0.01977976 0.52420153]    [0.47577955 0.52422045]\n",
      "\t\t\t\tcolor  word\n",
      "\ttask:\t\t[0.47577955 0.52422045]\n",
      "\ttask gain:\t   [0.19391539]\n",
      "\t\t\t\tred   green\n",
      "\toutput:\t\t[0.73136963 0.53028014]\n",
      "\tdecision:\t[1.][9.]\n",
      "\tconflict:\t  [0.19391539]\n",
      "****************************************\n",
      "\t\t\t Trial\n",
      "\tinput:\t\tword  color  task\n",
      "\t\t\t [1. 0.]    [1. 0.]    [1. 0.]\n",
      "\t\t\t [0.7496754 0.0073687]    [0.47579847 0.01635258]    [0.52422045 0.47577955]\n",
      "\t\t\t\tcolor  word\n",
      "\ttask:\t\t[0.52422045 0.47577955]\n",
      "\ttask gain:\t   [0.19391539]\n",
      "\t\t\t\tred   green\n",
      "\toutput:\t\t[1.22547387 0.02372128]\n",
      "\tdecision:\t[-1.][5.]\n",
      "\tconflict:\t  [0.0145349]\n",
      "****************************************\n",
      "\t\t\t Trial\n",
      "\tinput:\t\tword  color  task\n",
      "\t\t\t [1. 0.]    [0. 1.]    [0. 1.]\n",
      "\t\t\t [0.72962732 0.00664471]    [0.01811502 0.50181685]    [0.49818315 0.50181685]\n",
      "\t\t\t\tcolor  word\n",
      "\ttask:\t\t[0.49818315 0.50181685]\n",
      "\ttask gain:\t   [0.0145349]\n",
      "\t\t\t\tred   green\n",
      "\toutput:\t\t[0.74774234 0.50846156]\n",
      "\tdecision:\t[1.][10.]\n",
      "\tconflict:\t  [0.19009912]\n",
      "****************************************\n",
      "\t\t\t Trial\n",
      "\tinput:\t\tword  color  task\n",
      "\t\t\t [1. 0.]    [1. 0.]    [1. 0.]\n",
      "\t\t\t [0.74931796 0.00735479]    [0.47627332 0.01638323]    [0.52374452 0.47625548]\n",
      "\t\t\t\tcolor  word\n",
      "\ttask:\t\t[0.52374452 0.47625548]\n",
      "\ttask gain:\t   [0.19009912]\n",
      "\t\t\t\tred   green\n",
      "\toutput:\t\t[1.22559128 0.02373802]\n",
      "\tdecision:\t[1.][15.]\n",
      "\tconflict:\t  [0.01454655]\n"
     ]
    }
   ],
   "execution_count": 99
  },
  {
   "metadata": {
    "ExecuteTime": {
     "end_time": "2025-09-23T21:54:45.084735Z",
     "start_time": "2025-09-23T21:54:45.083562Z"
    }
   },
   "cell_type": "code",
   "source": "",
   "id": "a19722d7882806f5",
   "outputs": [],
   "execution_count": null
  },
  {
   "metadata": {
    "ExecuteTime": {
     "end_time": "2025-09-23T21:54:45.089998Z",
     "start_time": "2025-09-23T21:54:45.088710Z"
    }
   },
   "cell_type": "code",
   "source": "",
   "id": "216a8dba70ec5fbb",
   "outputs": [],
   "execution_count": null
  },
  {
   "metadata": {
    "ExecuteTime": {
     "end_time": "2025-09-23T21:54:45.099019Z",
     "start_time": "2025-09-23T21:54:45.097787Z"
    }
   },
   "cell_type": "code",
   "source": "",
   "id": "98e4858f89456e82",
   "outputs": [],
   "execution_count": null
  },
  {
   "metadata": {},
   "cell_type": "code",
   "outputs": [],
   "execution_count": null,
   "source": "",
   "id": "8cf56b403e9e0db8"
  }
 ],
 "metadata": {
  "kernelspec": {
   "display_name": "Python 3",
   "language": "python",
   "name": "python3"
  },
  "language_info": {
   "codemirror_mode": {
    "name": "ipython",
    "version": 2
   },
   "file_extension": ".py",
   "mimetype": "text/x-python",
   "name": "python",
   "nbconvert_exporter": "python",
   "pygments_lexer": "ipython2",
   "version": "2.7.6"
  }
 },
 "nbformat": 4,
 "nbformat_minor": 5
}
