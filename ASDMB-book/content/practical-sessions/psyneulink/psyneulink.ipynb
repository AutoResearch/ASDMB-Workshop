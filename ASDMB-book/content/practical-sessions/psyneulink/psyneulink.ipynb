{
 "cells": [
  {
   "metadata": {},
   "cell_type": "markdown",
   "source": [
    "# PsyNeuLink: Stroop Model\n",
    "> Colab tip: Open the left sidebar (☰)  -> **Table of Contents** to navigate this notebook.\n",
    "\n",
    "## Content\n",
    "\n",
    "- [0. Setup and Installation](#0-Setup-and-Installation)\n",
    "- [1. Basics](#1-Basics)\n",
    "- [2. Linear Stroop Model](#2-Linear-Stroop-Model)"
   ],
   "id": "58572c75e0824082"
  },
  {
   "metadata": {},
   "cell_type": "markdown",
   "source": [
    "## 0. Setup and Installation\n",
    "\n",
    "Run this once (or whenever you restart the runtime). This will install PsyNeuLink and import it."
   ],
   "id": "1efebc4391a7e39"
  },
  {
   "metadata": {
    "ExecuteTime": {
     "end_time": "2025-09-22T20:09:26.030649Z",
     "start_time": "2025-09-22T20:09:26.022022Z"
    }
   },
   "cell_type": "code",
   "source": [
    "try:\n",
    "    import psyneulink as pnl\n",
    "    import numpy as np\n",
    "    import matplotlib.pyplot as plt\n",
    "    print(\"psyneulink already installed\")\n",
    "except ImportError:\n",
    "    %pip install psyneulink\n",
    "    import psyneulink as pnl"
   ],
   "id": "12427b096338cfeb",
   "outputs": [
    {
     "name": "stdout",
     "output_type": "stream",
     "text": [
      "psyneulink already installed\n"
     ]
    }
   ],
   "execution_count": 118
  },
  {
   "metadata": {},
   "cell_type": "markdown",
   "source": [
    "## 1. Basics\n",
    "\n",
    "**Content**\n",
    "\n",
    "- [Mechanisms](#Mechanisms)\n",
    "- [Compositions](#Compositions)\n",
    "- [Show Graph](#Show-Graph)\n",
    "\n",
    "### Mechanisms\n",
    "\n",
    "Let's create our first composition in PsyNeuLink that consists of only two mechanisms: `Input` and `Output`. We will give both of them `2` input- and output-ports. For the `Input` we leave `Linear` (the default value) as function, for the `Output`, we will assign a Logistic function. Following machine learning conventions, we will use the term `layer` to refer to these mechanisms.\n",
    "\n"
   ],
   "id": "a3859525d5242a9"
  },
  {
   "metadata": {
    "ExecuteTime": {
     "end_time": "2025-09-22T14:41:06.780620Z",
     "start_time": "2025-09-22T14:41:06.685272Z"
    }
   },
   "cell_type": "code",
   "source": [
    "input_layer = pnl.ProcessingMechanism(name=\"Input\", input_shapes=2)\n",
    "output_layer = pnl.ProcessingMechanism(name=\"Output\", input_shapes=2, function=pnl.Logistic)"
   ],
   "id": "ca46bc349e09d88f",
   "outputs": [],
   "execution_count": 21
  },
  {
   "metadata": {},
   "cell_type": "markdown",
   "source": [
    "### Compositions\n",
    "\n",
    "We can now combine these two layers into a `Compositions` object. First, we will define a `pathway` via a list. When we give this pathway to PsyNeuLink it will automatically create a `MappingProjection` between the two layers with reasonable default parameters. In this case, it will create a identity matrix (2x2) wiring the output-port of the `input_layer` to the input-port of the `output_layer`."
   ],
   "id": "ef7ef474dbe236e5"
  },
  {
   "metadata": {
    "ExecuteTime": {
     "end_time": "2025-09-22T14:41:09.291720Z",
     "start_time": "2025-09-22T14:41:09.106947Z"
    }
   },
   "cell_type": "code",
   "source": [
    "in_out_pathway = [input_layer, output_layer]\n",
    "simple_comp = pnl.Composition(name=\"simple_comp\", pathways=[in_out_pathway]) # Note: pathways expects a list of lists (or pathways"
   ],
   "id": "36c002a638336d04",
   "outputs": [],
   "execution_count": 22
  },
  {
   "metadata": {},
   "cell_type": "markdown",
   "source": "We can execute mechanisms individually by passing an array of the appropriate size:",
   "id": "345d1229d7c157e8"
  },
  {
   "metadata": {
    "ExecuteTime": {
     "end_time": "2025-09-22T14:41:10.851265Z",
     "start_time": "2025-09-22T14:41:10.846709Z"
    }
   },
   "cell_type": "code",
   "source": "input_layer.execute([0, 1])",
   "id": "8da1092ef0048cb2",
   "outputs": [
    {
     "data": {
      "text/plain": [
       "array([[0., 1.]])"
      ]
     },
     "execution_count": 23,
     "metadata": {},
     "output_type": "execute_result"
    }
   ],
   "execution_count": 23
  },
  {
   "metadata": {},
   "cell_type": "markdown",
   "source": "We can also execute the entire composition by passing an array to the `run` method:",
   "id": "3ae4bd042aa31a5d"
  },
  {
   "metadata": {
    "ExecuteTime": {
     "end_time": "2025-09-22T14:41:12.371077Z",
     "start_time": "2025-09-22T14:41:12.350276Z"
    }
   },
   "cell_type": "code",
   "source": "simple_comp.run([0, 1])",
   "id": "2e229e142ff90045",
   "outputs": [
    {
     "data": {
      "text/plain": [
       "array([[0.5       , 0.73105858]])"
      ]
     },
     "execution_count": 24,
     "metadata": {},
     "output_type": "execute_result"
    }
   ],
   "execution_count": 24
  },
  {
   "metadata": {},
   "cell_type": "markdown",
   "source": "or with a list of inputs. The results are stored in the `results` attribute of the compositions.",
   "id": "d11a787b6812a8f8"
  },
  {
   "metadata": {
    "ExecuteTime": {
     "end_time": "2025-09-22T14:41:13.871590Z",
     "start_time": "2025-09-22T14:41:13.851338Z"
    }
   },
   "cell_type": "code",
   "source": [
    "simple_comp.run([[0, 1], [1, 0], [0.5, 0.5]])\n",
    "simple_comp.results # Note this also shows the results of the previous run (when running this multiple times the results will be appended)"
   ],
   "id": "7d0873c207be0c7",
   "outputs": [
    {
     "data": {
      "text/plain": [
       "array([[[0.5       , 0.73105858]],\n",
       "\n",
       "       [[0.5       , 0.73105858]],\n",
       "\n",
       "       [[0.73105858, 0.5       ]],\n",
       "\n",
       "       [[0.62245933, 0.62245933]]])"
      ]
     },
     "execution_count": 25,
     "metadata": {},
     "output_type": "execute_result"
    }
   ],
   "execution_count": 25
  },
  {
   "metadata": {},
   "cell_type": "markdown",
   "source": [
    "### Show Graph\n",
    "\n",
    "A very handy feature of PsyNeuLink is the ability to visualize the composition as a graph:"
   ],
   "id": "7853cca69c9d5c66"
  },
  {
   "metadata": {
    "ExecuteTime": {
     "end_time": "2025-09-22T14:41:15.344837Z",
     "start_time": "2025-09-22T14:41:15.194706Z"
    }
   },
   "cell_type": "code",
   "source": "simple_comp.show_graph(output_fmt='jupyter')",
   "id": "fef42fe62a58737a",
   "outputs": [
    {
     "data": {
      "image/svg+xml": "<?xml version=\"1.0\" encoding=\"UTF-8\" standalone=\"no\"?>\n<!DOCTYPE svg PUBLIC \"-//W3C//DTD SVG 1.1//EN\"\n \"http://www.w3.org/Graphics/SVG/1.1/DTD/svg11.dtd\">\n<!-- Generated by graphviz version 12.2.1 (20241206.2353)\n -->\n<!-- Title: simple_comp&#45;2 Pages: 1 -->\n<svg width=\"110pt\" height=\"141pt\"\n viewBox=\"0.00 0.00 109.50 140.50\" xmlns=\"http://www.w3.org/2000/svg\" xmlns:xlink=\"http://www.w3.org/1999/xlink\">\n<g id=\"graph0\" class=\"graph\" transform=\"scale(1 1) rotate(0) translate(4 136.5)\">\n<title>simple_comp&#45;2</title>\n<polygon fill=\"white\" stroke=\"none\" points=\"-4,4 -4,-136.5 105.5,-136.5 105.5,4 -4,4\"/>\n<text text-anchor=\"middle\" x=\"50.75\" y=\"-7.2\" font-family=\"Times,serif\" font-size=\"14.00\">simple_comp&#45;2</text>\n<!-- Input&#45;2 -->\n<g id=\"node1\" class=\"node\">\n<title>Input&#45;2</title>\n<ellipse fill=\"none\" stroke=\"green\" stroke-width=\"3\" cx=\"50.75\" cy=\"-42.5\" rx=\"33.55\" ry=\"18\"/>\n<text text-anchor=\"middle\" x=\"50.75\" y=\"-38.23\" font-family=\"arial\" font-size=\"12.00\">Input&#45;2</text>\n</g>\n<!-- Output&#45;2 -->\n<g id=\"node2\" class=\"node\">\n<title>Output&#45;2</title>\n<ellipse fill=\"none\" stroke=\"red\" stroke-width=\"3\" cx=\"50.75\" cy=\"-114.5\" rx=\"39.27\" ry=\"18\"/>\n<text text-anchor=\"middle\" x=\"50.75\" y=\"-110.22\" font-family=\"arial\" font-size=\"12.00\">Output&#45;2</text>\n</g>\n<!-- Input&#45;2&#45;&gt;Output&#45;2 -->\n<g id=\"edge1\" class=\"edge\">\n<title>Input&#45;2&#45;&gt;Output&#45;2</title>\n<path fill=\"none\" stroke=\"black\" d=\"M50.75,-61.89C50.75,-68.7 50.75,-76.59 50.75,-84.13\"/>\n<polygon fill=\"black\" stroke=\"black\" points=\"47.25,-83.96 50.75,-93.96 54.25,-83.96 47.25,-83.96\"/>\n</g>\n</g>\n</svg>\n",
      "text/plain": [
       "<graphviz.graphs.Digraph at 0x16a6253d0>"
      ]
     },
     "execution_count": 26,
     "metadata": {},
     "output_type": "execute_result"
    }
   ],
   "execution_count": 26
  },
  {
   "metadata": {},
   "cell_type": "markdown",
   "source": "The show graph function has many options to customize the output. For example, we can show a more detailed view of the nodes by setting `show_node_structure=True`:",
   "id": "1e9d8cc2cf8ed924"
  },
  {
   "metadata": {
    "ExecuteTime": {
     "end_time": "2025-09-22T14:03:17.221541Z",
     "start_time": "2025-09-22T14:03:16.901968Z"
    }
   },
   "cell_type": "code",
   "source": "simple_comp.show_graph(output_fmt='jupyter', show_node_structure=True)",
   "id": "6ed0df1c24d50e71",
   "outputs": [
    {
     "data": {
      "image/svg+xml": "<?xml version=\"1.0\" encoding=\"UTF-8\" standalone=\"no\"?>\n<!DOCTYPE svg PUBLIC \"-//W3C//DTD SVG 1.1//EN\"\n \"http://www.w3.org/Graphics/SVG/1.1/DTD/svg11.dtd\">\n<!-- Generated by graphviz version 12.2.1 (20241206.2353)\n -->\n<!-- Title: simple_comp Pages: 1 -->\n<svg width=\"272pt\" height=\"547pt\"\n viewBox=\"0.00 0.00 271.50 546.75\" xmlns=\"http://www.w3.org/2000/svg\" xmlns:xlink=\"http://www.w3.org/1999/xlink\">\n<g id=\"graph0\" class=\"graph\" transform=\"scale(1 1) rotate(0) translate(4 542.75)\">\n<title>simple_comp</title>\n<polygon fill=\"white\" stroke=\"none\" points=\"-4,4 -4,-542.75 267.5,-542.75 267.5,4 -4,4\"/>\n<text text-anchor=\"middle\" x=\"131.75\" y=\"-7.2\" font-family=\"Times,serif\" font-size=\"14.00\">simple_comp</text>\n<!-- Input -->\n<g id=\"node1\" class=\"node\">\n<title>Input</title>\n<polygon fill=\"#fffff0\" stroke=\"none\" points=\"8,-28.5 8,-248.5 255.5,-248.5 255.5,-28.5 8,-28.5\"/>\n<polygon fill=\"#fafad0\" stroke=\"none\" points=\"14,-192 14,-242.5 249.5,-242.5 249.5,-192 14,-192\"/>\n<polygon fill=\"PALEGOLDENROD\" stroke=\"none\" points=\"18,-216.25 18,-238.5 245.5,-238.5 245.5,-216.25 18,-216.25\"/>\n<polygon fill=\"none\" stroke=\"LIGHTGOLDENRODYELLOW\" stroke-width=\"2\" points=\"19,-217.25 19,-237.5 244.5,-237.5 244.5,-217.25 19,-217.25\"/>\n<text text-anchor=\"start\" x=\"95\" y=\"-224.1\" font-family=\"arial\" font-weight=\"bold\" font-size=\"12.00\">OutputPort&#45;0</text>\n<text text-anchor=\"start\" x=\"96.88\" y=\"-199.85\" font-family=\"arial\" font-weight=\"bold\" font-style=\"italic\" font-size=\"12.00\">OutputPorts</text>\n<text text-anchor=\"start\" x=\"14\" y=\"-142.1\" font-family=\"arial\" font-weight=\"bold\" font-style=\"italic\" font-size=\"12.00\">Mechanism</text>\n<text text-anchor=\"start\" x=\"79.25\" y=\"-142.1\" font-family=\"arial\" font-weight=\"bold\" font-size=\"12.00\">:</text>\n<text text-anchor=\"start\" x=\"29\" y=\"-126.3\" font-family=\"arial\" font-weight=\"bold\" font-size=\"16.00\">Input</text>\n<polygon fill=\"#fafad0\" stroke=\"none\" points=\"88,-90 88,-187 249.5,-187 249.5,-90 88,-90\"/>\n<text text-anchor=\"start\" x=\"92\" y=\"-135.22\" font-family=\"arial\" font-weight=\"bold\" font-style=\"italic\" font-size=\"12.00\">ParameterPorts</text>\n<polygon fill=\"PALEGOLDENROD\" stroke=\"none\" points=\"187.25,-94 187.25,-183 245.5,-183 245.5,-94 187.25,-94\"/>\n<polygon fill=\"none\" stroke=\"LIGHTGOLDENRODYELLOW\" stroke-width=\"2\" points=\"188.25,-161.75 188.25,-182 244.5,-182 244.5,-161.75 188.25,-161.75\"/>\n<text text-anchor=\"start\" x=\"191.25\" y=\"-168.6\" font-family=\"arial\" font-weight=\"bold\" font-size=\"12.00\">intercept</text>\n<polygon fill=\"none\" stroke=\"LIGHTGOLDENRODYELLOW\" stroke-width=\"2\" points=\"188.25,-139.5 188.25,-159.75 244.5,-159.75 244.5,-139.5 188.25,-139.5\"/>\n<text text-anchor=\"start\" x=\"200.25\" y=\"-146.35\" font-family=\"arial\" font-weight=\"bold\" font-size=\"12.00\">offset</text>\n<polygon fill=\"none\" stroke=\"LIGHTGOLDENRODYELLOW\" stroke-width=\"2\" points=\"188.25,-117.25 188.25,-137.5 244.5,-137.5 244.5,-117.25 188.25,-117.25\"/>\n<text text-anchor=\"start\" x=\"201.38\" y=\"-124.1\" font-family=\"arial\" font-weight=\"bold\" font-size=\"12.00\">scale</text>\n<polygon fill=\"none\" stroke=\"LIGHTGOLDENRODYELLOW\" stroke-width=\"2\" points=\"188.25,-95 188.25,-115.25 244.5,-115.25 244.5,-95 188.25,-95\"/>\n<text text-anchor=\"start\" x=\"200.62\" y=\"-101.85\" font-family=\"arial\" font-weight=\"bold\" font-size=\"12.00\">slope</text>\n<polygon fill=\"#fafad0\" stroke=\"none\" points=\"14,-34.5 14,-85 249.5,-85 249.5,-34.5 14,-34.5\"/>\n<text text-anchor=\"start\" x=\"101.75\" y=\"-70.6\" font-family=\"arial\" font-weight=\"bold\" font-style=\"italic\" font-size=\"12.00\">InputPorts</text>\n<polygon fill=\"PALEGOLDENROD\" stroke=\"none\" points=\"18,-38.5 18,-60.75 245.5,-60.75 245.5,-38.5 18,-38.5\"/>\n<polygon fill=\"none\" stroke=\"LIGHTGOLDENRODYELLOW\" stroke-width=\"2\" points=\"19,-39.5 19,-59.75 244.5,-59.75 244.5,-39.5 19,-39.5\"/>\n<text text-anchor=\"start\" x=\"99.88\" y=\"-46.35\" font-family=\"arial\" font-weight=\"bold\" font-size=\"12.00\">InputPort&#45;0</text>\n<polygon fill=\"none\" stroke=\"green\" stroke-width=\"3\" points=\"9.5,-30 9.5,-247 254,-247 254,-30 9.5,-30\"/>\n</g>\n<!-- Output -->\n<g id=\"node2\" class=\"node\">\n<title>Output</title>\n<polygon fill=\"#fffff0\" stroke=\"none\" points=\"17,-292.5 17,-534.75 246.5,-534.75 246.5,-292.5 17,-292.5\"/>\n<polygon fill=\"#fafad0\" stroke=\"none\" points=\"23,-478.25 23,-528.75 240.5,-528.75 240.5,-478.25 23,-478.25\"/>\n<polygon fill=\"PALEGOLDENROD\" stroke=\"none\" points=\"27,-502.5 27,-524.75 236.5,-524.75 236.5,-502.5 27,-502.5\"/>\n<polygon fill=\"none\" stroke=\"LIGHTGOLDENRODYELLOW\" stroke-width=\"2\" points=\"28,-503.5 28,-523.75 235.5,-523.75 235.5,-503.5 28,-503.5\"/>\n<text text-anchor=\"start\" x=\"95\" y=\"-510.35\" font-family=\"arial\" font-weight=\"bold\" font-size=\"12.00\">OutputPort&#45;0</text>\n<text text-anchor=\"start\" x=\"96.88\" y=\"-486.1\" font-family=\"arial\" font-weight=\"bold\" font-style=\"italic\" font-size=\"12.00\">OutputPorts</text>\n<text text-anchor=\"start\" x=\"23\" y=\"-417.23\" font-family=\"arial\" font-weight=\"bold\" font-style=\"italic\" font-size=\"12.00\">Mechanism</text>\n<text text-anchor=\"start\" x=\"88.25\" y=\"-417.23\" font-family=\"arial\" font-weight=\"bold\" font-size=\"12.00\">:</text>\n<text text-anchor=\"start\" x=\"31.25\" y=\"-401.43\" font-family=\"arial\" font-weight=\"bold\" font-size=\"16.00\">Output</text>\n<polygon fill=\"#fafad0\" stroke=\"none\" points=\"97,-354 97,-473.25 240.5,-473.25 240.5,-354 97,-354\"/>\n<text text-anchor=\"start\" x=\"101\" y=\"-410.35\" font-family=\"arial\" font-weight=\"bold\" font-style=\"italic\" font-size=\"12.00\">ParameterPorts</text>\n<polygon fill=\"PALEGOLDENROD\" stroke=\"none\" points=\"196.25,-358 196.25,-469.25 236.5,-469.25 236.5,-358 196.25,-358\"/>\n<polygon fill=\"none\" stroke=\"LIGHTGOLDENRODYELLOW\" stroke-width=\"2\" points=\"197.25,-448 197.25,-468.25 235.5,-468.25 235.5,-448 197.25,-448\"/>\n<text text-anchor=\"start\" x=\"204.38\" y=\"-454.85\" font-family=\"arial\" font-weight=\"bold\" font-size=\"12.00\">bias</text>\n<polygon fill=\"none\" stroke=\"LIGHTGOLDENRODYELLOW\" stroke-width=\"2\" points=\"197.25,-425.75 197.25,-446 235.5,-446 235.5,-425.75 197.25,-425.75\"/>\n<text text-anchor=\"start\" x=\"204\" y=\"-432.6\" font-family=\"arial\" font-weight=\"bold\" font-size=\"12.00\">gain</text>\n<polygon fill=\"none\" stroke=\"LIGHTGOLDENRODYELLOW\" stroke-width=\"2\" points=\"197.25,-403.5 197.25,-423.75 235.5,-423.75 235.5,-403.5 197.25,-403.5\"/>\n<text text-anchor=\"start\" x=\"200.25\" y=\"-410.35\" font-family=\"arial\" font-weight=\"bold\" font-size=\"12.00\">offset</text>\n<polygon fill=\"none\" stroke=\"LIGHTGOLDENRODYELLOW\" stroke-width=\"2\" points=\"197.25,-381.25 197.25,-401.5 235.5,-401.5 235.5,-381.25 197.25,-381.25\"/>\n<text text-anchor=\"start\" x=\"201.38\" y=\"-388.1\" font-family=\"arial\" font-weight=\"bold\" font-size=\"12.00\">scale</text>\n<polygon fill=\"none\" stroke=\"LIGHTGOLDENRODYELLOW\" stroke-width=\"2\" points=\"197.25,-359 197.25,-379.25 235.5,-379.25 235.5,-359 197.25,-359\"/>\n<text text-anchor=\"start\" x=\"206.25\" y=\"-365.85\" font-family=\"arial\" font-weight=\"bold\" font-size=\"12.00\">x_0</text>\n<polygon fill=\"#fafad0\" stroke=\"none\" points=\"23,-298.5 23,-349 240.5,-349 240.5,-298.5 23,-298.5\"/>\n<text text-anchor=\"start\" x=\"101.75\" y=\"-334.6\" font-family=\"arial\" font-weight=\"bold\" font-style=\"italic\" font-size=\"12.00\">InputPorts</text>\n<polygon fill=\"PALEGOLDENROD\" stroke=\"none\" points=\"27,-302.5 27,-324.75 236.5,-324.75 236.5,-302.5 27,-302.5\"/>\n<polygon fill=\"none\" stroke=\"LIGHTGOLDENRODYELLOW\" stroke-width=\"2\" points=\"28,-303.5 28,-323.75 235.5,-323.75 235.5,-303.5 28,-303.5\"/>\n<text text-anchor=\"start\" x=\"99.88\" y=\"-310.35\" font-family=\"arial\" font-weight=\"bold\" font-size=\"12.00\">InputPort&#45;0</text>\n<polygon fill=\"none\" stroke=\"red\" stroke-width=\"3\" points=\"18.5,-294 18.5,-533.25 245,-533.25 245,-294 18.5,-294\"/>\n</g>\n<!-- Input&#45;&gt;Output -->\n<g id=\"edge1\" class=\"edge\">\n<title>Input:OutputPort&#45;OutputPort&#45;0&#45;&gt;Output:InputPort&#45;InputPort&#45;0</title>\n<path fill=\"none\" stroke=\"black\" d=\"M131.75,-239.5C131.75,-262.86 131.75,-271.37 131.75,-290.2\"/>\n<polygon fill=\"black\" stroke=\"black\" points=\"128.25,-289.99 131.75,-299.99 135.25,-289.99 128.25,-289.99\"/>\n</g>\n</g>\n</svg>\n",
      "text/plain": [
       "<graphviz.graphs.Digraph at 0x16839aad0>"
      ]
     },
     "execution_count": 16,
     "metadata": {},
     "output_type": "execute_result"
    }
   ],
   "execution_count": 16
  },
  {
   "metadata": {},
   "cell_type": "markdown",
   "source": [
    "### Projections\n",
    "\n",
    "So far we have only implicitly created a `MappingProjection` by passing a list of mechanisms as a `pathway`. However, if we want more control over the projection, we can create it explicitly. To do so, we define a weight matrix and pass it to the `MappingProjection` constructor. The weight matrix needs to have a shape that is compatible with the output-port of the sender mechanism and the input-port of the receiver mechanism. In this case, both layers have 2 input- and output-ports, so we can use a 2x2 matrix (To make it easier to see, we will use input and output layers with linear identity functions):\n"
   ],
   "id": "7af736be1f130ccd"
  },
  {
   "metadata": {
    "ExecuteTime": {
     "end_time": "2025-09-22T15:23:20.095950Z",
     "start_time": "2025-09-22T15:23:19.799562Z"
    }
   },
   "cell_type": "code",
   "source": [
    "input_layer = pnl.ProcessingMechanism(name=\"Input\", input_shapes=2)\n",
    "output_layer = pnl.ProcessingMechanism(name=\"Output\", input_shapes=2)\n",
    "\n",
    "# matrix is defined as a list of matrix columns\n",
    "matrix = [[1, 2],  # weights from input_layer[0] to output_layer[0, 1]\n",
    "          [3, 4]]  # weights from input_layer[1] to output_layer[0, 1]\n",
    "\n",
    "projection = pnl.MappingProjection(matrix=matrix)\n",
    "\n",
    "# Here we show another way of adding a pathway after the composition has been created\n",
    "simple_comp = pnl.Composition(name=\"simple_comp\")\n",
    "simple_comp.add_linear_processing_pathway([input_layer, projection, output_layer])"
   ],
   "id": "1fcc8da365e3d8bb",
   "outputs": [
    {
     "data": {
      "text/plain": [
       "<psyneulink.core.compositions.pathway.Pathway at 0x174c9e010>"
      ]
     },
     "execution_count": 33,
     "metadata": {},
     "output_type": "execute_result"
    }
   ],
   "execution_count": 33
  },
  {
   "metadata": {},
   "cell_type": "markdown",
   "source": "Again, we can run the composition",
   "id": "44201e3cd989b50"
  },
  {
   "metadata": {
    "ExecuteTime": {
     "end_time": "2025-09-22T15:23:20.989586Z",
     "start_time": "2025-09-22T15:23:20.971100Z"
    }
   },
   "cell_type": "code",
   "source": "simple_comp.run([0, 1])",
   "id": "9a66563ed86d79e",
   "outputs": [
    {
     "data": {
      "text/plain": [
       "array([[3., 4.]])"
      ]
     },
     "execution_count": 34,
     "metadata": {},
     "output_type": "execute_result"
    }
   ],
   "execution_count": 34
  },
  {
   "metadata": {},
   "cell_type": "markdown",
   "source": [
    "In this case, the output can be understood as matrix multiplication between\n",
    "\n",
    "$$\n",
    "\\begin{bmatrix}\n",
    "1 & 3 \\\\\n",
    "2 & 4\n",
    "\\end{bmatrix}\n",
    "\\cdot\n",
    "\\begin{bmatrix}\n",
    "0 \\\\\n",
    "1\n",
    "\\end{bmatrix}\n",
    "=\n",
    "\\begin{bmatrix}\n",
    "3 \\\\\n",
    "4\n",
    "\\end{bmatrix}\n",
    "$$\n",
    "\n",
    "\n",
    "\n",
    "<details>\n",
    "<summary>\n",
    "What is the output of the composition if we run it with input `[1, 1]`?\n",
    "</summary>\n",
    "$$\n",
    "\\begin{bmatrix}\n",
    "1 & 3 \\\\\n",
    "2 & 4\n",
    "\\end{bmatrix}\n",
    "\\cdot\n",
    "\\begin{bmatrix}\n",
    "1 \\\\\n",
    "1\n",
    "\\end{bmatrix}\n",
    "=\n",
    "\\begin{bmatrix}\n",
    "4 \\\\\n",
    "6\n",
    "\\end{bmatrix}\n",
    "$$\n",
    "</details>"
   ],
   "id": "8b345f72b87c15c8"
  },
  {
   "metadata": {
    "ExecuteTime": {
     "end_time": "2025-09-22T15:31:36.979148Z",
     "start_time": "2025-09-22T15:31:36.950413Z"
    }
   },
   "cell_type": "code",
   "source": "simple_comp.run([1, 1])",
   "id": "6b6cd033c18f81c",
   "outputs": [
    {
     "data": {
      "text/plain": [
       "array([[4., 6.]])"
      ]
     },
     "execution_count": 35,
     "metadata": {},
     "output_type": "execute_result"
    }
   ],
   "execution_count": 35
  },
  {
   "metadata": {},
   "cell_type": "markdown",
   "source": [
    "## 2. Linear Stroop Model\n",
    "\n",
    "With the above basics, we can already implement simple models. Here, we will implement a simple version that aims to explain conflict:\n",
    "\n",
    "![multitasking](https://raw.githubusercontent.com/AutoResearch/ASDMB-Workshop/main/ASDMB-book/_static/img/practical-sessions/spongebob-spongebob-squarepants.gif)\n",
    "\n",
    "Pat your head and rub your belly at the same time. Unless you have practiced this odd exercise you will get conflict between the motor commands and quickly end up rubbing your head while also rubbing your belly, OR patting your belly while also patting your head. As a more difficult exercise, while sitting, lift your right foot and repeatedly rotate it clockwise while simultaneously tracing a counterclockwise circle in the air with your right hand.\n",
    "\n",
    "These are examples of **cognitive conflict**. When you are trying to do two things ar once conflict can arise. Other things however, you can do simultaneously without experiencing conflict. For example, you can walk and have a conversation at the same time, or you can eat and watch TV at the same time.\n",
    "\n",
    "The Stroop Model explains this conflict with shared pathways (or representations). In the classical Stroop Task, the participants are asked to name the color of the ink a word is printed in. The word itself also has the meaning of a color. For example, the word \"RED\" printed in blue ink. Our model proposes that both recognizing a color and reading a color word share common representations (in our case in the output layer). When the color and meaning match, these representation \"work together\" and the task is easy. However, when they mismatch, they \"work against each other\" and cause conflict.\n",
    "\n",
    "Don't worry if this is not clear yet, it will be once we have implemented the model:\n"
   ],
   "id": "f6734def5a032a4c"
  },
  {
   "metadata": {},
   "cell_type": "markdown",
   "source": [
    "### Task & Model\n",
    "\n",
    "We will implement a simple version of the Stroop model. The task consists of 2x2 conditions:\n",
    "\n",
    "\n",
    "- word: RED, GREEN -> one-hot encoded as [1, 0] and [0, 1]\n",
    "- color: red, green -> one-hot encoded as [1, 0] and [0, 1]\n",
    "\n",
    "---\n",
    "\n",
    "- <span style=\"color:red\">RED</span> -> word: [1, 0], color: [1, 0]\n",
    "- <span style=\"color:green\">RED</span> -> word: [1, 0], color: [0, 1]\n",
    "- <span style=\"color:green\">GREEN</span> -> word: [0, 1], color: [0, 1]\n",
    "- <span style=\"color:red\">GREEN</span> -> word: [0, 1], color: [1, 0]\n",
    "\n",
    "To model the more \"automatic\" response to word reading, we will give the word input a stronger connection to the output layer then the color input:\n",
    "\n"
   ],
   "id": "8e20ddcfd5ce1958"
  },
  {
   "metadata": {
    "ExecuteTime": {
     "end_time": "2025-09-22T17:09:26.871336Z",
     "start_time": "2025-09-22T17:09:26.477574Z"
    }
   },
   "cell_type": "code",
   "source": [
    "# Some CONSTANTS: Strength of processing pathways:\n",
    "WORD_PROCESSING_STRENGTH = 1.5\n",
    "COLOR_PROCESSING_STRENGTH = 1\n",
    "\n",
    "# input layers (shape == 2 for one-hot encoded inputs)\n",
    "word_input = pnl.ProcessingMechanism(name=\"Word\", input_shapes=2)\n",
    "color_input = pnl.ProcessingMechanism(name=\"Color\", input_shapes=2)\n",
    "\n",
    "# output layer (shape == 2 for one-hot encoded output red or green)\n",
    "response = pnl.ProcessingMechanism(name=\"Response\", input_shapes=2)\n",
    "\n",
    "# create the compositions\n",
    "linear_stroop = pnl.Composition(name=\"Linear Stroop\")\n",
    "\n",
    "# Create the projections\n",
    "# here we define a simple lateral inhibition matrix (i.e., input to red inhibits green and vice versa)\n",
    "inhibition_matrix = np.array(\n",
    "    [[1, -1],\n",
    "     [-1, 1]])\n",
    "\n",
    "# scale the inhibition matrix by the processing strength\n",
    "word_processing_matrix = WORD_PROCESSING_STRENGTH * inhibition_matrix\n",
    "color_processing_matrix = COLOR_PROCESSING_STRENGTH * inhibition_matrix\n",
    "\n",
    "\n",
    "# create projections\n",
    "word_response_projection = pnl.MappingProjection(matrix=word_processing_matrix)\n",
    "color_response_projection = pnl.MappingProjection(matrix=color_processing_matrix)\n",
    "\n",
    "\n",
    "# Add pathways to the composition\n",
    "linear_stroop.add_linear_processing_pathway([\n",
    "    word_input, word_response_projection, response\n",
    "])\n",
    "\n",
    "linear_stroop.add_linear_processing_pathway([color_input, color_response_projection, response])\n",
    "\n"
   ],
   "id": "9a11dc3ef48b3153",
   "outputs": [
    {
     "data": {
      "text/plain": [
       "<psyneulink.core.compositions.pathway.Pathway at 0x15897bfd0>"
      ]
     },
     "execution_count": 40,
     "metadata": {},
     "output_type": "execute_result"
    }
   ],
   "execution_count": 40
  },
  {
   "metadata": {},
   "cell_type": "markdown",
   "source": "Let's look at the graph of the model:",
   "id": "ee1125217981f5ab"
  },
  {
   "metadata": {
    "ExecuteTime": {
     "end_time": "2025-09-22T17:09:27.750682Z",
     "start_time": "2025-09-22T17:09:27.621638Z"
    }
   },
   "cell_type": "code",
   "source": "linear_stroop.show_graph(output_fmt='jupyter')",
   "id": "ae31be435d5b384f",
   "outputs": [
    {
     "data": {
      "image/svg+xml": "<?xml version=\"1.0\" encoding=\"UTF-8\" standalone=\"no\"?>\n<!DOCTYPE svg PUBLIC \"-//W3C//DTD SVG 1.1//EN\"\n \"http://www.w3.org/Graphics/SVG/1.1/DTD/svg11.dtd\">\n<!-- Generated by graphviz version 12.2.1 (20241206.2353)\n -->\n<!-- Title: Linear Stroop&#45;1 Pages: 1 -->\n<svg width=\"166pt\" height=\"141pt\"\n viewBox=\"0.00 0.00 166.44 140.50\" xmlns=\"http://www.w3.org/2000/svg\" xmlns:xlink=\"http://www.w3.org/1999/xlink\">\n<g id=\"graph0\" class=\"graph\" transform=\"scale(1 1) rotate(0) translate(4 136.5)\">\n<title>Linear Stroop&#45;1</title>\n<polygon fill=\"white\" stroke=\"none\" points=\"-4,4 -4,-136.5 162.44,-136.5 162.44,4 -4,4\"/>\n<text text-anchor=\"middle\" x=\"79.22\" y=\"-7.2\" font-family=\"Times,serif\" font-size=\"14.00\">Linear Stroop&#45;1</text>\n<!-- Word&#45;1 -->\n<g id=\"node1\" class=\"node\">\n<title>Word&#45;1</title>\n<ellipse fill=\"none\" stroke=\"green\" stroke-width=\"3\" cx=\"34.98\" cy=\"-42.5\" rx=\"34.98\" ry=\"18\"/>\n<text text-anchor=\"middle\" x=\"34.98\" y=\"-38.23\" font-family=\"arial\" font-size=\"12.00\">Word&#45;1</text>\n</g>\n<!-- Response&#45;1 -->\n<g id=\"node3\" class=\"node\">\n<title>Response&#45;1</title>\n<ellipse fill=\"none\" stroke=\"red\" stroke-width=\"3\" cx=\"78.98\" cy=\"-114.5\" rx=\"51.68\" ry=\"18\"/>\n<text text-anchor=\"middle\" x=\"78.98\" y=\"-110.22\" font-family=\"arial\" font-size=\"12.00\">Response&#45;1</text>\n</g>\n<!-- Word&#45;1&#45;&gt;Response&#45;1 -->\n<g id=\"edge2\" class=\"edge\">\n<title>Word&#45;1&#45;&gt;Response&#45;1</title>\n<path fill=\"none\" stroke=\"black\" d=\"M45.86,-60.8C50.69,-68.49 56.49,-77.71 61.87,-86.28\"/>\n<polygon fill=\"black\" stroke=\"black\" points=\"58.83,-88.02 67.12,-94.63 64.76,-84.3 58.83,-88.02\"/>\n</g>\n<!-- Color&#45;2 -->\n<g id=\"node2\" class=\"node\">\n<title>Color&#45;2</title>\n<ellipse fill=\"none\" stroke=\"green\" stroke-width=\"3\" cx=\"122.98\" cy=\"-42.5\" rx=\"35.46\" ry=\"18\"/>\n<text text-anchor=\"middle\" x=\"122.98\" y=\"-38.23\" font-family=\"arial\" font-size=\"12.00\">Color&#45;2</text>\n</g>\n<!-- Color&#45;2&#45;&gt;Response&#45;1 -->\n<g id=\"edge1\" class=\"edge\">\n<title>Color&#45;2&#45;&gt;Response&#45;1</title>\n<path fill=\"none\" stroke=\"black\" d=\"M112.1,-60.8C107.28,-68.49 101.48,-77.71 96.09,-86.28\"/>\n<polygon fill=\"black\" stroke=\"black\" points=\"93.2,-84.3 90.84,-94.63 99.13,-88.02 93.2,-84.3\"/>\n</g>\n</g>\n</svg>\n",
      "text/plain": [
       "<graphviz.graphs.Digraph at 0x174ebb050>"
      ]
     },
     "execution_count": 41,
     "metadata": {},
     "output_type": "execute_result"
    }
   ],
   "execution_count": 41
  },
  {
   "metadata": {},
   "cell_type": "markdown",
   "source": "We see, that both color and word input project to the same output layer. Let's see what happens for different inputs. Here, we define the inputs as dictionary with the keys being the input layers:\n",
   "id": "29c55fdc9fb5ad34"
  },
  {
   "metadata": {
    "ExecuteTime": {
     "end_time": "2025-09-22T17:21:33.946923Z",
     "start_time": "2025-09-22T17:21:33.860865Z"
    }
   },
   "cell_type": "code",
   "source": [
    "# Congruent Stimuli\n",
    "print(f'{\"*\"*10}Congruent Stimuli{\"*\"*10}')\n",
    "# RED written in red:\n",
    "rr = {word_input: [1, 0], color_input: [1, 0]}\n",
    "response_r, response_g = linear_stroop.run(rr)[0]\n",
    "print('Red written in red:\\n',\n",
    "      f'Red response activation: {response_r}\\n'\n",
    "      f'Green response activation: {response_g}\\n')\n",
    "\n",
    "# GREEN written in green:\n",
    "gg = {word_input: [0, 1], color_input: [0, 1]}\n",
    "response_r, response_g = linear_stroop.run(gg)[0]\n",
    "print('Green written in green:\\n',\n",
    "      f'Red response activation: {response_r}\\n'\n",
    "      f'Green response activation: {response_g}\\n')\n",
    "\n",
    "# Incongruent Stimuli\n",
    "print(f'{\"*\"*10}Incongruent Stimuli{\"*\"*10}')\n",
    "# RED written in green:\n",
    "rg = {word_input: [1, 0], color_input: [0, 1]}\n",
    "response_r, response_g = linear_stroop.run(rg)[0]\n",
    "print('RED written in green:\\n',\n",
    "      f'Red response activation: {response_r}\\n'\n",
    "      f'Green response activation: {response_g}\\n')\n",
    "\n",
    "# green written in red:\n",
    "gr = {word_input: [0, 1], color_input: [1, 0]}\n",
    "response_r, response_g = linear_stroop.run(gr)[0]\n",
    "print('GREEN written in red:\\n',\n",
    "      f'Red response activation: {response_r}\\n'\n",
    "      f'Green response activation: {response_g}\\n')\n",
    "\n",
    "# green written in green:\n",
    "print('Green written in Green:', linear_stroop.run(gg))"
   ],
   "id": "49c59f2df2ce3a42",
   "outputs": [
    {
     "name": "stdout",
     "output_type": "stream",
     "text": [
      "**********Congruent Stimuli**********\n",
      "Red written in red:\n",
      " Red response activation: 2.5\n",
      "Green response activation: -2.5\n",
      "\n",
      "Green written in green:\n",
      " Red response activation: -2.5\n",
      "Green response activation: 2.5\n",
      "\n",
      "**********Incongruent Stimuli**********\n",
      "RED written in green:\n",
      " Red response activation: 0.5\n",
      "Green response activation: -0.5\n",
      "\n",
      "GREEN written in red:\n",
      " Red response activation: -0.5\n",
      "Green response activation: 0.5\n",
      "\n",
      "Green written in Green: [[-2.5  2.5]]\n"
     ]
    }
   ],
   "execution_count": 48
  },
  {
   "metadata": {},
   "cell_type": "markdown",
   "source": [
    "The above model can explain \"congruency\" effects. When the color and word match (congruent stimuli) the difference between the two output units is larger than when they mismatch (incongruent stimuli).\n",
    "\n",
    "### Adding A Drift Diffusion Module\n",
    "\n",
    "The numbers are hard to interpret, and we would like to add some stochasticity: \"It is more likely to be wrong on incongruent trials, and it is slower\". To model this, we can add a Drift Diffusion Module to the response:\n",
    "\n",
    "![ddm](https://raw.githubusercontent.com/AutoResearch/ASDMB-Workshop/main/ASDMB-book/_static/img/practical-sessions/ddm.png)"
   ],
   "id": "5bf24bc211ef186c"
  },
  {
   "metadata": {
    "ExecuteTime": {
     "end_time": "2025-09-22T20:22:44.797196Z",
     "start_time": "2025-09-22T20:22:44.793557Z"
    }
   },
   "cell_type": "code",
   "source": [
    "WORD_PROCESSING_STRENGTH = 1.5\n",
    "COLOR_PROCESSING_STRENGTH = 1\n",
    "def get_linear_stroop_with_ddm():\n",
    "    # Some CONSTANTS: Strength of processing pathways:\n",
    "\n",
    "\n",
    "    # input layers (shape == 2 for one-hot encoded inputs)\n",
    "    word_input = pnl.ProcessingMechanism(name=\"Word\", input_shapes=2)\n",
    "    color_input = pnl.ProcessingMechanism(name=\"Color\", input_shapes=2)\n",
    "\n",
    "    # output layer (shape == 2 for one-hot encoded output red or green)\n",
    "    output_layer = pnl.ProcessingMechanism(name=\"Output\", input_shapes=2)\n",
    "\n",
    "    # DDM for decision making\n",
    "    decision_layer = pnl.DDM(name='Decision', function=pnl.DriftDiffusionIntegrator(\n",
    "        noise=.25,\n",
    "        starting_value=0.0,\n",
    "        non_decision_time=0.0,\n",
    "        rate=.25,\n",
    "        threshold=1.0),\n",
    "                             reset_stateful_function_when=pnl.AtTrialStart())\n",
    "\n",
    "    # create the compositions\n",
    "    linear_stroop_with_ddm = pnl.Composition(name=\"Linear Stroop\")\n",
    "\n",
    "    # Create the projections\n",
    "    # here we define a simple lateral inhibition matrix (i.e., input to red inhibits green and vice versa)\n",
    "    inhibition_matrix = np.array(\n",
    "        [[1, -1],\n",
    "         [-1, 1]])\n",
    "\n",
    "    # scale the inhibition matrix by the processing strength\n",
    "    word_processing_matrix = WORD_PROCESSING_STRENGTH * inhibition_matrix\n",
    "    color_processing_matrix = COLOR_PROCESSING_STRENGTH * inhibition_matrix\n",
    "\n",
    "    # create projections\n",
    "    word_response_projection = pnl.MappingProjection(matrix=word_processing_matrix)\n",
    "    color_response_projection = pnl.MappingProjection(matrix=color_processing_matrix)\n",
    "\n",
    "    # Add pathways to the composition\n",
    "    linear_stroop_with_ddm.add_linear_processing_pathway([\n",
    "        word_input, word_response_projection, output_layer\n",
    "    ])\n",
    "\n",
    "    linear_stroop_with_ddm.add_linear_processing_pathway([color_input, color_response_projection, output_layer])\n",
    "\n",
    "    linear_stroop_with_ddm.add_linear_processing_pathway([output_layer, decision_layer])\n",
    "    return linear_stroop_with_ddm, word_input, color_input"
   ],
   "id": "cda375d265735fa5",
   "outputs": [],
   "execution_count": 155
  },
  {
   "metadata": {},
   "cell_type": "markdown",
   "source": "Let's look at the graph of the model:",
   "id": "81bcc02913c3afcb"
  },
  {
   "metadata": {
    "ExecuteTime": {
     "end_time": "2025-09-22T20:22:47.903939Z",
     "start_time": "2025-09-22T20:22:47.204007Z"
    }
   },
   "cell_type": "code",
   "source": [
    "linear_stroop_with_ddm, _, _ = get_linear_stroop_with_ddm()\n",
    "\n",
    "linear_stroop_with_ddm.show_graph(output_fmt='jupyter')"
   ],
   "id": "1c2fd948a60a455",
   "outputs": [
    {
     "data": {
      "image/svg+xml": "<?xml version=\"1.0\" encoding=\"UTF-8\" standalone=\"no\"?>\n<!DOCTYPE svg PUBLIC \"-//W3C//DTD SVG 1.1//EN\"\n \"http://www.w3.org/Graphics/SVG/1.1/DTD/svg11.dtd\">\n<!-- Generated by graphviz version 12.2.1 (20241206.2353)\n -->\n<!-- Title: Linear Stroop&#45;48 Pages: 1 -->\n<svg width=\"184pt\" height=\"213pt\"\n viewBox=\"0.00 0.00 184.03 212.50\" xmlns=\"http://www.w3.org/2000/svg\" xmlns:xlink=\"http://www.w3.org/1999/xlink\">\n<g id=\"graph0\" class=\"graph\" transform=\"scale(1 1) rotate(0) translate(4 208.5)\">\n<title>Linear Stroop&#45;48</title>\n<polygon fill=\"white\" stroke=\"none\" points=\"-4,4 -4,-208.5 180.03,-208.5 180.03,4 -4,4\"/>\n<text text-anchor=\"middle\" x=\"88.01\" y=\"-7.2\" font-family=\"Times,serif\" font-size=\"14.00\">Linear Stroop&#45;48</text>\n<!-- Color&#45;53 -->\n<g id=\"node1\" class=\"node\">\n<title>Color&#45;53</title>\n<ellipse fill=\"none\" stroke=\"green\" stroke-width=\"3\" cx=\"39.75\" cy=\"-42.5\" rx=\"39.75\" ry=\"18\"/>\n<text text-anchor=\"middle\" x=\"39.75\" y=\"-38.23\" font-family=\"arial\" font-size=\"12.00\">Color&#45;53</text>\n</g>\n<!-- Output&#45;57 -->\n<g id=\"node3\" class=\"node\">\n<title>Output&#45;57</title>\n<ellipse fill=\"none\" stroke=\"black\" cx=\"87.75\" cy=\"-114.5\" rx=\"43.57\" ry=\"18\"/>\n<text text-anchor=\"middle\" x=\"87.75\" y=\"-110.22\" font-family=\"arial\" font-size=\"12.00\">Output&#45;57</text>\n</g>\n<!-- Color&#45;53&#45;&gt;Output&#45;57 -->\n<g id=\"edge1\" class=\"edge\">\n<title>Color&#45;53&#45;&gt;Output&#45;57</title>\n<path fill=\"none\" stroke=\"black\" d=\"M51.62,-60.8C57.16,-68.89 63.88,-78.69 70.01,-87.63\"/>\n<polygon fill=\"black\" stroke=\"black\" points=\"66.96,-89.36 75.5,-95.63 72.73,-85.4 66.96,-89.36\"/>\n</g>\n<!-- Word&#45;52 -->\n<g id=\"node2\" class=\"node\">\n<title>Word&#45;52</title>\n<ellipse fill=\"none\" stroke=\"green\" stroke-width=\"3\" cx=\"136.75\" cy=\"-42.5\" rx=\"39.27\" ry=\"18\"/>\n<text text-anchor=\"middle\" x=\"136.75\" y=\"-38.23\" font-family=\"arial\" font-size=\"12.00\">Word&#45;52</text>\n</g>\n<!-- Word&#45;52&#45;&gt;Output&#45;57 -->\n<g id=\"edge2\" class=\"edge\">\n<title>Word&#45;52&#45;&gt;Output&#45;57</title>\n<path fill=\"none\" stroke=\"black\" d=\"M124.64,-60.8C118.98,-68.89 112.12,-78.69 105.86,-87.63\"/>\n<polygon fill=\"black\" stroke=\"black\" points=\"103.12,-85.44 100.26,-95.64 108.86,-89.45 103.12,-85.44\"/>\n</g>\n<!-- Decision&#45;46 -->\n<g id=\"node4\" class=\"node\">\n<title>Decision&#45;46</title>\n<ellipse fill=\"none\" stroke=\"red\" stroke-width=\"3\" cx=\"87.75\" cy=\"-186.5\" rx=\"51.2\" ry=\"18\"/>\n<text text-anchor=\"middle\" x=\"87.75\" y=\"-182.22\" font-family=\"arial\" font-size=\"12.00\">Decision&#45;46</text>\n</g>\n<!-- Output&#45;57&#45;&gt;Decision&#45;46 -->\n<g id=\"edge3\" class=\"edge\">\n<title>Output&#45;57&#45;&gt;Decision&#45;46</title>\n<path fill=\"none\" stroke=\"black\" d=\"M87.75,-132.8C87.75,-139.79 87.75,-148.06 87.75,-155.95\"/>\n<polygon fill=\"black\" stroke=\"black\" points=\"84.25,-155.91 87.75,-165.91 91.25,-155.91 84.25,-155.91\"/>\n</g>\n</g>\n</svg>\n",
      "text/plain": [
       "<graphviz.graphs.Digraph at 0x3298a5890>"
      ]
     },
     "execution_count": 156,
     "metadata": {},
     "output_type": "execute_result"
    }
   ],
   "execution_count": 156
  },
  {
   "metadata": {},
   "cell_type": "markdown",
   "source": "Now, we can simulate 100 congruent and 100 incongruent trials and look at the rt distributions:",
   "id": "b88e34e83d92f3ed"
  },
  {
   "metadata": {
    "ExecuteTime": {
     "end_time": "2025-09-22T20:23:45.958702Z",
     "start_time": "2025-09-22T20:23:17.902666Z"
    }
   },
   "cell_type": "code",
   "source": [
    "model, word_input, color_input = get_linear_stroop_with_ddm()\n",
    "\n",
    "# example congruent stimulus\n",
    "gg = {word_input: [0, 1], color_input: [0, 1]}\n",
    "\n",
    "model.run(gg, num_trials= 1000)\n",
    "\n",
    "results = model.results\n",
    "\n",
    "decision_times_correct = [r[1][0] for r in results if r[0][0] > 0]\n",
    "decision_time_error = [r[1][0] for r in results if r[0][0] < 0]\n",
    "\n",
    "plt.hist(decision_times_correct, bins=100, alpha=0.6, color='green', label='Correct')\n",
    "plt.hist(decision_time_error, bins=100, alpha=0.6, color='red', label='Error')\n",
    "\n",
    "plt.title('Response Time Distribution in Congruent Trials')\n",
    "plt.ylabel('Frequency')\n",
    "plt.xlabel('Response Time')\n",
    "plt.legend()\n",
    "plt.show()"
   ],
   "id": "7f501a832ebeea7b",
   "outputs": [
    {
     "data": {
      "text/plain": [
       "<Figure size 640x480 with 1 Axes>"
      ],
      "image/png": "[encoded data removed]"
     },
     "metadata": {},
     "output_type": "display_data"
    }
   ],
   "execution_count": 160
  },
  {
   "metadata": {
    "jupyter": {
     "is_executing": true
    },
    "ExecuteTime": {
     "start_time": "2025-09-22T20:23:45.977992Z"
    }
   },
   "cell_type": "code",
   "source": [
    "model, word_input, color_input = get_linear_stroop_with_ddm()\n",
    "\n",
    "# example congruent stimulus\n",
    "gr = {word_input: [0, 1], color_input: [1, 0]}\n",
    "\n",
    "model.run(gr, num_trials= 1000)\n",
    "\n",
    "results = model.results# RED written in red\n",
    "\n",
    "decision_times_correct = [r[1][0] for r in results if r[0][0] > 0]\n",
    "decision_time_error = [r[1][0] for r in results if r[0][0] < 0]\n",
    "\n",
    "plt.hist(decision_times_correct, bins=100, alpha=0.6, color='green', label='Correct')\n",
    "plt.hist(decision_time_error, bins=100, alpha=0.6, color='red', label='Error')\n",
    "\n",
    "plt.title('Response Time Distribution in Incongruent Trials')\n",
    "plt.ylabel('Frequency')\n",
    "plt.xlabel('Response Time')\n",
    "plt.legend()\n",
    "plt.show()"
   ],
   "id": "3ecc5b39fbc63cf5",
   "outputs": [],
   "execution_count": null
  },
  {
   "metadata": {},
   "cell_type": "code",
   "outputs": [],
   "execution_count": null,
   "source": "",
   "id": "c4e0c3a71166ea98"
  }
 ],
 "metadata": {
  "kernelspec": {
   "display_name": "Python 3",
   "language": "python",
   "name": "python3"
  },
  "language_info": {
   "codemirror_mode": {
    "name": "ipython",
    "version": 2
   },
   "file_extension": ".py",
   "mimetype": "text/x-python",
   "name": "python",
   "nbconvert_exporter": "python",
   "pygments_lexer": "ipython2",
   "version": "2.7.6"
  }
 },
 "nbformat": 4,
 "nbformat_minor": 5
}
