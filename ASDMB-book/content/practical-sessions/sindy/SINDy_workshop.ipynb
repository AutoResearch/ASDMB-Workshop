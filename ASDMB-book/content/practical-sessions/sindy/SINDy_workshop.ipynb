{
 "nbformat": 4,
 "nbformat_minor": 0,
 "metadata": {
  "colab": {
   "provenance": [],
   "toc_visible": true
  },
  "kernelspec": {
   "name": "python3",
   "display_name": "Python 3"
  },
  "language_info": {
   "name": "python"
  }
 },
 "cells": [
  {
   "cell_type": "markdown",
   "source": [
    "# Dynamical System Discovery with SINDy\n",
    "> >[![Open In Colab](https://colab.research.google.com/assets/colab-badge.svg)](https://colab.research.google.com/github/AutoResearch/ASDMB-Workshop/blob/main/ASDMB-book/content/practical-sessions/sindy/SINDy_workshop.ipynb)\n",
    "\n",
    "Run in Colab...."
   ],
   "metadata": {
    "id": "SFxyGTLO-Aeg"
   }
  },
  {
   "cell_type": "markdown",
   "source": [
    "## Introduction to SINDy\n",
    "\n",
    "- Given data $\\hat{x}$ we want to find the analytical expression of the dynamical system $\\dot{x}(t) = f(x(t))$ that best explains the data.\n",
    "- For this we have mesurements of all dimensions $x_1,...,x_n$ for time points $t_1,...,t_m$\n",
    "- These can be put into a martrix\n",
    "$$\n",
    "X =\n",
    "\\begin{bmatrix}\n",
    "x_1(t_1) & x_2(t_1) & \\cdots & x_n(t_1) \\\\\n",
    "x_1(t_2) & x_2(t_2) & \\cdots & x_n(t_2) \\\\\n",
    "\\vdots   & \\vdots   &        & \\vdots   \\\\\n",
    "x_1(t_m) & x_2(t_m) & \\cdots & x_n(t_m)\n",
    "\\end{bmatrix}.\n",
    "$$\n",
    "- Using difference quotients $\\dot{x}_k(t_i) \\approx \\frac{x_k(t_{i+1}) - x_k(t_i)}{t_{i+1} - t_i}$ we can also estimate the left-hand-side of our ode and agragate all these terms into the matrix\n",
    "$$\n",
    "\\dot{X} =\n",
    "\\begin{bmatrix}\n",
    "\\dot{x}_1(t_1) & \\dot{x}_2(t_1) & \\cdots & \\dot{x}_n(t_1) \\\\\n",
    "\\dot{x}_1(t_2) & \\dot{x}_2(t_2) & \\cdots & \\dot{x}_n(t_2) \\\\\n",
    "\\vdots   & \\vdots   &        & \\vdots   \\\\\n",
    "\\dot{x}_1(t_m) & \\dot{x}_2(t_m) & \\cdots & \\dot{x}_n(t_m)\n",
    "\\end{bmatrix}.\n",
    "$$\n",
    "- We can also set up a library of possible terms, e.g. monomials of order\n",
    "\n",
    "$$\n",
    "\\Theta(X) =\n",
    "\\begin{bmatrix}\n",
    "\\mid & \\mid &        & \\mid \\\\\n",
    "\\theta_1(X) & \\theta_2(X) & \\cdots & \\theta_\\ell(X) \\\\\n",
    "\\mid & \\mid &        & \\mid\n",
    "\\end{bmatrix}.\n",
    "$$\n",
    "\n",
    "For example, if $\\theta_1(x), \\theta_2(x), \\dots, \\theta_\\ell(x)$ are monomials\n",
    "($\\theta_i(x) = x^{i-1}$), then\n",
    "\n",
    "$$\n",
    "\\theta_3(x) =\n",
    "\\begin{bmatrix}\n",
    "\\mid & \\mid & & \\mid & \\mid & & \\mid\\\\\n",
    "x_1(t)^2 & x_1(t)x_2(t) & \\cdots & x_2(t)^2 & x_2(t)x_3(t) & \\cdots & x_n(t)^2\\\\\n",
    "\\mid & \\mid & & \\mid & \\mid & & \\mid\n",
    "\\end{bmatrix},\n",
    "$$\n",
    "\n",
    "where vector products and powers are understood to be element-wise.\n",
    "\n",
    "$$\n",
    "\\Xi =\n",
    "\\begin{bmatrix}\n",
    "\\mid & \\mid & & \\mid\\\\\n",
    "\\xi_1 & \\xi_2 & \\cdots & \\xi_n\\\\\n",
    "\\mid & \\mid & & \\mid\n",
    "\\end{bmatrix}.\n",
    "$$\n",
    "\n",
    "Finally, the approximation problem underlying SINDy is\n",
    "\n",
    "$$\n",
    "\\dot{X} \\approx \\Theta(X)\\Xi.\n",
    "$$\n"
   ],
   "metadata": {
    "id": "tr1gXL_a34LB"
   }
  },
  {
   "cell_type": "markdown",
   "source": [
    "### Install and Load Packages\n",
    "\n",
    "Run the cells below to install and run everything needed for the rest of the Tutorial."
   ],
   "metadata": {
    "id": "y8UxM4hVDvH3"
   }
  },
  {
   "cell_type": "code",
   "source": [
    "# Install necessary packages if running in Colab\n",
    "!pip install pysindy matplotlib pandas numpy scipy scikit-learn\n",
    "\n",
    "import numpy as np\n",
    "import pandas as pd\n",
    "import matplotlib.pyplot as plt\n",
    "from scipy.integrate import solve_ivp\n",
    "\n",
    "from sklearn.linear_model import LinearRegression, Lasso\n",
    "import pysindy as ps"
   ],
   "metadata": {
    "id": "i8ab7H5YOq84"
   },
   "execution_count": null,
   "outputs": []
  },
  {
   "cell_type": "markdown",
   "source": [
    "## Lotka-Volterra Model\n",
    "\n",
    "The Lotka-Volterra model, also called preditor-prey model describes the population size of a preditor population $y$ and a prey population $x$ as a mean-field model. The following set of differential equations describes the dynamics of the population sizes:\n",
    "\n",
    "\\begin{align}\n",
    "\\dot{x} &= \\alpha x - \\beta x y,\\\\\n",
    "\\dot{y} &= -\\gamma y + \\delta x y.\n",
    "\\end{align}\n",
    "\n",
    "Here the parameters have the following meaning:\n",
    "- $\\alpha$ is the per-capita growth rate of prey animals, i.e. how many new prey are born per capita and unit of time,\n",
    "- $\\beta$ is the effect of the presence of preditors on prey death rate,\n",
    "- $\\gamma$ is the per-capita death rate of the preditor population,\n",
    "- $\\delta$ is the effect of the presence of prey on the preditor growth rate.\n",
    "\n",
    "\n",
    "The cell below defines the Lotka-Volterra equations."
   ],
   "metadata": {
    "id": "yykIJVhu-u_Z"
   }
  },
  {
   "cell_type": "code",
   "metadata": {
    "id": "ee5e043f"
   },
   "source": [
    "def lotka_volterra(t, z, alpha, beta, gamma, delta):\n",
    "    \"\"\"\n",
    "    Defines the Lotka-Volterra system of differential equations.\n",
    "\n",
    "    Args:\n",
    "        t: Time (scalar).\n",
    "        z: A list or array containing the state variables [x, y].\n",
    "        alpha: Rate of prey reproduction.\n",
    "        beta: Rate of prey-predator interaction leading to prey death.\n",
    "        gamma: Rate of predator death.\n",
    "        delta: Rate of prey-predator interaction leading to predator reproduction.\n",
    "\n",
    "    Returns:\n",
    "        A NumPy array containing the derivatives [dx/dt, dy/dt].\n",
    "    \"\"\"\n",
    "    x, y = z\n",
    "    dxdt = alpha * x - beta * x * y\n",
    "    dydt = -gamma * y + delta * x * y\n",
    "    return np.array([dxdt, dydt])"
   ],
   "execution_count": null,
   "outputs": []
  },
  {
   "cell_type": "markdown",
   "source": [
    "We can use this function to generate mock data. Feel free to play around with the parameters."
   ],
   "metadata": {
    "id": "2slnCAHTHuYj"
   }
  },
  {
   "cell_type": "code",
   "metadata": {
    "id": "64a224fb"
   },
   "source": [
    "tspan = (0, 50)\n",
    "z0 = [10, 5]\n",
    "alpha = 1.1\n",
    "beta = 0.4\n",
    "gamma = 0.2\n",
    "delta = 0.1\n",
    "t_eval = np.linspace(tspan[0], tspan[1], 500)\n",
    "\n",
    "sol = solve_ivp(\n",
    "    fun=lambda t, z: lotka_volterra(t, z, alpha, beta, gamma, delta),\n",
    "    t_span=tspan,\n",
    "    y0=z0,\n",
    "    t_eval=t_eval\n",
    ")\n",
    "\n",
    "time = sol.t\n",
    "data = sol.y.T"
   ],
   "execution_count": null,
   "outputs": []
  },
  {
   "cell_type": "markdown",
   "source": [
    "Using matplotlib we'll visualize the data."
   ],
   "metadata": {
    "id": "Jq73G4A8wJzm"
   }
  },
  {
   "cell_type": "code",
   "metadata": {
    "id": "e2c2c9e7"
   },
   "source": [
    "plt.figure(figsize=(10, 6))\n",
    "plt.plot(time, data[:, 0], label='Prey')\n",
    "plt.plot(time, data[:, 1], label='Predator')\n",
    "plt.xlabel('Time')\n",
    "plt.ylabel('Population')\n",
    "plt.title('Lotka-Volterra Model Simulation')\n",
    "plt.legend()\n",
    "plt.show()"
   ],
   "execution_count": null,
   "outputs": []
  },
  {
   "cell_type": "markdown",
   "source": [
    "### A basic SINDy\n",
    "\n",
    "Let us implement a basic SINDy ourselves. We will follow the following steps."
   ],
   "metadata": {
    "id": "LROPv1HeAOio"
   }
  },
  {
   "cell_type": "markdown",
   "source": [
    " 1. Get data (which we already did by simulating).\n",
    " 2. Compute estimated derivatives using the difference quotient $\\dot{x}(t_i) \\approx \\frac{x(t_{i+1}) - x(t_i)}{t_{i+1} - t_i}$. Make sure it has the same dimensions as our data.\n"
   ],
   "metadata": {
    "id": "JtDvP8nEAlIL"
   }
  },
  {
   "cell_type": "code",
   "source": [
    "Xdot_sim = ...  # TODO: calculate the difference quotient, account for array size"
   ],
   "metadata": {
    "id": "w4pOW2xBDaHL"
   },
   "execution_count": null,
   "outputs": []
  },
  {
   "cell_type": "markdown",
   "source": [
    "<details><summary>Reveal</summary>\n",
    "\n",
    "```python\n",
    "Xdot_sim = (data[1:,:] - data[:-1,:])/(time[1:] - time[:-1])[:, np.newaxis]\n",
    "Xdot_sim = np.concatenate((Xdot_sim,Xdot_sim[-2:-1,:]), axis=0)\n",
    "```\n",
    "</details>"
   ],
   "metadata": {
    "id": "IWb_1uxGwiSQ"
   }
  },
  {
   "cell_type": "markdown",
   "source": [
    "3. Then we need the feature library. We will use monomes up to second order."
   ],
   "metadata": {
    "id": "J-rDoK8zAsZS"
   }
  },
  {
   "cell_type": "code",
   "source": [
    "X, Y = data[:, 0], data[:, 1]\n",
    "Theta = np.column_stack([\n",
    "      # TODO: calclulate monomes up to second order\n",
    "      # constant\n",
    "      # x\n",
    "      # y\n",
    "      # x^2\n",
    "      # xy\n",
    "      # y^2\n",
    "])\n",
    "\n",
    "feature_names = ['1', 'x', 'y', 'x^2', 'xy', 'y^2']\n"
   ],
   "metadata": {
    "id": "4v47f9uTAbP5"
   },
   "execution_count": null,
   "outputs": []
  },
  {
   "cell_type": "markdown",
   "source": [
    "<details><summary>Reveal</summary>\n",
    "\n",
    "```python\n",
    "Theta = np.column_stack([\n",
    "    np.ones_like(X),     # constant\n",
    "    X,                   # x\n",
    "    Y,                   # y\n",
    "    X**2,                # x^2\n",
    "    X*Y,                 # xy\n",
    "    Y**2                 # y^2\n",
    "])\n",
    "```\n",
    "</details>"
   ],
   "metadata": {
    "id": "f1gF1C-kIs-i"
   }
  },
  {
   "cell_type": "markdown",
   "source": [
    "4. Least squares regression for each variable"
   ],
   "metadata": {
    "id": "JeEsH5gnxN99"
   }
  },
  {
   "cell_type": "code",
   "source": [
    "coefs = []\n",
    "for i in range(2):  # prey and predator\n",
    "    lr = LinearRegression(fit_intercept=False)\n",
    "    lr.fit(\n",
    "        # TODO: fit basis to derivative\n",
    "    )\n",
    "\n",
    "coefs = np.array(coefs)\n",
    "\n",
    "def print_sindy(coefs, name=\"model\"):\n",
    "    print(\"-----------------------\")\n",
    "    print(name+\":\")\n",
    "    for i, var in enumerate(['Prey', 'Predator']):\n",
    "        terms = []\n",
    "        for c, name in zip(coefs[i], feature_names):\n",
    "            if c != 0:\n",
    "                terms.append(f\"{c:+.2f}*{name}\")\n",
    "        eq = \" \".join(terms)\n",
    "        print(f\"d{var}/dt = {eq}\")\n",
    "    print(\"-----------------------\")\n",
    "\n",
    "print_sindy(coefs, \"Barebones SINDy without sparsity, aka INDy\")\n",
    "\n",
    "# 5. Apply thresholding for sparsity\n",
    "threshold = ...  # Tune this threshold\n",
    "coefs[np.abs(coefs) < threshold] = 0\n",
    "\n",
    "print_sindy(coefs, \"Barebones SINDy\")\n"
   ],
   "metadata": {
    "id": "ot8cUpwBA2g-"
   },
   "execution_count": null,
   "outputs": []
  },
  {
   "cell_type": "markdown",
   "source": [
    "<details><summary>Reveal</summary>\n",
    "\n",
    "```python\n",
    "    lr.fit(Theta, Xdot_sim[:, i])\n",
    "    coefs.append(lr.coef_)\n",
    "\n",
    "threshold = 0.09\n",
    "```\n",
    "</details>"
   ],
   "metadata": {
    "id": "wv3m9oGOJaGB"
   }
  },
  {
   "cell_type": "markdown",
   "source": [
    "To see if this was successful, we will simulate the inferred model and plot this model against the data."
   ],
   "metadata": {
    "id": "h8RdYFvRxrAH"
   }
  },
  {
   "cell_type": "code",
   "metadata": {
    "id": "87cd9717"
   },
   "source": [
    "# Define the discovered system as a function\n",
    "def discovered_system(t, z, coefs, feature_names):\n",
    "    x, y = z\n",
    "    # TODO: Recreate the Theta matrix for the current state (x, y)\n",
    "\n",
    "# Simulate the discovered system\n",
    "# Use the same time points and initial conditions as the original simulation\n",
    "sol_discovered = solve_ivp(\n",
    "    # TODO: integrate discoverd system with the learned coefs\n",
    ")\n",
    "\n",
    "sim_barebones = sol_discovered.y.T"
   ],
   "execution_count": null,
   "outputs": []
  },
  {
   "cell_type": "markdown",
   "source": [
    "<details><summary>Reveal</summary>\n",
    "\n",
    "```python\n",
    "def discovered_system(t, z, coefs, feature_names):\n",
    "    x, y = z\n",
    "    Theta_current = np.array([1, x, y, x**2, x*y, y**2])\n",
    "    dxdt = np.dot(Theta_current, coefs[0])\n",
    "    dydt = np.dot(Theta_current, coefs[1])\n",
    "    return np.array([dxdt, dydt])\n",
    "\n",
    "\n",
    "sol_discovered = solve_ivp(\n",
    "    fun=lambda t, z: discovered_system(t, z, coefs, feature_names),\n",
    "    t_span=tspan,\n",
    "    y0=z0,\n",
    "    t_eval=t_eval\n",
    ")\n",
    "```\n",
    "</details>"
   ],
   "metadata": {
    "id": "Fvn9nQ43KYV-"
   }
  },
  {
   "cell_type": "code",
   "metadata": {
    "id": "984ee080"
   },
   "source": [
    "plt.figure(figsize=(10, 6))\n",
    "plt.plot(time, data[:, 0], label='Prey (Original Data)')\n",
    "plt.plot(time, data[:, 1], label='Predator (Original Data)')\n",
    "plt.plot(time, sim_barebones[:, 0], \"c--\", label=\"Prey (Barebones SINDy)\", linewidth=3)\n",
    "plt.plot(time, sim_barebones[:, 1], \"m--\", label=\"Predator (Barebones SINDy)\", linewidth=3)\n",
    "plt.ylim([0, 14])\n",
    "plt.xlabel('Time')\n",
    "plt.ylabel('Population')\n",
    "plt.title('Barebones SINDy Simulation vs. Original Data')\n",
    "plt.legend()\n",
    "plt.show()"
   ],
   "execution_count": null,
   "outputs": []
  },
  {
   "cell_type": "markdown",
   "source": [
    "#### PySINDy\n",
    "\n",
    "We saw that our barebones SINDy implementation did infer a model very similar to the data, but not quite. So now we will try again with `PySINDy`. We will follow the same steps but using more sophisticated tools. `PySINDy` has different implementations of estimating the derivates for our data.\n",
    "We will chose `FiniteDifference` but go to the second order this time:"
   ],
   "metadata": {
    "id": "RhDOQvGxAXHD"
   }
  },
  {
   "cell_type": "code",
   "source": [
    "differentiation_method = ..."
   ],
   "metadata": {
    "id": "9fkbN0zWtAK5"
   },
   "execution_count": null,
   "outputs": []
  },
  {
   "cell_type": "markdown",
   "source": [
    "<details><summary>Reveal</summary>\n",
    "\n",
    "```python\n",
    "differentiation_method = ps.FiniteDifference(order=2)\n",
    "```\n",
    "</details>"
   ],
   "metadata": {
    "id": "3_HsNEgdK1Xw"
   }
  },
  {
   "cell_type": "markdown",
   "source": [
    "`PySINDy` also comes with predefined feature libraries. Many are possible but here we will stay with `PolynomialLibrary` to order 3."
   ],
   "metadata": {
    "id": "fGV3wvFI1rnE"
   }
  },
  {
   "cell_type": "code",
   "source": [
    "feature_library = ..."
   ],
   "metadata": {
    "id": "HqmkFVcXtJm4"
   },
   "execution_count": null,
   "outputs": []
  },
  {
   "cell_type": "markdown",
   "source": [
    "<details><summary>Reveal</summary>\n",
    "\n",
    "```python\n",
    "feature_library = ps.PolynomialLibrary(degree=3)\n",
    "```\n",
    "</details>"
   ],
   "metadata": {
    "id": "XC6lfGUtK1_3"
   }
  },
  {
   "cell_type": "markdown",
   "source": [
    "These are both higher ordered versions of what we did above. But the real advantage are the different optimizers that are implemented in `PySINDy`. For now we will use the Sequentially thresholded least squares algorithm `STLSQ` with the `threshold = 0.01`."
   ],
   "metadata": {
    "id": "WmKUw-2n1-Hr"
   }
  },
  {
   "cell_type": "code",
   "source": [
    "optimizer = ...\n"
   ],
   "metadata": {
    "id": "XgBXqEi-tRbA"
   },
   "execution_count": null,
   "outputs": []
  },
  {
   "cell_type": "markdown",
   "source": [
    "<details><summary>Reveal</summary>\n",
    "\n",
    "```python\n",
    "optimizer = ps.STLSQ(threshold=0.01)\n",
    "```\n",
    "</details>"
   ],
   "metadata": {
    "id": "frYo0WLyK2f7"
   }
  },
  {
   "cell_type": "markdown",
   "source": [
    "Now, we put everything together into a `SINDy` model."
   ],
   "metadata": {
    "id": "sk-WQAlz2hu7"
   }
  },
  {
   "cell_type": "code",
   "source": [
    "model = ps.SINDy(\n",
    "    # TODO: give the model differentiation method, feature library, and and optimizer\n",
    ")"
   ],
   "metadata": {
    "id": "vTdGed1ItTFO"
   },
   "execution_count": null,
   "outputs": []
  },
  {
   "cell_type": "markdown",
   "source": [
    "<details><summary>Reveal</summary>\n",
    "\n",
    "```python\n",
    "model = ps.SINDy(\n",
    "    differentiation_method=differentiation_method,\n",
    "    feature_library=feature_library,\n",
    "    optimizer=optimizer,\n",
    ")\n",
    "```\n",
    "</details>"
   ],
   "metadata": {
    "id": "eAUmHD77K26e"
   }
  },
  {
   "cell_type": "markdown",
   "source": [
    "When fitting the model to data we can also name the variables of our ODE for nicer outputs"
   ],
   "metadata": {
    "id": "cu_9vFFg7xd9"
   }
  },
  {
   "cell_type": "code",
   "source": [
    "model.fit(\n",
    "    # TODO: fit the model to the data and give the variable names\n",
    ")\n"
   ],
   "metadata": {
    "id": "hcRxupVmtVED"
   },
   "execution_count": null,
   "outputs": []
  },
  {
   "cell_type": "markdown",
   "source": [
    "<details><summary>Reveal</summary>\n",
    "\n",
    "```python\n",
    "model.fit(\n",
    "    data,\n",
    "    t=time,\n",
    "    feature_names=[\"x\", \"y\"],\n",
    ")\n",
    "```\n",
    "</details>"
   ],
   "metadata": {
    "id": "O_kjPGZYK3nL"
   }
  },
  {
   "cell_type": "markdown",
   "source": [
    "We can now print the set of equations that `PySINDy` found for us."
   ],
   "metadata": {
    "id": "QO_Rx_ja8Jtq"
   }
  },
  {
   "cell_type": "code",
   "source": [
    "model.print()"
   ],
   "metadata": {
    "id": "Wf-Aw-Y9tXUg"
   },
   "execution_count": null,
   "outputs": []
  },
  {
   "cell_type": "markdown",
   "source": [
    "This closer to the ground truth than our barebones version. We can visualize by first simulating and then plotting with `matplotlib` again."
   ],
   "metadata": {
    "id": "2-7MwZ_H8XBo"
   }
  },
  {
   "cell_type": "code",
   "source": [
    "sim = ..."
   ],
   "metadata": {
    "id": "6QK6C8fZtko3"
   },
   "execution_count": null,
   "outputs": []
  },
  {
   "cell_type": "markdown",
   "source": [
    "<details><summary>Reveal</summary>\n",
    "\n",
    "```python\n",
    "sim = model.simulate(z0,t=time)\n",
    "```\n",
    "</details>"
   ],
   "metadata": {
    "id": "hJ5Rt7yfK50_"
   }
  },
  {
   "cell_type": "code",
   "source": [
    "plt.figure(figsize=(10, 6))\n",
    "plt.scatter(time, data[:, 0], label='Prey')\n",
    "plt.scatter(time, data[:, 1], label='Predator')\n",
    "plt.plot(time, sim[:, 1], \"m--\", label=\"SINDy model, preditor\", linewidth=3)\n",
    "plt.plot(time, sim[:, 0], \"c--\", label=\"SINDy model, pray\", linewidth=3)\n",
    "plt.xlabel(\"x\")\n",
    "plt.ylabel(\"y\")\n",
    "plt.legend()\n",
    "plt.show()\n"
   ],
   "metadata": {
    "id": "34ljKk0EtzMs"
   },
   "execution_count": null,
   "outputs": []
  },
  {
   "cell_type": "markdown",
   "source": [
    "### FitzHugh–Nagumo\n",
    "\n",
    "The FitzHugh-Nagumo model describes the prototype of an excitable system e.g. a neuron.\n",
    "\n",
    "\\begin{align}\n",
    "\\dot{v} &= v-\\frac{v^3}{3}-w+I_\\text{ext},\\\\\n",
    "\\tau \\dot{w} &= v + a - bw.\n",
    "\\end{align}\n",
    "\n",
    "Where\n",
    "- **v** is the fast activator variable, e.g. the membrane potential\n",
    "- **w** is the slow recovery variable, e.g. the sodium channel reactivation\n",
    "- **a** controlls the excitability threshold\n",
    "- **b** controlls the coupling of the recovery back onto itself\n",
    "- $I_\\text{ext}$ is an external stimulus current\n",
    "- $\\tau$ seperates time scales of $v$ and $w$."
   ],
   "metadata": {
    "id": "W4Eo2yDe-w-M"
   }
  },
  {
   "cell_type": "code",
   "source": [
    "def fitzhugh_nagumo(t, z, a, b, tau, I_ext):\n",
    "    \"\"\"\n",
    "    Defines the FitzHugh-Nagumo system of differential equations.\n",
    "\n",
    "    Args:\n",
    "        t: Time (scalar).\n",
    "        z: A list or array containing the state variables [v, w].\n",
    "        a: Parameter 'a'.\n",
    "        b: Parameter 'b'.\n",
    "        tau: Parameter 'tau'.\n",
    "        I_ext: External current term.\n",
    "\n",
    "    Returns:\n",
    "        A NumPy array containing the derivatives [dv/dt, dw/dt].\n",
    "    \"\"\"\n",
    "    v, w = z\n",
    "    dvdt = v - (v**3)/3 - w + I_ext\n",
    "    dwdt = (v + a - b*w) / tau\n",
    "    return np.array([dvdt, dwdt])\n"
   ],
   "metadata": {
    "id": "cP3TFxpmcmLY"
   },
   "execution_count": null,
   "outputs": []
  },
  {
   "cell_type": "markdown",
   "source": [
    "With this set of differential equations we can generate data."
   ],
   "metadata": {
    "id": "1uaLOr4F_BTs"
   }
  },
  {
   "cell_type": "code",
   "source": [
    "# Standard parameter values for FitzHugh-Nagumo\n",
    "a = 0.7\n",
    "b = 0.8\n",
    "tau = 12.5\n",
    "I_ext = 0.4\n",
    "\n",
    "# Initial conditions and time span for simulation\n",
    "z0_fn = [-1.0, 1.0]\n",
    "tspan_fn = (0, 100)\n",
    "t_eval_fn = np.linspace(tspan_fn[0], tspan_fn[1], 1000)"
   ],
   "metadata": {
    "id": "910_40RKT5Qw"
   },
   "execution_count": null,
   "outputs": []
  },
  {
   "cell_type": "code",
   "source": [
    "# Simulate the FitzHugh-Nagumo system\n",
    "sol_fn = solve_ivp(\n",
    "    # TODO: integrate the FitzHugh-Nagumo model and evaluate at t_eval_fn\n",
    ")\n"
   ],
   "metadata": {
    "id": "4NJDzeICUDF6"
   },
   "execution_count": null,
   "outputs": []
  },
  {
   "cell_type": "markdown",
   "source": [
    "<details><summary>Reveal</summary>\n",
    "\n",
    "```python\n",
    "sol_fn = solve_ivp(\n",
    "    fun=lambda t, z: fitzhugh_nagumo(t, z, a, b, tau, I_ext),\n",
    "    t_span=tspan_fn,\n",
    "    y0=z0_fn,\n",
    "    t_eval=t_eval_fn\n",
    ")\n",
    "\n",
    "```\n",
    "</details>"
   ],
   "metadata": {
    "id": "CHywONOiK83_"
   }
  },
  {
   "cell_type": "markdown",
   "source": [
    "Real-world data has noise. So we will add a small amount of  gaussian noise to this data."
   ],
   "metadata": {
    "id": "ookdnfTF_zCv"
   }
  },
  {
   "cell_type": "code",
   "source": [
    "\n",
    "time_fn = sol_fn.t\n",
    "data_fn = ... # TODO: Bring the data in form and add a small amount noise\n"
   ],
   "metadata": {
    "id": "t0P42C5cULp9"
   },
   "execution_count": null,
   "outputs": []
  },
  {
   "cell_type": "markdown",
   "source": [
    "<details><summary>Reveal</summary>\n",
    "\n",
    "```python\n",
    "data_fn = sol_fn.y.T + np.random.normal(0, 0.01, sol_fn.y.shape).T\n",
    "```\n",
    "</details>"
   ],
   "metadata": {
    "id": "iPx1mVd5K9hi"
   }
  },
  {
   "cell_type": "code",
   "source": [
    "\n",
    "# You can display or plot the data here if you like\n",
    "plt.figure(figsize=(10, 6))\n",
    "plt.plot(time_fn, data_fn[:, 0], label='v (Membrane Potential)')\n",
    "plt.plot(time_fn, data_fn[:, 1], label='w (Recovery Variable)')\n",
    "plt.xlabel('Time')\n",
    "plt.ylabel('State Variable')\n",
    "plt.title('FitzHugh-Nagumo Model Simulation')\n",
    "plt.legend()\n",
    "plt.grid(True)\n",
    "plt.show()"
   ],
   "metadata": {
    "id": "INZWAA03UNB3"
   },
   "execution_count": null,
   "outputs": []
  },
  {
   "cell_type": "markdown",
   "source": [
    "#### SINDy\n",
    "\n",
    "We will set up `PySINDy` the same as before."
   ],
   "metadata": {
    "id": "BkxFX8MyUUSL"
   }
  },
  {
   "cell_type": "code",
   "source": [
    "feature_library_fn = ..."
   ],
   "metadata": {
    "id": "_SmDdecGUoSC"
   },
   "execution_count": null,
   "outputs": []
  },
  {
   "cell_type": "markdown",
   "source": [
    "<details><summary>Reveal</summary>\n",
    "\n",
    "```python\n",
    "feature_library_fn = ps.PolynomialLibrary(degree=3)\n",
    "```\n",
    "</details>"
   ],
   "metadata": {
    "id": "-Ceby5o4K-gI"
   }
  },
  {
   "cell_type": "code",
   "source": [
    "optimizer_fn = ..."
   ],
   "metadata": {
    "id": "r5P2NuXhUoSD"
   },
   "execution_count": null,
   "outputs": []
  },
  {
   "cell_type": "markdown",
   "source": [
    "<details><summary>Reveal</summary>\n",
    "\n",
    "```python\n",
    "optimizer_fn = ps.STLSQ(threshold=0.04)\n",
    "```\n",
    "</details>"
   ],
   "metadata": {
    "id": "drScsFZcK-3i"
   }
  },
  {
   "cell_type": "code",
   "source": [
    "model_fn = ... # TODO: set up the model. We will reuse differentiation_method from before"
   ],
   "metadata": {
    "id": "tznb8n1TUoSE"
   },
   "execution_count": null,
   "outputs": []
  },
  {
   "cell_type": "markdown",
   "source": [
    "<details><summary>Reveal</summary>\n",
    "\n",
    "```python\n",
    "model_fn = ps.SINDy(\n",
    "    differentiation_method=differentiation_method,\n",
    "    feature_library=feature_library_fn,\n",
    "    optimizer=optimizer_fn,\n",
    ")\n",
    "```\n",
    "</details>"
   ],
   "metadata": {
    "id": "4CTs_u7XK_Mv"
   }
  },
  {
   "cell_type": "code",
   "source": [
    "model_fn.fit(\n",
    "    # TODO: fit the model\n",
    ")\n"
   ],
   "metadata": {
    "id": "lkoIX7BaUoSE"
   },
   "execution_count": null,
   "outputs": []
  },
  {
   "cell_type": "markdown",
   "source": [
    "<details><summary>Reveal</summary>\n",
    "\n",
    "```python\n",
    "model_fn.fit(\n",
    "    data_fn,\n",
    "    t=time_fn,\n",
    "    feature_names=[\"v\", \"w\"],\n",
    ")\n",
    "```\n",
    "</details>"
   ],
   "metadata": {
    "id": "RP28_6DUK_iH"
   }
  },
  {
   "cell_type": "code",
   "source": [
    "model_fn.print()"
   ],
   "metadata": {
    "id": "HqecokuHUoSF"
   },
   "execution_count": null,
   "outputs": []
  },
  {
   "cell_type": "code",
   "source": [
    "sim_fn = model_fn.simulate(z0_fn,t=time_fn)"
   ],
   "metadata": {
    "id": "YcigsyUVUoSF"
   },
   "execution_count": null,
   "outputs": []
  },
  {
   "cell_type": "markdown",
   "source": [
    "<details><summary>Reveal</summary>\n",
    "\n",
    "```python\n",
    "Xdot_sim = (data[1:,:] - data[:-1,:])/(time[1:] - time[:-1])[:, np.newaxis]\n",
    "Xdot_sim = np.concatenate((Xdot_sim,Xdot_sim[-2:-1,:]), axis=0)\n",
    "```\n",
    "</details>"
   ],
   "metadata": {
    "id": "a79a8nklLAF-"
   }
  },
  {
   "cell_type": "code",
   "source": [
    "plt.figure(figsize=(10, 6))\n",
    "plt.plot(time_fn, data_fn[:, 0], label='v (Membrane Potential)')\n",
    "plt.plot(time_fn, data_fn[:, 1], label='w (Recovery Variable)')\n",
    "plt.plot(time_fn, sim_fn[:, 1], \"m--\", label=\"SINDy model, v\", linewidth=3)\n",
    "plt.plot(time_fn, sim_fn[:, 0], \"c--\", label=\"SINDy model, w\", linewidth=3)\n",
    "plt.xlabel('Time')\n",
    "plt.ylabel('State Variable')\n",
    "plt.title('FitzHugh-Nagumo Model Simulation')\n",
    "plt.legend()\n",
    "plt.grid(True)\n",
    "plt.show()\n"
   ],
   "metadata": {
    "id": "XfC0P-QdUoSG"
   },
   "execution_count": null,
   "outputs": []
  },
  {
   "cell_type": "markdown",
   "source": [
    "#### Analyzing the results\n",
    "\n",
    "We will compare the derivatives, that we estimated from the data, with the ones SINDy found. We can save the estimated derivates by calling our `differentiation_method` on the data."
   ],
   "metadata": {
    "id": "L3xLahumAobE"
   }
  },
  {
   "cell_type": "code",
   "source": [
    "X_dot_computed = ..."
   ],
   "metadata": {
    "id": "8ANL56vR59Cl"
   },
   "execution_count": null,
   "outputs": []
  },
  {
   "cell_type": "markdown",
   "source": [
    "<details><summary>Reveal</summary>\n",
    "\n",
    "```python\n",
    "X_dot_computed = differentiation_method(data_fn, t = time_fn)\n",
    "```\n",
    "</details>"
   ],
   "metadata": {
    "id": "-7oL4fNJLCTr"
   }
  },
  {
   "cell_type": "markdown",
   "source": [
    "Calling the `predict` method of our fitted model returns the right-hand side of the learned model."
   ],
   "metadata": {
    "id": "o6bgpFWaBvDp"
   }
  },
  {
   "cell_type": "code",
   "source": [
    "X_dot_predicted = ..."
   ],
   "metadata": {
    "id": "mNT0gzkTUTAf"
   },
   "execution_count": null,
   "outputs": []
  },
  {
   "cell_type": "markdown",
   "source": [
    "<details><summary>Reveal</summary>\n",
    "\n",
    "```python\n",
    "X_dot_predicted = model_fn.predict(data_fn)\n",
    "```\n",
    "</details>"
   ],
   "metadata": {
    "id": "Go3jijRGLCzx"
   }
  },
  {
   "cell_type": "code",
   "source": [
    "fig, axs = plt.subplots(data_fn.shape[1], 1, sharex=True, figsize=(7, 9))\n",
    "for i in range(data_fn.shape[1]):\n",
    "    axs[i].plot(time_fn, X_dot_computed[:, i], \"k\", label=\"numerical derivative\")\n",
    "    axs[i].plot(time_fn, X_dot_predicted[:, i], \"r--\", label=\"model prediction\")\n",
    "    axs[i].legend()\n",
    "axs[0].set(xlabel=\"t\", ylabel=r\"$\\dot v$\")\n",
    "axs[1].set(xlabel=\"t\", ylabel=r\"$\\dot w$\")\n",
    "fig.show()\n"
   ],
   "metadata": {
    "id": "ncCtw1qp6e0s"
   },
   "execution_count": null,
   "outputs": []
  },
  {
   "cell_type": "markdown",
   "source": [
    "#### Predictions\n",
    "\n",
    "We would also like the model to generalize to a different set of initial conditions. Let's start some place different and simulate both the ground truth and the learned model."
   ],
   "metadata": {
    "id": "6wQALhLldrNA"
   }
  },
  {
   "cell_type": "code",
   "source": [
    "z0_pred = ...\n",
    "sol_pred = solve_ivp(\n",
    "    # TODO: integrate the FitzHugh-Nagamu model with new initial conditions\n",
    "    )\n",
    "pred_fn = ... # TODO: simulate the identified system"
   ],
   "metadata": {
    "id": "Im-q83CNdvjz"
   },
   "execution_count": null,
   "outputs": []
  },
  {
   "cell_type": "markdown",
   "source": [
    "<details><summary>Reveal</summary>\n",
    "\n",
    "```python\n",
    "z0_pred = np.random.randn(2)\n",
    "sol_pred = solve_ivp(\n",
    "    fun=lambda t, z: fitzhugh_nagumo(t, z, a, b, tau, I_ext),\n",
    "    t_span=tspan_fn,\n",
    "    y0=z0_pred,\n",
    "    t_eval=time_fn)\n",
    "pred_fn = model_fn.simulate(z0_pred,t=time_fn)\n",
    "```\n",
    "</details>"
   ],
   "metadata": {
    "id": "ClUBSiqZLEqc"
   }
  },
  {
   "cell_type": "code",
   "source": [
    "plt.figure(figsize=(10, 6))\n",
    "plt.plot(time_fn, sol_pred.y[0,:], label='v (Membrane Potential)')\n",
    "plt.plot(time_fn, sol_pred.y[1,:], label='w (Recovery Variable)')\n",
    "plt.plot(time_fn, pred_fn[:, 1], \"m--\", label=\"SINDy model, v\", linewidth=3)\n",
    "plt.plot(time_fn, pred_fn[:, 0], \"c--\", label=\"SINDy model, w\", linewidth=3)\n",
    "plt.xlabel('Time')\n",
    "plt.ylabel('State Variable')\n",
    "plt.title('FitzHugh-Nagumo Model Simulation')\n",
    "plt.legend()\n",
    "plt.grid(True)\n",
    "plt.show()\n"
   ],
   "metadata": {
    "id": "H8KTQ2lp6ZG9"
   },
   "execution_count": null,
   "outputs": []
  },
  {
   "cell_type": "code",
   "source": [],
   "metadata": {
    "id": "FNsXJAmuHFQM"
   },
   "execution_count": null,
   "outputs": []
  }
 ]
}
