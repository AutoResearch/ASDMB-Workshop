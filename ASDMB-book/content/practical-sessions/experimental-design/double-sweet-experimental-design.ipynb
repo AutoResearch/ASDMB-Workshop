{
 "cells": [
  {
   "metadata": {},
   "cell_type": "markdown",
   "source": [
    "# Double Sweet Experimental Design\n",
    "> Colab tip: Open the left sidebar (☰)  -> **Table of Contents** to navigate this notebook.\n",
    "[![Open In Colab](https://colab.research.google.com/assets/colab-badge.svg)](https://colab.research.google.com/github/AutoResearch/ASDMB-Workshop/blob/main/ASDMB-book/content/practical-sessions/experimental-design/double-sweet-experimental-design.ipynb)\n"
   ],
   "id": "2018579d87e369b5"
  },
  {
   "metadata": {
    "ExecuteTime": {
     "end_time": "2025-09-25T12:05:24.386866Z",
     "start_time": "2025-09-25T12:05:19.397466Z"
    }
   },
   "cell_type": "code",
   "source": [
    "%%capture\n",
    "\n",
    "%pip install sweetpea\n",
    "%pip install sweetbean"
   ],
   "id": "1bee35d70280b7b1",
   "outputs": [],
   "execution_count": 1
  },
  {
   "metadata": {},
   "cell_type": "markdown",
   "source": "",
   "id": "600a35af2ba0aa53"
  },
  {
   "metadata": {
    "ExecuteTime": {
     "end_time": "2025-09-25T12:08:26.398498Z",
     "start_time": "2025-09-25T12:08:22.935591Z"
    }
   },
   "cell_type": "code",
   "source": [
    "from sweetbean import Block, Experiment\n",
    "from sweetbean.stimulus import Text\n",
    "\n",
    "seq = [\n",
    "    # TODO: add RED in red for 2000ms\n",
    "]\n",
    "\n",
    "block = Block(seq)\n",
    "experiment = Experiment([block])\n",
    "experiment.to_html('experiment.html')"
   ],
   "id": "5096da311f7920cc",
   "outputs": [],
   "execution_count": 4
  },
  {
   "metadata": {},
   "cell_type": "markdown",
   "source": [
    "<details><summary>Reveal</summary>\n",
    "```python\n",
    "seq = [\n",
    "    Text(test='RED', color='red', duration=2000)\n",
    "    ]\n",
    "```\n",
    "</details>"
   ],
   "id": "4f599f9fbb867d5c"
  },
  {
   "metadata": {},
   "cell_type": "code",
   "outputs": [],
   "execution_count": null,
   "source": "",
   "id": "435165efe96173b2"
  }
 ],
 "metadata": {
  "kernelspec": {
   "display_name": "Python 3",
   "language": "python",
   "name": "python3"
  },
  "language_info": {
   "codemirror_mode": {
    "name": "ipython",
    "version": 2
   },
   "file_extension": ".py",
   "mimetype": "text/x-python",
   "name": "python",
   "nbconvert_exporter": "python",
   "pygments_lexer": "ipython2",
   "version": "2.7.6"
  }
 },
 "nbformat": 4,
 "nbformat_minor": 5
}
