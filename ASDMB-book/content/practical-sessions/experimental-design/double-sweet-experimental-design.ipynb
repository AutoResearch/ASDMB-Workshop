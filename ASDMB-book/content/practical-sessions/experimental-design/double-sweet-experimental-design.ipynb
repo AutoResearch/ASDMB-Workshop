{
 "cells": [
  {
   "metadata": {},
   "cell_type": "markdown",
   "source": [
    "# Double Sweet Experimental Design\n",
    "> Colab tip: Open the left sidebar (☰)  -> **Table of Contents** to navigate this notebook.\n",
    "[![Open In Colab](https://colab.research.google.com/assets/colab-badge.svg)](https://colab.research.google.com/github/AutoResearch/ASDMB-Workshop/blob/main/ASDMB-book/content/practical-sessions/experimental-design/double-sweet-experimental-design.ipynb)\n"
   ],
   "id": "2018579d87e369b5"
  },
  {
   "metadata": {
    "ExecuteTime": {
     "end_time": "2025-09-25T12:05:24.386866Z",
     "start_time": "2025-09-25T12:05:19.397466Z"
    }
   },
   "cell_type": "code",
   "source": [
    "from graph_scheduler import WithNode\n",
    "%%capture\n",
    "\n",
    "%pip install sweetpea\n",
    "%pip install sweetbean"
   ],
   "id": "1bee35d70280b7b1",
   "outputs": [],
   "execution_count": 1
  },
  {
   "metadata": {},
   "cell_type": "markdown",
   "source": [
    "## SweetBean: Creating A static Experiment\n",
    "\n",
    "To create a simple experiment with SweetBean, we define a sequence of stimuli. This get added to a block, which in turn gets added to an experiment. Finally, we export the experiment to an HTML file.\n",
    "\n",
    "Each stimulus is defined by a class, which can be found in the `sweetbean.stimulus` module.\n",
    "\n",
    "SweetBean supports a variety of output-formats for your experiment. The most convenient to test your experiment locally is the html format. Here, we also add a path for local download of the data so we can look at what data is collected during the experiment."
   ],
   "id": "600a35af2ba0aa53"
  },
  {
   "metadata": {
    "ExecuteTime": {
     "end_time": "2025-09-25T17:14:40.395141Z",
     "start_time": "2025-09-25T17:14:40.377702Z"
    }
   },
   "cell_type": "code",
   "source": [
    "from sweetbean import Block, Experiment\n",
    "from sweetbean.stimulus import Text\n",
    "\n",
    "seq = [\n",
    "    # TODO: add RED in red for 2000ms\n",
    "]\n",
    "\n",
    "block = Block(seq)\n",
    "experiment = Experiment([block])\n",
    "experiment.to_html('experiment.html')\n"
   ],
   "id": "5096da311f7920cc",
   "outputs": [],
   "execution_count": 5
  },
  {
   "metadata": {},
   "cell_type": "markdown",
   "source": [
    "<details><summary>Reveal</summary>\n",
    "\n",
    "```python\n",
    "seq = [\n",
    "    Text(text='RED', color='red', duration=2000)\n",
    "    ]\n",
    "```\n",
    "\n",
    "</details>"
   ],
   "id": "4f599f9fbb867d5c"
  },
  {
   "metadata": {},
   "cell_type": "markdown",
   "source": [
    "## SweetBean: The Timeline Feature\n",
    "\n",
    "The most prominent feature of SweetBean is the timeline feature. Experiments are characterized by two objects:\n",
    "\n",
    "- A **Stimulus Sequence**: A sequence of stimuli that are presented to the participant over and over again.\n",
    "- A **Task Timeline**: A sequence of parameters that parametrize the stimulus sequence."
   ],
   "id": "b46f4fe32ea4bebb"
  },
  {
   "metadata": {},
   "cell_type": "code",
   "outputs": [],
   "execution_count": null,
   "source": [
    "from sweetbean.variable import TimelineVariable\n",
    "\n",
    "timeline = [\n",
    "    # TODO: add a timeline that parametrizes each sequence\n",
    "]\n",
    "\n",
    "seq = [\n",
    "    # TODO: add RED in red for 2000ms\n",
    "]\n",
    "\n",
    "block = Block(seq, timeline=timeline)\n",
    "experiment = Experiment([block])\n",
    "experiment.to_html('experiment.html')\n"
   ],
   "id": "25a433941dc593e9"
  },
  {
   "metadata": {},
   "cell_type": "markdown",
   "source": [
    "<details><summary>Reveal</summary>\n",
    "\n",
    "```python\n",
    "from sweetbean.variable import TimelineVariable\n",
    "\n",
    "timeline = [\n",
    "    {'word': 'RED', 'color': 'red'},\n",
    "    {'word': 'GREEN', 'color': 'green'},\n",
    "]\n",
    "\n",
    "seq = [\n",
    "    Text(text=TimelineVariable('word'), color=TimelineVariable('color'), duration=2000),\n",
    "]\n",
    "\n",
    "block = Block(seq, timeline=timeline)\n",
    "experiment = Experiment([block])\n",
    "experiment.to_html('experiment.html')\n",
    "```\n",
    "</details>"
   ],
   "id": "85232ee3bc21c985"
  },
  {
   "metadata": {},
   "cell_type": "markdown",
   "source": [
    "## A *Perfectly Balanced* Experiment:\n",
    "> Disproving the *Myth* of the Stroop Effect and Cognitive Control\n"
   ],
   "id": "c850d342576d88cd"
  },
  {
   "metadata": {
    "ExecuteTime": {
     "end_time": "2025-09-25T17:48:06.405969Z",
     "start_time": "2025-09-25T17:48:02.836977Z"
    }
   },
   "cell_type": "code",
   "source": [
    "import random\n",
    "from sweetbean.stimulus import Blank\n",
    "\n",
    "timeline = []\n",
    "\n",
    "seq = [\n",
    "    Text(text=TimelineVariable('word'), color=TimelineVariable('color'), duration=1000),\n",
    "    Blank(duration=400)\n",
    "]\n",
    "\n",
    "block = Block(seq, timeline=timeline)\n",
    "experiment = Experiment([block])\n",
    "experiment.to_html('experiment.html')"
   ],
   "id": "7deaf50266363987",
   "outputs": [],
   "execution_count": 13
  },
  {
   "metadata": {},
   "cell_type": "markdown",
   "source": [
    "<details><summary>Reveal</summary>\n",
    "\n",
    "```python\n",
    "incongruent_stimuli = [\n",
    "    {'word': 'GREEN', 'color': 'red'},\n",
    "    {'word': 'BLUE', 'color': 'red'},\n",
    "    {'word': 'YELLOW', 'color': 'red'}\n",
    "]\n",
    "congruent_stimuli = [\n",
    "    {'word': 'PURPLE', 'color': 'purple'},\n",
    "    {'word': 'ORANGE', 'color': 'orange'},\n",
    "\n",
    "]\n",
    "\n",
    "timeline = random.choices(incongruent_stimuli, k=32) + random.choices(congruent_stimuli, k=4)\n",
    "random.shuffle(timeline)\n",
    "timeline = random.choices(incongruent_stimuli, k=4) + timeline\n",
    "```\n",
    "\n",
    "</details>\n"
   ],
   "id": "d7b065ea161ef190"
  },
  {
   "metadata": {},
   "cell_type": "markdown",
   "source": [
    "A *More Perfectly Balanced* Experiment:\n",
    "> Disproving the *Myth* of the Switch Costs"
   ],
   "id": "fb5cbda88c13ff34"
  },
  {
   "metadata": {
    "ExecuteTime": {
     "end_time": "2025-09-25T18:05:07.715239Z",
     "start_time": "2025-09-25T18:05:00.833062Z"
    }
   },
   "cell_type": "code",
   "source": [
    "import random\n",
    "from sweetbean.stimulus import Blank\n",
    "\n",
    "timeline = [\n",
    "    {'task': 'color naming', 'word': 'RED', 'color': 'red'},\n",
    "    {'task': 'color naming', 'word': 'RED', 'color': 'green'},\n",
    "    {'task': 'word reading', 'word': 'GREEN', 'color': 'blue'},\n",
    "    {'task': 'word reading', 'word': 'BLUE', 'color': 'red'},\n",
    "    {'task': 'color naming', 'word': 'BLUE', 'color': 'blue'},\n",
    "    {'task': 'color naming', 'word': 'ORANGE', 'color': 'purple'},\n",
    "    {'task': 'color naming', 'word': 'GREEN', 'color': 'red'},\n",
    "    {'task': 'word reading', 'word': 'GREEN', 'color': 'green'},\n",
    "    {'task': 'color naming', 'word': 'GREEN', 'color': 'green'},\n",
    "    {'task': 'color naming', 'word': 'YELLOW', 'color': 'purple'},\n",
    "    {'task': 'color naming', 'word': 'BLUE', 'color': 'red'},\n",
    "    {'task': 'word reading', 'word': 'BLUE', 'color': 'blue'},\n",
    "    {'task': 'word reading', 'word': 'RED', 'color': 'blue'},\n",
    "    {'task': 'color naming', 'word': 'GREEN', 'color': 'red'},\n",
    "    {'task': 'word reading', 'word': 'RED', 'color': 'yellow'},\n",
    "    {'task': 'color naming', 'word': 'ORANGE', 'color': 'red'},\n",
    "    {'task': 'word reading', 'word': 'RED', 'color': 'green'},\n",
    "    {'task': 'word reading', 'word': 'PURPLE', 'color': 'blue'},\n",
    "    {'task': 'word reading', 'word': 'RED', 'color': 'green'},\n",
    "    {'task': 'color naming', 'word': 'RED', 'color': 'red'},\n",
    "    {'task': 'word reading', 'word': 'RED', 'color': 'green'},\n",
    "    {'task': 'color naming', 'word': 'BLUE', 'color': 'red'},\n",
    "]\n",
    "\n",
    "seq = [\n",
    "    Text(text=TimelineVariable('task'), duration=1000),\n",
    "    Text(text=TimelineVariable('word'), color=TimelineVariable('color'), duration=2000),\n",
    "    Blank(duration=400)\n",
    "]\n",
    "\n",
    "block = Block(seq, timeline=timeline)\n",
    "experiment = Experiment([block])\n",
    "experiment.to_html('experiment.html')"
   ],
   "id": "42e993d8e6675b3f",
   "outputs": [],
   "execution_count": 14
  },
  {
   "metadata": {},
   "cell_type": "markdown",
   "source": [
    "## A Reasonable Approach to Creating the Timeline: SweetPea\n",
    "\n",
    "### Regular Factors\n"
   ],
   "id": "7d512652d7690a32"
  },
  {
   "metadata": {},
   "cell_type": "code",
   "outputs": [],
   "execution_count": null,
   "source": [
    "from sweetpea import CrossBlock, synthesize_trials, experiments_to_dicts, Factor\n",
    "\n",
    "### SweetPea ###\n",
    "# TODO: implement factors here\n",
    "\n",
    "design = []\n",
    "crossing = []\n",
    "constraints = []\n",
    "\n",
    "cross_block = CrossBlock(design, crossing, constraints)\n",
    "_timelines = synthesize_trials(cross_block, 1)\n",
    "timelines = experiments_to_dicts(cross_block, _timelines)\n",
    "\n",
    "### SweetBean ###\n",
    "# TODO: implement stimulus sequence here\n",
    "seq = [\n",
    "\n",
    "]\n",
    "\n",
    "blocks = []\n",
    "for timeline in timelines:\n",
    "    blocks.append(Block(seq, timeline=timeline))\n",
    "experiment = Experiment(blocks)\n",
    "experiment.to_html('experiment.html')"
   ],
   "id": "f6a2d57ce09a7a56"
  },
  {
   "metadata": {},
   "cell_type": "markdown",
   "source": [
    "<details><summary>Reveal</summary>\n",
    "\n",
    "```python\n",
    "from sweetpea import CrossBlock, synthesize_trials, experiments_to_dicts, Factor\n",
    "\n",
    "\n",
    "### SweetPea ###\n",
    "word = Factor('word', ['RED', 'GREEN'])\n",
    "color = Factor('color', ['red', 'green'])\n",
    "task = Factor('task', ['color naming', 'word reading'])\n",
    "\n",
    "\n",
    "design = [word, color, task]\n",
    "crossing = [word, color, task]\n",
    "constraints = []\n",
    "\n",
    "cross_block = CrossBlock(design, crossing, constraints)\n",
    "_timelines = synthesize_trials(cross_block, 1)\n",
    "timelines = experiments_to_dicts(cross_block, _timelines)\n",
    "\n",
    "### SweetBean ###\n",
    "\n",
    "seq = [\n",
    "    Text(text=TimelineVariable('task'), duration=1000),\n",
    "    Text(text=TimelineVariable('word'), color=TimelineVariable('color'), duration=2000),\n",
    "    Blank(duration=400)\n",
    "]\n",
    "\n",
    "blocks = []\n",
    "for timeline in timelines:\n",
    "    blocks.append(Block(seq, timeline=timeline))\n",
    "experiment = Experiment(blocks)\n",
    "experiment.to_html('experiment.html')\n",
    "```"
   ],
   "id": "c0c1678ad36291e9"
  },
  {
   "metadata": {},
   "cell_type": "markdown",
   "source": "## Derived Factors",
   "id": "447682f7e08914ad"
  },
  {
   "metadata": {
    "ExecuteTime": {
     "end_time": "2025-09-25T18:28:30.106935Z",
     "start_time": "2025-09-25T18:28:23.291161Z"
    }
   },
   "cell_type": "code",
   "source": [
    "from sweetpea import CrossBlock, synthesize_trials, experiments_to_dicts, Factor, DerivedLevel, WithinTrial\n",
    "\n",
    "\n",
    "### SweetPea ###\n",
    "word = Factor('word', ['RED', 'GREEN', 'BLUE', 'YELLOW', 'ORANGE', 'PURPLE'])\n",
    "color = Factor('color', ['red', 'green', 'blue'])\n",
    "task = Factor('task', ['color naming', 'word reading'])\n",
    "\n",
    "## Congruency\n",
    "\n",
    "# TODO: implement congruency derived factor here\n",
    "\n",
    "\n",
    "design = [word, color, task, congruency]\n",
    "crossing = [congruency, task]\n",
    "constraints = []\n",
    "\n",
    "cross_block = CrossBlock(design, crossing, constraints)\n",
    "_timelines = synthesize_trials(cross_block, 1)\n",
    "timelines = experiments_to_dicts(cross_block, _timelines)\n",
    "\n",
    "### SweetBean ###\n",
    "\n",
    "seq = [\n",
    "    Text(text=TimelineVariable('task'), duration=1000),\n",
    "    Text(text=TimelineVariable('word'), color=TimelineVariable('color'), duration=2000),\n",
    "    Blank(duration=400)\n",
    "]\n",
    "\n",
    "blocks = []\n",
    "for timeline in timelines:\n",
    "    blocks.append(Block(seq, timeline=timeline))\n",
    "experiment = Experiment(blocks)\n",
    "experiment.to_html('experiment.html')"
   ],
   "id": "838f4ea234e6b4e1",
   "outputs": [
    {
     "name": "stdout",
     "output_type": "stream",
     "text": [
      "Sampling 1 trial sequences using NonUniformGen.\n",
      "Encoding experiment constraints...\n",
      "Running CryptoMiniSat...\n"
     ]
    }
   ],
   "execution_count": 19
  },
  {
   "metadata": {},
   "cell_type": "markdown",
   "source": [
    "<details><summary>Reveal</summary>\n",
    "\n",
    "```python\n",
    "from sweetpea import CrossBlock, synthesize_trials, experiments_to_dicts, Factor, DerivedLevel, WithinTrial\n",
    "\n",
    "\n",
    "### SweetPea ###\n",
    "word = Factor('word', ['RED', 'GREEN', 'BLUE', 'YELLOW', 'ORANGE', 'PURPLE'])\n",
    "color = Factor('color', ['red', 'green', 'blue'])\n",
    "task = Factor('task', ['color naming', 'word reading'])\n",
    "\n",
    "## Congruency\n",
    "\n",
    "### Functions\n",
    "def is_congruent(_word, _color):\n",
    "    return _word.lower() == _color.lower()\n",
    "\n",
    "def is_incongruent(_word, _color):\n",
    "    return not is_congruent(_word, _color)\n",
    "\n",
    "\n",
    "congruent_level = DerivedLevel('congruent', WithinTrial(is_congruent, [color, word]))\n",
    "incongruent_level = DerivedLevel('incongruent', WithinTrial(is_incongruent, [color, word]))\n",
    "\n",
    "congruency = Factor('congruency', [congruent_level, incongruent_level])\n",
    "\n",
    "\n",
    "design = [word, color, task, congruency]\n",
    "crossing = [congruency, task]\n",
    "constraints = []\n",
    "\n",
    "cross_block = CrossBlock(design, crossing, constraints)\n",
    "_timelines = synthesize_trials(cross_block, 1)\n",
    "timelines = experiments_to_dicts(cross_block, _timelines)\n",
    "\n",
    "### SweetBean ###\n",
    "\n",
    "seq = [\n",
    "    Text(text=TimelineVariable('task'), duration=1000),\n",
    "    Text(text=TimelineVariable('word'), color=TimelineVariable('color'), duration=2000),\n",
    "    Blank(duration=400)\n",
    "]\n",
    "\n",
    "blocks = []\n",
    "for timeline in timelines:\n",
    "    blocks.append(Block(seq, timeline=timeline))\n",
    "experiment = Experiment(blocks)\n",
    "experiment.to_html('experiment.html')\n",
    "```\n",
    "\n",
    "</details>"
   ],
   "id": "7048a08e87ae63b6"
  },
  {
   "metadata": {},
   "cell_type": "code",
   "outputs": [],
   "execution_count": null,
   "source": "",
   "id": "6b46dc117e36a557"
  }
 ],
 "metadata": {
  "kernelspec": {
   "display_name": "Python 3",
   "language": "python",
   "name": "python3"
  },
  "language_info": {
   "codemirror_mode": {
    "name": "ipython",
    "version": 2
   },
   "file_extension": ".py",
   "mimetype": "text/x-python",
   "name": "python",
   "nbconvert_exporter": "python",
   "pygments_lexer": "ipython2",
   "version": "2.7.6"
  }
 },
 "nbformat": 4,
 "nbformat_minor": 5
}
