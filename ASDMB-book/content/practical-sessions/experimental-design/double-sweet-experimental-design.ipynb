{
 "cells": [
  {
   "metadata": {},
   "cell_type": "markdown",
   "source": [
    "# Double Sweet Experimental Design\n",
    "> Colab tip: Open the left sidebar (☰)  -> **Table of Contents** to navigate this notebook.\n",
    "[![Open In Colab](https://colab.research.google.com/assets/colab-badge.svg)](https://colab.research.google.com/github/AutoResearch/ASDMB-Workshop/blob/main/ASDMB-book/content/practical-sessions/experimental-design/double-sweet-experimental-design.ipynb)\n"
   ],
   "id": "2018579d87e369b5"
  },
  {
   "metadata": {
    "ExecuteTime": {
     "end_time": "2025-09-25T12:05:24.386866Z",
     "start_time": "2025-09-25T12:05:19.397466Z"
    }
   },
   "cell_type": "code",
   "source": [
    "%%capture\n",
    "\n",
    "%pip install sweetpea\n",
    "%pip install sweetbean"
   ],
   "id": "1bee35d70280b7b1",
   "outputs": [],
   "execution_count": 1
  },
  {
   "metadata": {},
   "cell_type": "markdown",
   "source": [
    "## SweetBean: Creating A static Experiment\n",
    "\n",
    "To create a simple experiment with SweetBean, we define a sequence of stimuli. This get added to a block, which in turn gets added to an experiment. Finally, we export the experiment to an HTML file.\n",
    "\n",
    "Each stimulus is defined by a class, which can be found in the `sweetbean.stimulus` module.\n",
    "\n",
    "SweetBean supports a variety of output-formats for your experiment. The most convenient to test your experiment locally is the html format. Here, we also add a path for local download of the data so we can look at what data is collected during the experiment."
   ],
   "id": "600a35af2ba0aa53"
  },
  {
   "metadata": {
    "ExecuteTime": {
     "end_time": "2025-09-25T17:14:40.395141Z",
     "start_time": "2025-09-25T17:14:40.377702Z"
    }
   },
   "cell_type": "code",
   "source": [
    "from sweetbean import Block, Experiment\n",
    "from sweetbean.stimulus import Text\n",
    "\n",
    "seq = [\n",
    "    # TODO: add RED in red for 2000ms\n",
    "]\n",
    "\n",
    "block = Block(seq)\n",
    "experiment = Experiment([block])\n",
    "experiment.to_html('experiment.html')\n"
   ],
   "id": "5096da311f7920cc",
   "outputs": [],
   "execution_count": 5
  },
  {
   "metadata": {},
   "cell_type": "markdown",
   "source": [
    "<details><summary>Reveal</summary>\n",
    "\n",
    "```python\n",
    "seq = [\n",
    "    Text(text='RED', color='red', duration=2000)\n",
    "    ]\n",
    "```\n",
    "\n",
    "</details>"
   ],
   "id": "4f599f9fbb867d5c"
  },
  {
   "metadata": {},
   "cell_type": "markdown",
   "source": [
    "## SweetBean: The Timeline Feature\n",
    "\n",
    "The most prominent feature of SweetBean is the timeline feature. Experiments are characterized by two objects:\n",
    "\n",
    "- A **Stimulus Sequence**: A sequence of stimuli that are presented to the participant over and over again.\n",
    "- A **Task Timeline**: A sequence of parameters that parametrize the stimulus sequence."
   ],
   "id": "b46f4fe32ea4bebb"
  },
  {
   "metadata": {},
   "cell_type": "code",
   "outputs": [],
   "execution_count": null,
   "source": [
    "from sweetbean.variable import TimelineVariable\n",
    "\n",
    "timeline = [\n",
    "    # TODO: add a timeline that parametrizes each sequence\n",
    "]\n",
    "\n",
    "seq = [\n",
    "    # TODO: add RED in red for 2000ms\n",
    "]\n",
    "\n",
    "block = Block(seq, timeline=timeline)\n",
    "experiment = Experiment([block])\n",
    "experiment.to_html('experiment.html')\n"
   ],
   "id": "25a433941dc593e9"
  },
  {
   "metadata": {},
   "cell_type": "markdown",
   "source": [
    "<details><summary>Reveal</summary>\n",
    "\n",
    "```python\n",
    "from sweetbean.variable import TimelineVariable\n",
    "\n",
    "timeline = [\n",
    "    {'word': 'RED', 'color': 'red'},\n",
    "    {'word': 'GREEN', 'color': 'green'},\n",
    "]\n",
    "\n",
    "seq = [\n",
    "    Text(text=TimelineVariable('word'), color=TimelineVariable('color'), duration=2000),\n",
    "]\n",
    "\n",
    "block = Block(seq, timeline=timeline)\n",
    "experiment = Experiment([block])\n",
    "experiment.to_html('experiment.html')\n",
    "```\n",
    "</details>"
   ],
   "id": "85232ee3bc21c985"
  },
  {
   "metadata": {},
   "cell_type": "code",
   "outputs": [],
   "execution_count": null,
   "source": "",
   "id": "7deaf50266363987"
  }
 ],
 "metadata": {
  "kernelspec": {
   "display_name": "Python 3",
   "language": "python",
   "name": "python3"
  },
  "language_info": {
   "codemirror_mode": {
    "name": "ipython",
    "version": 2
   },
   "file_extension": ".py",
   "mimetype": "text/x-python",
   "name": "python",
   "nbconvert_exporter": "python",
   "pygments_lexer": "ipython2",
   "version": "2.7.6"
  }
 },
 "nbformat": 4,
 "nbformat_minor": 5
}
